{
  "nbformat": 4,
  "nbformat_minor": 0,
  "metadata": {
    "colab": {
      "name": "HW4.ipynb",
      "provenance": [],
      "collapsed_sections": []
    },
    "kernelspec": {
      "name": "python3",
      "display_name": "Python 3"
    },
    "language_info": {
      "name": "python"
    },
    "accelerator": "GPU",
    "widgets": {
      "application/vnd.jupyter.widget-state+json": {
        "e653b2a589574aeea74d5d838b44a462": {
          "model_module": "@jupyter-widgets/controls",
          "model_name": "HBoxModel",
          "model_module_version": "1.5.0",
          "state": {
            "_view_name": "HBoxView",
            "_dom_classes": [],
            "_model_name": "HBoxModel",
            "_view_module": "@jupyter-widgets/controls",
            "_model_module_version": "1.5.0",
            "_view_count": null,
            "_view_module_version": "1.5.0",
            "box_style": "",
            "layout": "IPY_MODEL_47763730229542cabdfa1777cd1fd562",
            "_model_module": "@jupyter-widgets/controls",
            "children": [
              "IPY_MODEL_1cb4b641babe4a5198dd454c553ac05a",
              "IPY_MODEL_8a864f0d0c984ecabb72aa3ae0e7568c",
              "IPY_MODEL_fa0c9418b5064fdba7e6f1bb7ba99eb4"
            ]
          }
        },
        "47763730229542cabdfa1777cd1fd562": {
          "model_module": "@jupyter-widgets/base",
          "model_name": "LayoutModel",
          "model_module_version": "1.2.0",
          "state": {
            "_view_name": "LayoutView",
            "grid_template_rows": null,
            "right": null,
            "justify_content": null,
            "_view_module": "@jupyter-widgets/base",
            "overflow": null,
            "_model_module_version": "1.2.0",
            "_view_count": null,
            "flex_flow": null,
            "width": null,
            "min_width": null,
            "border": null,
            "align_items": null,
            "bottom": null,
            "_model_module": "@jupyter-widgets/base",
            "top": null,
            "grid_column": null,
            "overflow_y": null,
            "overflow_x": null,
            "grid_auto_flow": null,
            "grid_area": null,
            "grid_template_columns": null,
            "flex": null,
            "_model_name": "LayoutModel",
            "justify_items": null,
            "grid_row": null,
            "max_height": null,
            "align_content": null,
            "visibility": null,
            "align_self": null,
            "height": null,
            "min_height": null,
            "padding": null,
            "grid_auto_rows": null,
            "grid_gap": null,
            "max_width": null,
            "order": null,
            "_view_module_version": "1.2.0",
            "grid_template_areas": null,
            "object_position": null,
            "object_fit": null,
            "grid_auto_columns": null,
            "margin": null,
            "display": null,
            "left": null
          }
        },
        "1cb4b641babe4a5198dd454c553ac05a": {
          "model_module": "@jupyter-widgets/controls",
          "model_name": "HTMLModel",
          "model_module_version": "1.5.0",
          "state": {
            "_view_name": "HTMLView",
            "style": "IPY_MODEL_cc8cc694054b4d2698066dcbc69d5f20",
            "_dom_classes": [],
            "description": "",
            "_model_name": "HTMLModel",
            "placeholder": "​",
            "_view_module": "@jupyter-widgets/controls",
            "_model_module_version": "1.5.0",
            "value": "",
            "_view_count": null,
            "_view_module_version": "1.5.0",
            "description_tooltip": null,
            "_model_module": "@jupyter-widgets/controls",
            "layout": "IPY_MODEL_10d6c26a618144c7bbabf834a5b9c7e4"
          }
        },
        "8a864f0d0c984ecabb72aa3ae0e7568c": {
          "model_module": "@jupyter-widgets/controls",
          "model_name": "FloatProgressModel",
          "model_module_version": "1.5.0",
          "state": {
            "_view_name": "ProgressView",
            "style": "IPY_MODEL_e09ae5a458bb4195893fe66d1d56c086",
            "_dom_classes": [],
            "description": "",
            "_model_name": "FloatProgressModel",
            "bar_style": "success",
            "max": 170498071,
            "_view_module": "@jupyter-widgets/controls",
            "_model_module_version": "1.5.0",
            "value": 170498071,
            "_view_count": null,
            "_view_module_version": "1.5.0",
            "orientation": "horizontal",
            "min": 0,
            "description_tooltip": null,
            "_model_module": "@jupyter-widgets/controls",
            "layout": "IPY_MODEL_d769b21d9710400b8eb6ea88805db8ef"
          }
        },
        "fa0c9418b5064fdba7e6f1bb7ba99eb4": {
          "model_module": "@jupyter-widgets/controls",
          "model_name": "HTMLModel",
          "model_module_version": "1.5.0",
          "state": {
            "_view_name": "HTMLView",
            "style": "IPY_MODEL_7e5606c5bd3f49948810df2922e51755",
            "_dom_classes": [],
            "description": "",
            "_model_name": "HTMLModel",
            "placeholder": "​",
            "_view_module": "@jupyter-widgets/controls",
            "_model_module_version": "1.5.0",
            "value": " 170499072/? [00:02&lt;00:00, 54571608.49it/s]",
            "_view_count": null,
            "_view_module_version": "1.5.0",
            "description_tooltip": null,
            "_model_module": "@jupyter-widgets/controls",
            "layout": "IPY_MODEL_a941b31b9aeb41428adbfcf913075cf3"
          }
        },
        "cc8cc694054b4d2698066dcbc69d5f20": {
          "model_module": "@jupyter-widgets/controls",
          "model_name": "DescriptionStyleModel",
          "model_module_version": "1.5.0",
          "state": {
            "_view_name": "StyleView",
            "_model_name": "DescriptionStyleModel",
            "description_width": "",
            "_view_module": "@jupyter-widgets/base",
            "_model_module_version": "1.5.0",
            "_view_count": null,
            "_view_module_version": "1.2.0",
            "_model_module": "@jupyter-widgets/controls"
          }
        },
        "10d6c26a618144c7bbabf834a5b9c7e4": {
          "model_module": "@jupyter-widgets/base",
          "model_name": "LayoutModel",
          "model_module_version": "1.2.0",
          "state": {
            "_view_name": "LayoutView",
            "grid_template_rows": null,
            "right": null,
            "justify_content": null,
            "_view_module": "@jupyter-widgets/base",
            "overflow": null,
            "_model_module_version": "1.2.0",
            "_view_count": null,
            "flex_flow": null,
            "width": null,
            "min_width": null,
            "border": null,
            "align_items": null,
            "bottom": null,
            "_model_module": "@jupyter-widgets/base",
            "top": null,
            "grid_column": null,
            "overflow_y": null,
            "overflow_x": null,
            "grid_auto_flow": null,
            "grid_area": null,
            "grid_template_columns": null,
            "flex": null,
            "_model_name": "LayoutModel",
            "justify_items": null,
            "grid_row": null,
            "max_height": null,
            "align_content": null,
            "visibility": null,
            "align_self": null,
            "height": null,
            "min_height": null,
            "padding": null,
            "grid_auto_rows": null,
            "grid_gap": null,
            "max_width": null,
            "order": null,
            "_view_module_version": "1.2.0",
            "grid_template_areas": null,
            "object_position": null,
            "object_fit": null,
            "grid_auto_columns": null,
            "margin": null,
            "display": null,
            "left": null
          }
        },
        "e09ae5a458bb4195893fe66d1d56c086": {
          "model_module": "@jupyter-widgets/controls",
          "model_name": "ProgressStyleModel",
          "model_module_version": "1.5.0",
          "state": {
            "_view_name": "StyleView",
            "_model_name": "ProgressStyleModel",
            "description_width": "",
            "_view_module": "@jupyter-widgets/base",
            "_model_module_version": "1.5.0",
            "_view_count": null,
            "_view_module_version": "1.2.0",
            "bar_color": null,
            "_model_module": "@jupyter-widgets/controls"
          }
        },
        "d769b21d9710400b8eb6ea88805db8ef": {
          "model_module": "@jupyter-widgets/base",
          "model_name": "LayoutModel",
          "model_module_version": "1.2.0",
          "state": {
            "_view_name": "LayoutView",
            "grid_template_rows": null,
            "right": null,
            "justify_content": null,
            "_view_module": "@jupyter-widgets/base",
            "overflow": null,
            "_model_module_version": "1.2.0",
            "_view_count": null,
            "flex_flow": null,
            "width": null,
            "min_width": null,
            "border": null,
            "align_items": null,
            "bottom": null,
            "_model_module": "@jupyter-widgets/base",
            "top": null,
            "grid_column": null,
            "overflow_y": null,
            "overflow_x": null,
            "grid_auto_flow": null,
            "grid_area": null,
            "grid_template_columns": null,
            "flex": null,
            "_model_name": "LayoutModel",
            "justify_items": null,
            "grid_row": null,
            "max_height": null,
            "align_content": null,
            "visibility": null,
            "align_self": null,
            "height": null,
            "min_height": null,
            "padding": null,
            "grid_auto_rows": null,
            "grid_gap": null,
            "max_width": null,
            "order": null,
            "_view_module_version": "1.2.0",
            "grid_template_areas": null,
            "object_position": null,
            "object_fit": null,
            "grid_auto_columns": null,
            "margin": null,
            "display": null,
            "left": null
          }
        },
        "7e5606c5bd3f49948810df2922e51755": {
          "model_module": "@jupyter-widgets/controls",
          "model_name": "DescriptionStyleModel",
          "model_module_version": "1.5.0",
          "state": {
            "_view_name": "StyleView",
            "_model_name": "DescriptionStyleModel",
            "description_width": "",
            "_view_module": "@jupyter-widgets/base",
            "_model_module_version": "1.5.0",
            "_view_count": null,
            "_view_module_version": "1.2.0",
            "_model_module": "@jupyter-widgets/controls"
          }
        },
        "a941b31b9aeb41428adbfcf913075cf3": {
          "model_module": "@jupyter-widgets/base",
          "model_name": "LayoutModel",
          "model_module_version": "1.2.0",
          "state": {
            "_view_name": "LayoutView",
            "grid_template_rows": null,
            "right": null,
            "justify_content": null,
            "_view_module": "@jupyter-widgets/base",
            "overflow": null,
            "_model_module_version": "1.2.0",
            "_view_count": null,
            "flex_flow": null,
            "width": null,
            "min_width": null,
            "border": null,
            "align_items": null,
            "bottom": null,
            "_model_module": "@jupyter-widgets/base",
            "top": null,
            "grid_column": null,
            "overflow_y": null,
            "overflow_x": null,
            "grid_auto_flow": null,
            "grid_area": null,
            "grid_template_columns": null,
            "flex": null,
            "_model_name": "LayoutModel",
            "justify_items": null,
            "grid_row": null,
            "max_height": null,
            "align_content": null,
            "visibility": null,
            "align_self": null,
            "height": null,
            "min_height": null,
            "padding": null,
            "grid_auto_rows": null,
            "grid_gap": null,
            "max_width": null,
            "order": null,
            "_view_module_version": "1.2.0",
            "grid_template_areas": null,
            "object_position": null,
            "object_fit": null,
            "grid_auto_columns": null,
            "margin": null,
            "display": null,
            "left": null
          }
        }
      }
    }
  },
  "cells": [
    {
      "cell_type": "markdown",
      "metadata": {
        "id": "5wmsumIId1_1"
      },
      "source": [
        "# Q3"
      ]
    },
    {
      "cell_type": "code",
      "metadata": {
        "colab": {
          "base_uri": "https://localhost:8080/",
          "height": 140,
          "referenced_widgets": [
            "e653b2a589574aeea74d5d838b44a462",
            "47763730229542cabdfa1777cd1fd562",
            "1cb4b641babe4a5198dd454c553ac05a",
            "8a864f0d0c984ecabb72aa3ae0e7568c",
            "fa0c9418b5064fdba7e6f1bb7ba99eb4",
            "cc8cc694054b4d2698066dcbc69d5f20",
            "10d6c26a618144c7bbabf834a5b9c7e4",
            "e09ae5a458bb4195893fe66d1d56c086",
            "d769b21d9710400b8eb6ea88805db8ef",
            "7e5606c5bd3f49948810df2922e51755",
            "a941b31b9aeb41428adbfcf913075cf3"
          ]
        },
        "id": "OBgMNY0Bdr5M",
        "outputId": "5e70e497-8952-406f-ae15-78bb0bee2378"
      },
      "source": [
        "\n",
        "\n",
        "import torch\n",
        "import torch.nn as nn\n",
        "import torch.optim as optim\n",
        "import torchvision\n",
        "import torchvision.transforms as transforms\n",
        "import matplotlib.pyplot as plt\n",
        "from sklearn.metrics import confusion_matrix\n",
        "import numpy as np\n",
        "import seaborn as sns\n",
        "import pandas as pd\n",
        "\n",
        "\n",
        "#Data augmentation for train dataset\n",
        "train_transform = transforms.Compose(\n",
        "    [transforms.RandomHorizontalFlip(), #flip in horizontal\n",
        "    transforms.RandomCrop(32, padding=4), #crop random\n",
        "    transforms.ToTensor(),\n",
        "    transforms.Normalize((0.5, 0.5, 0.5), (0.5, 0.5, 0.5))])\n",
        "\n",
        "test_transform = transforms.Compose(\n",
        "    [transforms.ToTensor(),\n",
        "    transforms.Normalize((0.5, 0.5, 0.5), (0.5, 0.5, 0.5))])\n",
        "\n",
        "batch_size = 10\n",
        "\n",
        "trainset = torchvision.datasets.CIFAR10(root='./data', train=True,\n",
        "                                        download=True, transform=train_transform)\n",
        "trainloader = torch.utils.data.DataLoader(trainset, batch_size=batch_size,\n",
        "                                          shuffle=True, num_workers=2)\n",
        "print(len(trainset))\n",
        "\n",
        "testset = torchvision.datasets.CIFAR10(root='./data', train=False,\n",
        "                                       download=True, transform=test_transform)\n",
        "testloader = torch.utils.data.DataLoader(testset, batch_size=batch_size,\n",
        "                                         shuffle=False, num_workers=2)\n",
        "print(len(testset))\n",
        "\n",
        "classes = ('plane', 'car', 'bird', 'cat',\n",
        "           'deer', 'dog', 'frog', 'horse', 'ship', 'truck')"
      ],
      "execution_count": null,
      "outputs": [
        {
          "output_type": "stream",
          "name": "stdout",
          "text": [
            "Downloading https://www.cs.toronto.edu/~kriz/cifar-10-python.tar.gz to ./data/cifar-10-python.tar.gz\n"
          ]
        },
        {
          "output_type": "display_data",
          "data": {
            "application/vnd.jupyter.widget-view+json": {
              "model_id": "e653b2a589574aeea74d5d838b44a462",
              "version_minor": 0,
              "version_major": 2
            },
            "text/plain": [
              "  0%|          | 0/170498071 [00:00<?, ?it/s]"
            ]
          },
          "metadata": {}
        },
        {
          "output_type": "stream",
          "name": "stdout",
          "text": [
            "Extracting ./data/cifar-10-python.tar.gz to ./data\n",
            "50000\n",
            "Files already downloaded and verified\n",
            "10000\n"
          ]
        }
      ]
    },
    {
      "cell_type": "code",
      "metadata": {
        "colab": {
          "base_uri": "https://localhost:8080/"
        },
        "id": "71mgLdyB7vVz",
        "outputId": "757a90fb-9930-4fca-fbe9-241ef9ff92c2"
      },
      "source": [
        "\n",
        "#Resources\n",
        "#https://pytorch.org/tutorials/beginner/blitz/cifar10_tutorial.html\n",
        "#https://www.youtube.com/watch?v=c36lUUr864M\n",
        "#https://androidkt.com/convolutional-neural-network-using-sequential-model-in-pytorch/\n",
        "\n",
        "\n",
        "class CNNNet(nn.Module):\n",
        "\n",
        "  def __init__(self):\n",
        "    super(CNNNet, self).__init__()\n",
        "\n",
        "    self.conv_layer = nn.Sequential(\n",
        "          nn.Conv2d(3, 16, kernel_size=3, padding=1),   #actually kernel size in whole of my network is 3*3  \n",
        "          nn.BatchNorm2d(16),    #we should scale(normalize) data's for better output\n",
        "          nn.ReLU(inplace=True),      #actually i readed somewhere that relu performe better in middle layers\n",
        "          nn.Conv2d(16, 32, kernel_size=3, stride=1, padding=1),  # map from 16 filter to 32 filters (network feature maps)\n",
        "          nn.ReLU(inplace=True),\n",
        "          nn.MaxPool2d(2,2),   #in this stage we reduce our output i think we have 16 over here\n",
        "\n",
        "          nn.Conv2d(32, 64, kernel_size=3, padding=1), # map from 32 filter to 64 filters (network feature maps)\n",
        "          nn.BatchNorm2d(64), #scale\n",
        "          nn.ReLU(inplace=True),\n",
        "          nn.Conv2d(64, 64, kernel_size=3, stride=1, padding=1),\n",
        "          nn.ReLU(inplace=True),\n",
        "          nn.MaxPool2d(2,2), #in this stage we reduce our output i think we have 8 over here\n",
        "\n",
        "          nn.Dropout2d(p=0.04),  #let's see diffrent view each time!!\n",
        "\n",
        "          nn.Conv2d(64, 128, kernel_size=3, padding=1),\n",
        "          nn.BatchNorm2d(128),\n",
        "          nn.ReLU(inplace=True),\n",
        "          nn.Conv2d(128, 128, kernel_size=3, stride=1, padding=1),\n",
        "          nn.ReLU(inplace=True),\n",
        "          nn.MaxPool2d(2,2) #in this stage we reduce our output i think we have 4 over here\n",
        "    )\n",
        "\n",
        "    self.fc_layer = nn.Sequential(\n",
        "        nn.Dropout(p=0.1),\n",
        "\n",
        "        nn.Linear(128*4*4, 512),  #128 ouput and 4*4 feature map\n",
        "        nn.ReLU(inplace=True),\n",
        "\n",
        "        nn.Linear(512,256),\n",
        "        nn.ReLU(inplace=True),\n",
        "\n",
        "        nn.Dropout(p=0.1),\n",
        "\n",
        "        nn.Linear(256,10)\n",
        "    )\n",
        "\n",
        "\n",
        "  def forward(self, x):\n",
        "\n",
        "    x = self.conv_layer(x)\n",
        "    # print(x.shape)\n",
        "    x = x.view(x.size(0), -1)\n",
        "    # print(x.shape)\n",
        "\n",
        "    x = self.fc_layer(x)\n",
        "\n",
        "    return x\n",
        "\n",
        "\n",
        "cnnNet = CNNNet()\n",
        "\n",
        "c_fn=nn.CrossEntropyLoss()\n",
        "\n",
        "# optimizer = optim.SGD(cnnNet.parameters(), lr=0.001)\n",
        "\n",
        "optimizer = optim.Adam(\n",
        "    cnnNet.parameters(),\n",
        "    lr=0.001\n",
        ")\n",
        "\n",
        "# print(cnnNet)\n",
        "print(torch.cuda.device_count())\n",
        "\n",
        "train_on_gpu = torch.cuda.is_available()   #we are going to turn gpu on because without it we should wait for too long(which is not my type!!!)\n",
        "if not train_on_gpu:\n",
        "    print('RUN IN CPU')\n",
        "else:\n",
        "    print('RUN IN GPU')\n",
        "\n",
        "if train_on_gpu:\n",
        "  cnnNet.cuda()  #turn gpu on"
      ],
      "execution_count": null,
      "outputs": [
        {
          "output_type": "stream",
          "name": "stdout",
          "text": [
            "1\n",
            "RUN IN GPU\n"
          ]
        }
      ]
    },
    {
      "cell_type": "code",
      "metadata": {
        "colab": {
          "base_uri": "https://localhost:8080/"
        },
        "id": "FHoBm-N4Fa8I",
        "outputId": "daa603a9-9d2f-4c97-deff-764c945ce594"
      },
      "source": [
        "for epoch in range(2): #going to train for 2 epoch\n",
        "\n",
        "    for i, data in enumerate(trainloader, 0):\n",
        "\n",
        "        inputs, labels = data\n",
        "\n",
        "        if train_on_gpu: #actually tensor of gpu is diffrent from cpu so we should check if it's running with gpu then change tensor\n",
        "            inputs = inputs.cuda()\n",
        "            labels = labels.cuda()\n",
        "\n",
        "        #forward and back\n",
        "        optimizer.zero_grad()\n",
        "        outputs = cnnNet(inputs)\n",
        "        loss = c_fn(outputs, labels)\n",
        "        loss.backward()\n",
        "        optimizer.step()\n",
        "\n",
        "    print(f\"finished epoch{epoch}\")"
      ],
      "execution_count": null,
      "outputs": [
        {
          "output_type": "stream",
          "name": "stderr",
          "text": [
            "/usr/local/lib/python3.7/dist-packages/torch/nn/functional.py:718: UserWarning: Named tensors and all their associated APIs are an experimental feature and subject to change. Please do not use them for anything important until they are released as stable. (Triggered internally at  /pytorch/c10/core/TensorImpl.h:1156.)\n",
            "  return torch.max_pool2d(input, kernel_size, stride, padding, dilation, ceil_mode)\n"
          ]
        },
        {
          "output_type": "stream",
          "name": "stdout",
          "text": [
            "finished epoch0\n",
            "finished epoch1\n"
          ]
        }
      ]
    },
    {
      "cell_type": "code",
      "metadata": {
        "id": "PxO6oCpCqrUA"
      },
      "source": [
        "#save model\n",
        "torch.save(cnnNet.state_dict(), 'cnnNet_cifar.pt')  #save model for load in test phase"
      ],
      "execution_count": null,
      "outputs": []
    },
    {
      "cell_type": "code",
      "metadata": {
        "colab": {
          "base_uri": "https://localhost:8080/",
          "height": 529
        },
        "id": "HGeE1q7EEs21",
        "outputId": "4a4e3a2b-ccd0-4227-c702-77f318557b9a"
      },
      "source": [
        "\n",
        "\n",
        "## load and test\n",
        "# model = cnnNet\n",
        "model = CNNNet()\n",
        "model.load_state_dict(torch.load('cnnNet_cifar.pt')) #load model\n",
        "\n",
        "correct_pred = list(0. for i in range(10))\n",
        "total_pred = list(0. for i in range(10))\n",
        "\n",
        "#turn on gpu if it's available\n",
        "if train_on_gpu:\n",
        "  model.cuda()\n",
        "\n",
        "pred_list=torch.zeros(0,dtype=torch.long, device='cpu')  #predition lists\n",
        "true_list=torch.zeros(0,dtype=torch.long, device='cpu')  #true lists\n",
        "\n",
        "#we should not change model prams during test phase\n",
        "with torch.no_grad():\n",
        "  for data in testloader:\n",
        "\n",
        "    inputs, labels = data\n",
        "\n",
        "    if train_on_gpu: #get cuda tensors\n",
        "        inputs = inputs.cuda()\n",
        "        labels = labels.cuda()\n",
        "\n",
        "    output = model(inputs)\n",
        "    _, preds = torch.max(output, 1) #preds in batch\n",
        "\n",
        "    pred_list=torch.cat([pred_list,preds.view(-1).cpu()])\n",
        "    true_list=torch.cat([true_list,labels.view(-1).cpu()])\n",
        "\n",
        "    correct_preds = preds.eq(   #check number of correct preditions\n",
        "        labels.data.view_as(preds)\n",
        "    )\n",
        "\n",
        "    if train_on_gpu:  #as i said tensor of cpu is diffrent from gpu\n",
        "      correct = np.squeeze(\n",
        "          correct_preds.cpu().numpy()\n",
        "      )\n",
        "    else:\n",
        "      correct = np.squeeze(\n",
        "          correct_preds.numpy()\n",
        "      )\n",
        "    \n",
        "\n",
        "    for i in range(batch_size):  #add each predict label to it's class\n",
        "        label = labels.data[i]\n",
        "        correct_pred[label] += correct[i].item()\n",
        "        total_pred[label] += 1\n",
        "\n",
        "\n",
        "\n",
        "for i in range(10):  #print accuracy of each class\n",
        "  acc = 100 * (correct_pred[i] / total_pred[i])\n",
        "  print(f\"acc of {classes[i]}: {acc}                      and number of predictions/total_pred: {np.sum(correct_pred[i])}/{np.sum(total_pred[i])}\")\n",
        "\n",
        "\n",
        "print(f\"overall accuracy: {100. * (np.sum(correct_pred) / np.sum(total_pred))}\")\n",
        "\n",
        "\n",
        "#Print confusion matrix\n",
        "cm = confusion_matrix(true_list.numpy(), pred_list.numpy())\n",
        "df_cm = pd.DataFrame(cm, index=classes, columns=classes).astype(int)\n",
        "heatmap = sns.heatmap(df_cm, annot=True, fmt=\"d\")\n",
        "\n",
        "heatmap.yaxis.set_ticklabels(heatmap.yaxis.get_ticklabels(), rotation=0, ha='right',fontsize=15)\n",
        "heatmap.xaxis.set_ticklabels(heatmap.xaxis.get_ticklabels(), rotation=45, ha='right',fontsize=15)\n",
        "plt.ylabel('True label')\n",
        "plt.xlabel('Predicted label')"
      ],
      "execution_count": null,
      "outputs": [
        {
          "output_type": "stream",
          "name": "stdout",
          "text": [
            "acc of plane: 73.4                      and number of predictions/total_pred: 734.0/1000.0\n",
            "acc of car: 71.89999999999999                      and number of predictions/total_pred: 719.0/1000.0\n",
            "acc of bird: 27.0                      and number of predictions/total_pred: 270.0/1000.0\n",
            "acc of cat: 7.7                      and number of predictions/total_pred: 77.0/1000.0\n",
            "acc of deer: 44.2                      and number of predictions/total_pred: 442.0/1000.0\n",
            "acc of dog: 59.599999999999994                      and number of predictions/total_pred: 596.0/1000.0\n",
            "acc of frog: 42.8                      and number of predictions/total_pred: 428.0/1000.0\n",
            "acc of horse: 69.1                      and number of predictions/total_pred: 691.0/1000.0\n",
            "acc of ship: 43.7                      and number of predictions/total_pred: 437.0/1000.0\n",
            "acc of truck: 89.9                      and number of predictions/total_pred: 899.0/1000.0\n",
            "overall accuracy: 52.93\n"
          ]
        },
        {
          "output_type": "execute_result",
          "data": {
            "text/plain": [
              "Text(0.5, 15.0, 'Predicted label')"
            ]
          },
          "metadata": {},
          "execution_count": 5
        },
        {
          "output_type": "display_data",
          "data": {
            "image/png": "[encoded data removed]",
            "text/plain": [
              "<Figure size 432x288 with 2 Axes>"
            ]
          },
          "metadata": {
            "needs_background": "light"
          }
        }
      ]
    }
  ]
}