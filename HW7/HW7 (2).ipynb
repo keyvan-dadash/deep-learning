{
  "nbformat": 4,
  "nbformat_minor": 0,
  "metadata": {
    "colab": {
      "name": "HW7.ipynb",
      "provenance": [],
      "collapsed_sections": []
    },
    "kernelspec": {
      "display_name": "Python 3",
      "name": "python3"
    },
    "language_info": {
      "name": "python"
    }
  },
  "cells": [
    {
      "cell_type": "markdown",
      "metadata": {
        "id": "tmBsKqpa9nSP"
      },
      "source": [
        "# Q3"
      ]
    },
    {
      "cell_type": "code",
      "metadata": {
        "id": "SpmX4pFaEStP",
        "colab": {
          "base_uri": "https://localhost:8080/"
        },
        "outputId": "70b9bc45-21fe-4e59-d77e-36e2bf057f4e"
      },
      "source": [
        "import tensorflow as tf\n",
        "\n",
        "from tensorflow.keras import layers\n",
        "from tensorflow.keras import regularizers\n",
        "\n",
        "!pip install -q git+https://github.com/tensorflow/docs\n",
        "import tensorflow_docs as tfdocs\n",
        "import tensorflow_docs.modeling\n",
        "import tensorflow_docs.plots"
      ],
      "execution_count": 1,
      "outputs": [
        {
          "output_type": "stream",
          "name": "stdout",
          "text": [
            "  Building wheel for tensorflow-docs (setup.py) ... \u001b[?25l\u001b[?25hdone\n"
          ]
        }
      ]
    },
    {
      "cell_type": "code",
      "metadata": {
        "id": "lxHT3AuJMm6H",
        "colab": {
          "base_uri": "https://localhost:8080/"
        },
        "outputId": "98c5f1e4-6c5b-49a5-a97e-06fa25de1c84"
      },
      "source": [
        "gz = tf.keras.utils.get_file('HIGGS.csv.gz', 'http://mlphysics.ics.uci.edu/data/higgs/HIGGS.csv.gz')"
      ],
      "execution_count": 2,
      "outputs": [
        {
          "output_type": "stream",
          "name": "stdout",
          "text": [
            "Downloading data from http://mlphysics.ics.uci.edu/data/higgs/HIGGS.csv.gz\n",
            "2816409600/2816407858 [==============================] - 101s 0us/step\n",
            "2816417792/2816407858 [==============================] - 101s 0us/step\n"
          ]
        }
      ]
    },
    {
      "cell_type": "code",
      "metadata": {
        "id": "GAG66SFMMoeA"
      },
      "source": [
        "FEATURES = 28\n",
        "ds = tf.data.experimental.CsvDataset(gz,[float(),]*(FEATURES+1), compression_type=\"GZIP\")\n",
        "\n",
        "def pack_row(*row):\n",
        "  label = row[0]\n",
        "  features = tf.stack(row[1:],1)\n",
        "  return features, label\n",
        "\n",
        "packed_ds = ds.batch(10000).map(pack_row).unbatch()"
      ],
      "execution_count": 3,
      "outputs": []
    },
    {
      "cell_type": "code",
      "metadata": {
        "id": "fEqT6nbWMpwY"
      },
      "source": [
        "N_VALIDATION = int(1e3)\n",
        "N_TRAIN = int(1e4)\n",
        "BUFFER_SIZE = int(1e4)\n",
        "BATCH_SIZE = 500\n",
        "STEPS_PER_EPOCH = N_TRAIN//BATCH_SIZE"
      ],
      "execution_count": 4,
      "outputs": []
    },
    {
      "cell_type": "code",
      "metadata": {
        "id": "A2wGR4WyMrsn"
      },
      "source": [
        "validate_ds = packed_ds.take(N_VALIDATION).cache()\n",
        "train_ds = packed_ds.skip(N_VALIDATION).take(N_TRAIN).cache()\n",
        "validate_ds = validate_ds.batch(BATCH_SIZE)\n",
        "train_ds = train_ds.shuffle(BUFFER_SIZE).repeat().batch(BATCH_SIZE)"
      ],
      "execution_count": 5,
      "outputs": []
    },
    {
      "cell_type": "code",
      "metadata": {
        "colab": {
          "base_uri": "https://localhost:8080/"
        },
        "id": "LjruTSDtMtEv",
        "outputId": "bd9d05ed-b03f-4252-b933-bff7dfbe6fec"
      },
      "source": [
        "model = tf.keras.Sequential([\n",
        "    layers.Dense(16, activation='elu', input_shape=(FEATURES,)),\n",
        "    layers.Dense(1)\n",
        "])\n",
        "\n",
        "model.summary()"
      ],
      "execution_count": 14,
      "outputs": [
        {
          "output_type": "stream",
          "name": "stdout",
          "text": [
            "Model: \"sequential_1\"\n",
            "_________________________________________________________________\n",
            " Layer (type)                Output Shape              Param #   \n",
            "=================================================================\n",
            " dense_2 (Dense)             (None, 16)                464       \n",
            "                                                                 \n",
            " dense_3 (Dense)             (None, 1)                 17        \n",
            "                                                                 \n",
            "=================================================================\n",
            "Total params: 481\n",
            "Trainable params: 481\n",
            "Non-trainable params: 0\n",
            "_________________________________________________________________\n"
          ]
        }
      ]
    },
    {
      "cell_type": "code",
      "metadata": {
        "id": "6MkXVFC-Muuq"
      },
      "source": [
        "def get_callbacks():\n",
        "  return [\n",
        "    tfdocs.modeling.EpochDots(),\n",
        "    tf.keras.callbacks.EarlyStopping(monitor='val_loss', patience=200),\n",
        "  ]"
      ],
      "execution_count": 6,
      "outputs": []
    },
    {
      "cell_type": "code",
      "metadata": {
        "id": "DRwj29uKMwFU"
      },
      "source": [
        "def compile_and_fit(model, max_epochs=10000):\n",
        "  model.compile(optimizer=\"adam\",\n",
        "                loss=tf.keras.losses.BinaryCrossentropy(from_logits=True),\n",
        "                metrics=[\n",
        "                  tf.keras.losses.BinaryCrossentropy(\n",
        "                      from_logits=True, name='binary_crossentropy'),\n",
        "                  'accuracy'])\n",
        "\n",
        "  model.summary()\n",
        "\n",
        "  history = model.fit(\n",
        "    train_ds,\n",
        "    steps_per_epoch = STEPS_PER_EPOCH,\n",
        "    epochs=max_epochs,\n",
        "    validation_data=validate_ds,\n",
        "    callbacks=get_callbacks(),\n",
        "    verbose=0)\n",
        "  return history"
      ],
      "execution_count": 7,
      "outputs": []
    },
    {
      "cell_type": "code",
      "metadata": {
        "colab": {
          "base_uri": "https://localhost:8080/"
        },
        "id": "l7PsfkSyMxjJ",
        "outputId": "c69e90c4-fad7-4bd9-ba78-0b2f72ef1e21"
      },
      "source": [
        "compile_and_fit(model)"
      ],
      "execution_count": null,
      "outputs": [
        {
          "name": "stdout",
          "output_type": "stream",
          "text": [
            "Model: \"sequential_2\"\n",
            "_________________________________________________________________\n",
            " Layer (type)                Output Shape              Param #   \n",
            "=================================================================\n",
            " dense_6 (Dense)             (None, 16)                464       \n",
            "                                                                 \n",
            " dense_7 (Dense)             (None, 1)                 17        \n",
            "                                                                 \n",
            "=================================================================\n",
            "Total params: 481\n",
            "Trainable params: 481\n",
            "Non-trainable params: 0\n",
            "_________________________________________________________________\n",
            "\n",
            "Epoch: 0, accuracy:0.5187,  binary_crossentropy:0.8152,  loss:0.8152,  val_accuracy:0.5190,  val_binary_crossentropy:0.7746,  val_loss:0.7746,  \n",
            "....................................................................................................\n",
            "Epoch: 100, accuracy:0.6009,  binary_crossentropy:0.6253,  loss:0.6253,  val_accuracy:0.5660,  val_binary_crossentropy:0.6285,  val_loss:0.6285,  \n",
            "....................................................................................................\n",
            "Epoch: 200, accuracy:0.6276,  binary_crossentropy:0.6108,  loss:0.6108,  val_accuracy:0.6160,  val_binary_crossentropy:0.6178,  val_loss:0.6178,  \n",
            "....................................................................................................\n",
            "Epoch: 300, accuracy:0.6433,  binary_crossentropy:0.5996,  loss:0.5996,  val_accuracy:0.6320,  val_binary_crossentropy:0.6097,  val_loss:0.6097,  \n",
            "....................................................................................................\n",
            "Epoch: 400, accuracy:0.6571,  binary_crossentropy:0.5897,  loss:0.5897,  val_accuracy:0.6190,  val_binary_crossentropy:0.6029,  val_loss:0.6029,  \n",
            "....................................................................................................\n",
            "Epoch: 500, accuracy:0.6693,  binary_crossentropy:0.5826,  loss:0.5826,  val_accuracy:0.6560,  val_binary_crossentropy:0.5940,  val_loss:0.5940,  \n",
            "....................................................................................................\n",
            "Epoch: 600, accuracy:0.6722,  binary_crossentropy:0.5783,  loss:0.5783,  val_accuracy:0.6670,  val_binary_crossentropy:0.5898,  val_loss:0.5898,  \n",
            "....................................................................................................\n",
            "Epoch: 700, accuracy:0.6782,  binary_crossentropy:0.5760,  loss:0.5760,  val_accuracy:0.6630,  val_binary_crossentropy:0.5898,  val_loss:0.5898,  \n",
            "....................................................................................................\n",
            "Epoch: 800, accuracy:0.6801,  binary_crossentropy:0.5727,  loss:0.5727,  val_accuracy:0.6510,  val_binary_crossentropy:0.5886,  val_loss:0.5886,  \n",
            "....................................................................................................\n",
            "Epoch: 900, accuracy:0.6749,  binary_crossentropy:0.5722,  loss:0.5722,  val_accuracy:0.6700,  val_binary_crossentropy:0.5880,  val_loss:0.5880,  \n",
            "....................................................................................................\n",
            "Epoch: 1000, accuracy:0.6795,  binary_crossentropy:0.5689,  loss:0.5689,  val_accuracy:0.6670,  val_binary_crossentropy:0.5888,  val_loss:0.5888,  \n",
            "....................................................................................................\n",
            "Epoch: 1100, accuracy:0.6809,  binary_crossentropy:0.5674,  loss:0.5674,  val_accuracy:0.6480,  val_binary_crossentropy:0.5928,  val_loss:0.5928,  \n",
            "....................................................................................................\n",
            "Epoch: 1200, accuracy:0.6863,  binary_crossentropy:0.5648,  loss:0.5648,  val_accuracy:0.6740,  val_binary_crossentropy:0.5874,  val_loss:0.5874,  \n",
            "....................................................................................................\n",
            "Epoch: 1300, accuracy:0.6889,  binary_crossentropy:0.5630,  loss:0.5630,  val_accuracy:0.6690,  val_binary_crossentropy:0.5880,  val_loss:0.5880,  \n",
            "....................................................................................................\n",
            "Epoch: 1400, accuracy:0.6887,  binary_crossentropy:0.5624,  loss:0.5624,  val_accuracy:0.6750,  val_binary_crossentropy:0.5870,  val_loss:0.5870,  \n",
            "....................................................................................................\n",
            "Epoch: 1500, accuracy:0.6902,  binary_crossentropy:0.5602,  loss:0.5602,  val_accuracy:0.6890,  val_binary_crossentropy:0.5858,  val_loss:0.5858,  \n",
            "....................................................................................................\n",
            "Epoch: 1600, accuracy:0.6948,  binary_crossentropy:0.5588,  loss:0.5588,  val_accuracy:0.6850,  val_binary_crossentropy:0.5862,  val_loss:0.5862,  \n",
            "....................................................................................................\n",
            "Epoch: 1700, accuracy:0.6943,  binary_crossentropy:0.5575,  loss:0.5575,  val_accuracy:0.6860,  val_binary_crossentropy:0.5869,  val_loss:0.5869,  \n",
            "................................................................................"
          ]
        },
        {
          "data": {
            "text/plain": [
              "<keras.callbacks.History at 0x7fb95a27d550>"
            ]
          },
          "execution_count": 30,
          "metadata": {},
          "output_type": "execute_result"
        }
      ]
    },
    {
      "cell_type": "code",
      "metadata": {
        "colab": {
          "base_uri": "https://localhost:8080/"
        },
        "id": "e-vkkEogMzCT",
        "outputId": "9ed58996-7d2e-44fd-99aa-204c009daf40"
      },
      "source": [
        "model = tf.keras.Sequential([\n",
        "    layers.Dense(64, activation='elu', input_shape=(FEATURES,)),\n",
        "    layers.Dense(64, activation='elu'),\n",
        "    layers.Dense(64, activation='elu'),\n",
        "    layers.Dense(1)\n",
        "])\n",
        "\n",
        "model.summary()\n",
        "compile_and_fit(model)"
      ],
      "execution_count": null,
      "outputs": [
        {
          "name": "stdout",
          "output_type": "stream",
          "text": [
            "Model: \"sequential_3\"\n",
            "_________________________________________________________________\n",
            " Layer (type)                Output Shape              Param #   \n",
            "=================================================================\n",
            " dense_8 (Dense)             (None, 64)                1856      \n",
            "                                                                 \n",
            " dense_9 (Dense)             (None, 64)                4160      \n",
            "                                                                 \n",
            " dense_10 (Dense)            (None, 64)                4160      \n",
            "                                                                 \n",
            " dense_11 (Dense)            (None, 1)                 65        \n",
            "                                                                 \n",
            "=================================================================\n",
            "Total params: 10,241\n",
            "Trainable params: 10,241\n",
            "Non-trainable params: 0\n",
            "_________________________________________________________________\n",
            "Model: \"sequential_3\"\n",
            "_________________________________________________________________\n",
            " Layer (type)                Output Shape              Param #   \n",
            "=================================================================\n",
            " dense_8 (Dense)             (None, 64)                1856      \n",
            "                                                                 \n",
            " dense_9 (Dense)             (None, 64)                4160      \n",
            "                                                                 \n",
            " dense_10 (Dense)            (None, 64)                4160      \n",
            "                                                                 \n",
            " dense_11 (Dense)            (None, 1)                 65        \n",
            "                                                                 \n",
            "=================================================================\n",
            "Total params: 10,241\n",
            "Trainable params: 10,241\n",
            "Non-trainable params: 0\n",
            "_________________________________________________________________\n",
            "\n",
            "Epoch: 0, accuracy:0.4826,  binary_crossentropy:0.6981,  loss:0.6981,  val_accuracy:0.4630,  val_binary_crossentropy:0.6843,  val_loss:0.6843,  \n",
            "....................................................................................................\n",
            "Epoch: 100, accuracy:0.7242,  binary_crossentropy:0.5173,  loss:0.5173,  val_accuracy:0.6550,  val_binary_crossentropy:0.6104,  val_loss:0.6104,  \n",
            "....................................................................................................\n",
            "Epoch: 200, accuracy:0.7993,  binary_crossentropy:0.4029,  loss:0.4029,  val_accuracy:0.6690,  val_binary_crossentropy:0.6985,  val_loss:0.6985,  \n",
            "......................................................"
          ]
        },
        {
          "data": {
            "text/plain": [
              "<keras.callbacks.History at 0x7fb95a0c8890>"
            ]
          },
          "execution_count": 31,
          "metadata": {},
          "output_type": "execute_result"
        }
      ]
    },
    {
      "cell_type": "code",
      "metadata": {
        "colab": {
          "base_uri": "https://localhost:8080/"
        },
        "id": "2_AiI2QstS8p",
        "outputId": "ffee3952-b2a3-460c-99bc-33c7354b3f72"
      },
      "source": [
        "model = tf.keras.Sequential([\n",
        "    layers.Dense(64, activation='elu', input_shape=(FEATURES,)),\n",
        "    layers.Dense(128, activation='elu'),\n",
        "    layers.Dense(128, activation='elu'),\n",
        "    layers.Dense(1)\n",
        "])\n",
        "\n",
        "model.summary()\n",
        "compile_and_fit(model)"
      ],
      "execution_count": null,
      "outputs": [
        {
          "name": "stdout",
          "output_type": "stream",
          "text": [
            "Model: \"sequential_4\"\n",
            "_________________________________________________________________\n",
            " Layer (type)                Output Shape              Param #   \n",
            "=================================================================\n",
            " dense_12 (Dense)            (None, 64)                1856      \n",
            "                                                                 \n",
            " dense_13 (Dense)            (None, 128)               8320      \n",
            "                                                                 \n",
            " dense_14 (Dense)            (None, 128)               16512     \n",
            "                                                                 \n",
            " dense_15 (Dense)            (None, 1)                 129       \n",
            "                                                                 \n",
            "=================================================================\n",
            "Total params: 26,817\n",
            "Trainable params: 26,817\n",
            "Non-trainable params: 0\n",
            "_________________________________________________________________\n",
            "Model: \"sequential_4\"\n",
            "_________________________________________________________________\n",
            " Layer (type)                Output Shape              Param #   \n",
            "=================================================================\n",
            " dense_12 (Dense)            (None, 64)                1856      \n",
            "                                                                 \n",
            " dense_13 (Dense)            (None, 128)               8320      \n",
            "                                                                 \n",
            " dense_14 (Dense)            (None, 128)               16512     \n",
            "                                                                 \n",
            " dense_15 (Dense)            (None, 1)                 129       \n",
            "                                                                 \n",
            "=================================================================\n",
            "Total params: 26,817\n",
            "Trainable params: 26,817\n",
            "Non-trainable params: 0\n",
            "_________________________________________________________________\n",
            "\n",
            "Epoch: 0, accuracy:0.5019,  binary_crossentropy:0.7002,  loss:0.7002,  val_accuracy:0.5140,  val_binary_crossentropy:0.6799,  val_loss:0.6799,  \n",
            "....................................................................................................\n",
            "Epoch: 100, accuracy:0.7411,  binary_crossentropy:0.4961,  loss:0.4961,  val_accuracy:0.6580,  val_binary_crossentropy:0.6194,  val_loss:0.6194,  \n",
            "....................................................................................................\n",
            "Epoch: 200, accuracy:0.8782,  binary_crossentropy:0.2805,  loss:0.2805,  val_accuracy:0.6270,  val_binary_crossentropy:0.8636,  val_loss:0.8636,  \n",
            "........................................................"
          ]
        },
        {
          "data": {
            "text/plain": [
              "<keras.callbacks.History at 0x7fb95a0d9950>"
            ]
          },
          "execution_count": 32,
          "metadata": {},
          "output_type": "execute_result"
        }
      ]
    },
    {
      "cell_type": "code",
      "metadata": {
        "colab": {
          "base_uri": "https://localhost:8080/"
        },
        "id": "v4U-V_71tcpz",
        "outputId": "ccb6cff8-b367-4eba-c250-54192ea6d705"
      },
      "source": [
        "model = tf.keras.Sequential([\n",
        "    layers.Dense(256, activation='elu', input_shape=(FEATURES,)),\n",
        "    layers.Dense(256, activation='elu'),\n",
        "    layers.Dense(256, activation='elu'),\n",
        "    layers.Dense(256, activation='elu'),\n",
        "    layers.Dense(1)\n",
        "])\n",
        "\n",
        "model.summary()\n",
        "compile_and_fit(model)"
      ],
      "execution_count": null,
      "outputs": [
        {
          "name": "stdout",
          "output_type": "stream",
          "text": [
            "Model: \"sequential_5\"\n",
            "_________________________________________________________________\n",
            " Layer (type)                Output Shape              Param #   \n",
            "=================================================================\n",
            " dense_16 (Dense)            (None, 256)               7424      \n",
            "                                                                 \n",
            " dense_17 (Dense)            (None, 256)               65792     \n",
            "                                                                 \n",
            " dense_18 (Dense)            (None, 256)               65792     \n",
            "                                                                 \n",
            " dense_19 (Dense)            (None, 256)               65792     \n",
            "                                                                 \n",
            " dense_20 (Dense)            (None, 1)                 257       \n",
            "                                                                 \n",
            "=================================================================\n",
            "Total params: 205,057\n",
            "Trainable params: 205,057\n",
            "Non-trainable params: 0\n",
            "_________________________________________________________________\n",
            "Model: \"sequential_5\"\n",
            "_________________________________________________________________\n",
            " Layer (type)                Output Shape              Param #   \n",
            "=================================================================\n",
            " dense_16 (Dense)            (None, 256)               7424      \n",
            "                                                                 \n",
            " dense_17 (Dense)            (None, 256)               65792     \n",
            "                                                                 \n",
            " dense_18 (Dense)            (None, 256)               65792     \n",
            "                                                                 \n",
            " dense_19 (Dense)            (None, 256)               65792     \n",
            "                                                                 \n",
            " dense_20 (Dense)            (None, 1)                 257       \n",
            "                                                                 \n",
            "=================================================================\n",
            "Total params: 205,057\n",
            "Trainable params: 205,057\n",
            "Non-trainable params: 0\n",
            "_________________________________________________________________\n",
            "\n",
            "Epoch: 0, accuracy:0.5066,  binary_crossentropy:0.7274,  loss:0.7274,  val_accuracy:0.5520,  val_binary_crossentropy:0.6745,  val_loss:0.6745,  \n",
            "....................................................................................................\n",
            "Epoch: 100, accuracy:0.9999,  binary_crossentropy:0.0147,  loss:0.0147,  val_accuracy:0.6360,  val_binary_crossentropy:1.6544,  val_loss:1.6544,  \n",
            "....................................................................................................\n",
            "Epoch: 200, accuracy:1.0000,  binary_crossentropy:0.0004,  loss:0.0004,  val_accuracy:0.6430,  val_binary_crossentropy:2.7202,  val_loss:2.7202,  \n",
            "............................"
          ]
        },
        {
          "data": {
            "text/plain": [
              "<keras.callbacks.History at 0x7fb959cf20d0>"
            ]
          },
          "execution_count": 33,
          "metadata": {},
          "output_type": "execute_result"
        }
      ]
    },
    {
      "cell_type": "code",
      "metadata": {
        "colab": {
          "base_uri": "https://localhost:8080/"
        },
        "id": "6wGLaj7ethUd",
        "outputId": "d9edc1a0-cbb1-42ca-93c4-ea693530e95f"
      },
      "source": [
        "model = tf.keras.Sequential([\n",
        "    layers.Dense(512, activation='elu', input_shape=(FEATURES,)),\n",
        "    layers.Dense(512, activation='elu'),\n",
        "    layers.Dense(512, activation='elu'),\n",
        "    layers.Dense(512, activation='elu'),\n",
        "    layers.Dense(1)\n",
        "])\n",
        "\n",
        "model.summary()\n",
        "compile_and_fit(model)"
      ],
      "execution_count": null,
      "outputs": [
        {
          "name": "stdout",
          "output_type": "stream",
          "text": [
            "Model: \"sequential_6\"\n",
            "_________________________________________________________________\n",
            " Layer (type)                Output Shape              Param #   \n",
            "=================================================================\n",
            " dense_21 (Dense)            (None, 512)               14848     \n",
            "                                                                 \n",
            " dense_22 (Dense)            (None, 512)               262656    \n",
            "                                                                 \n",
            " dense_23 (Dense)            (None, 512)               262656    \n",
            "                                                                 \n",
            " dense_24 (Dense)            (None, 512)               262656    \n",
            "                                                                 \n",
            " dense_25 (Dense)            (None, 1)                 513       \n",
            "                                                                 \n",
            "=================================================================\n",
            "Total params: 803,329\n",
            "Trainable params: 803,329\n",
            "Non-trainable params: 0\n",
            "_________________________________________________________________\n",
            "Model: \"sequential_6\"\n",
            "_________________________________________________________________\n",
            " Layer (type)                Output Shape              Param #   \n",
            "=================================================================\n",
            " dense_21 (Dense)            (None, 512)               14848     \n",
            "                                                                 \n",
            " dense_22 (Dense)            (None, 512)               262656    \n",
            "                                                                 \n",
            " dense_23 (Dense)            (None, 512)               262656    \n",
            "                                                                 \n",
            " dense_24 (Dense)            (None, 512)               262656    \n",
            "                                                                 \n",
            " dense_25 (Dense)            (None, 1)                 513       \n",
            "                                                                 \n",
            "=================================================================\n",
            "Total params: 803,329\n",
            "Trainable params: 803,329\n",
            "Non-trainable params: 0\n",
            "_________________________________________________________________\n",
            "\n",
            "Epoch: 0, accuracy:0.5059,  binary_crossentropy:0.8114,  loss:0.8114,  val_accuracy:0.4730,  val_binary_crossentropy:0.6904,  val_loss:0.6904,  \n",
            "....................................................................................................\n",
            "Epoch: 100, accuracy:1.0000,  binary_crossentropy:0.0017,  loss:0.0017,  val_accuracy:0.6650,  val_binary_crossentropy:1.7831,  val_loss:1.7831,  \n",
            "....................................................................................................\n",
            "Epoch: 200, accuracy:1.0000,  binary_crossentropy:0.0001,  loss:0.0001,  val_accuracy:0.6610,  val_binary_crossentropy:2.3798,  val_loss:2.3798,  \n",
            "....................."
          ]
        },
        {
          "data": {
            "text/plain": [
              "<keras.callbacks.History at 0x7fb9529b9310>"
            ]
          },
          "execution_count": 34,
          "metadata": {},
          "output_type": "execute_result"
        }
      ]
    },
    {
      "cell_type": "markdown",
      "metadata": {
        "id": "egVwM7cLudEn"
      },
      "source": [
        "after drop out"
      ]
    },
    {
      "cell_type": "code",
      "metadata": {
        "colab": {
          "base_uri": "https://localhost:8080/"
        },
        "id": "i-C5jd6qubq9",
        "outputId": "6a1d1a03-068a-422c-8561-a3be4bab6fda"
      },
      "source": [
        "model = tf.keras.Sequential([\n",
        "    layers.Dense(64, activation='elu', input_shape=(FEATURES,)),\n",
        "    layers.Dropout(0.5),\n",
        "    layers.Dense(128, activation='elu'),\n",
        "    layers.Dropout(0.5),\n",
        "    layers.Dense(128, activation='elu'),\n",
        "    layers.Dropout(0.5),\n",
        "    layers.Dense(1)\n",
        "])\n",
        "\n",
        "model.summary()\n",
        "compile_and_fit(model)"
      ],
      "execution_count": null,
      "outputs": [
        {
          "name": "stdout",
          "output_type": "stream",
          "text": [
            "Model: \"sequential_7\"\n",
            "_________________________________________________________________\n",
            " Layer (type)                Output Shape              Param #   \n",
            "=================================================================\n",
            " dense_26 (Dense)            (None, 64)                1856      \n",
            "                                                                 \n",
            " dropout (Dropout)           (None, 64)                0         \n",
            "                                                                 \n",
            " dense_27 (Dense)            (None, 128)               8320      \n",
            "                                                                 \n",
            " dropout_1 (Dropout)         (None, 128)               0         \n",
            "                                                                 \n",
            " dense_28 (Dense)            (None, 128)               16512     \n",
            "                                                                 \n",
            " dropout_2 (Dropout)         (None, 128)               0         \n",
            "                                                                 \n",
            " dense_29 (Dense)            (None, 1)                 129       \n",
            "                                                                 \n",
            "=================================================================\n",
            "Total params: 26,817\n",
            "Trainable params: 26,817\n",
            "Non-trainable params: 0\n",
            "_________________________________________________________________\n",
            "Model: \"sequential_7\"\n",
            "_________________________________________________________________\n",
            " Layer (type)                Output Shape              Param #   \n",
            "=================================================================\n",
            " dense_26 (Dense)            (None, 64)                1856      \n",
            "                                                                 \n",
            " dropout (Dropout)           (None, 64)                0         \n",
            "                                                                 \n",
            " dense_27 (Dense)            (None, 128)               8320      \n",
            "                                                                 \n",
            " dropout_1 (Dropout)         (None, 128)               0         \n",
            "                                                                 \n",
            " dense_28 (Dense)            (None, 128)               16512     \n",
            "                                                                 \n",
            " dropout_2 (Dropout)         (None, 128)               0         \n",
            "                                                                 \n",
            " dense_29 (Dense)            (None, 1)                 129       \n",
            "                                                                 \n",
            "=================================================================\n",
            "Total params: 26,817\n",
            "Trainable params: 26,817\n",
            "Non-trainable params: 0\n",
            "_________________________________________________________________\n",
            "\n",
            "Epoch: 0, accuracy:0.4897,  binary_crossentropy:0.8324,  loss:0.8324,  val_accuracy:0.4600,  val_binary_crossentropy:0.6874,  val_loss:0.6874,  \n",
            "....................................................................................................\n",
            "Epoch: 100, accuracy:0.6179,  binary_crossentropy:0.6237,  loss:0.6237,  val_accuracy:0.6370,  val_binary_crossentropy:0.6069,  val_loss:0.6069,  \n",
            "....................................................................................................\n",
            "Epoch: 200, accuracy:0.6481,  binary_crossentropy:0.6083,  loss:0.6083,  val_accuracy:0.6790,  val_binary_crossentropy:0.5854,  val_loss:0.5854,  \n",
            "....................................................................................................\n",
            "Epoch: 300, accuracy:0.6626,  binary_crossentropy:0.5981,  loss:0.5981,  val_accuracy:0.6730,  val_binary_crossentropy:0.5740,  val_loss:0.5740,  \n",
            "....................................................................................................\n",
            "Epoch: 400, accuracy:0.6647,  binary_crossentropy:0.5918,  loss:0.5918,  val_accuracy:0.6780,  val_binary_crossentropy:0.5714,  val_loss:0.5714,  \n",
            "....................................................................................................\n",
            "Epoch: 500, accuracy:0.6701,  binary_crossentropy:0.5856,  loss:0.5856,  val_accuracy:0.6800,  val_binary_crossentropy:0.5675,  val_loss:0.5675,  \n",
            "....................................................................................................\n",
            "Epoch: 600, accuracy:0.6689,  binary_crossentropy:0.5810,  loss:0.5810,  val_accuracy:0.6870,  val_binary_crossentropy:0.5661,  val_loss:0.5661,  \n",
            "....................................................................................................\n",
            "Epoch: 700, accuracy:0.6730,  binary_crossentropy:0.5782,  loss:0.5782,  val_accuracy:0.6950,  val_binary_crossentropy:0.5585,  val_loss:0.5585,  \n",
            "....................................................................................................\n",
            "Epoch: 800, accuracy:0.6766,  binary_crossentropy:0.5745,  loss:0.5745,  val_accuracy:0.6780,  val_binary_crossentropy:0.5645,  val_loss:0.5645,  \n",
            "....................................................................................................\n",
            "Epoch: 900, accuracy:0.6789,  binary_crossentropy:0.5748,  loss:0.5748,  val_accuracy:0.7040,  val_binary_crossentropy:0.5540,  val_loss:0.5540,  \n",
            "....................................................................................................\n",
            "Epoch: 1000, accuracy:0.6789,  binary_crossentropy:0.5684,  loss:0.5684,  val_accuracy:0.7020,  val_binary_crossentropy:0.5539,  val_loss:0.5539,  \n",
            "....................................................................................................\n",
            "Epoch: 1100, accuracy:0.6790,  binary_crossentropy:0.5650,  loss:0.5650,  val_accuracy:0.7070,  val_binary_crossentropy:0.5462,  val_loss:0.5462,  \n",
            "....................................................................................................\n",
            "Epoch: 1200, accuracy:0.6832,  binary_crossentropy:0.5610,  loss:0.5610,  val_accuracy:0.6960,  val_binary_crossentropy:0.5469,  val_loss:0.5469,  \n",
            "....................................................................................................\n",
            "Epoch: 1300, accuracy:0.6787,  binary_crossentropy:0.5633,  loss:0.5633,  val_accuracy:0.7040,  val_binary_crossentropy:0.5509,  val_loss:0.5509,  \n",
            "....................................................................................................\n",
            "Epoch: 1400, accuracy:0.6765,  binary_crossentropy:0.5583,  loss:0.5583,  val_accuracy:0.7000,  val_binary_crossentropy:0.5498,  val_loss:0.5498,  \n",
            "....................................................................................................\n",
            "Epoch: 1500, accuracy:0.6826,  binary_crossentropy:0.5605,  loss:0.5605,  val_accuracy:0.7090,  val_binary_crossentropy:0.5443,  val_loss:0.5443,  \n",
            "....................................................................................................\n",
            "Epoch: 1600, accuracy:0.6893,  binary_crossentropy:0.5587,  loss:0.5587,  val_accuracy:0.6980,  val_binary_crossentropy:0.5441,  val_loss:0.5441,  \n",
            "....................................................................................................\n",
            "Epoch: 1700, accuracy:0.6848,  binary_crossentropy:0.5595,  loss:0.5595,  val_accuracy:0.7050,  val_binary_crossentropy:0.5430,  val_loss:0.5430,  \n",
            "....................................................................................................\n",
            "Epoch: 1800, accuracy:0.6903,  binary_crossentropy:0.5495,  loss:0.5495,  val_accuracy:0.7100,  val_binary_crossentropy:0.5466,  val_loss:0.5466,  \n",
            "....................................................................................................\n",
            "Epoch: 1900, accuracy:0.6925,  binary_crossentropy:0.5497,  loss:0.5497,  val_accuracy:0.7100,  val_binary_crossentropy:0.5418,  val_loss:0.5418,  \n",
            "....................................................................................................\n",
            "Epoch: 2000, accuracy:0.6936,  binary_crossentropy:0.5488,  loss:0.5488,  val_accuracy:0.7010,  val_binary_crossentropy:0.5431,  val_loss:0.5431,  \n",
            "....................................................................................................\n",
            "Epoch: 2100, accuracy:0.6949,  binary_crossentropy:0.5495,  loss:0.5495,  val_accuracy:0.7100,  val_binary_crossentropy:0.5467,  val_loss:0.5467,  \n",
            "....................................................................................................\n",
            "Epoch: 2200, accuracy:0.6921,  binary_crossentropy:0.5480,  loss:0.5480,  val_accuracy:0.7050,  val_binary_crossentropy:0.5426,  val_loss:0.5426,  \n",
            "..."
          ]
        },
        {
          "data": {
            "text/plain": [
              "<keras.callbacks.History at 0x7fb95507e710>"
            ]
          },
          "execution_count": 35,
          "metadata": {},
          "output_type": "execute_result"
        }
      ]
    },
    {
      "cell_type": "code",
      "metadata": {
        "colab": {
          "base_uri": "https://localhost:8080/"
        },
        "id": "7Ixw9eRouaJE",
        "outputId": "8fed5dca-0a28-46b6-8242-09e05b01e42e"
      },
      "source": [
        "model = tf.keras.Sequential([\n",
        "    layers.Dense(256, activation='elu', input_shape=(FEATURES,)),\n",
        "    layers.Dropout(0.5),\n",
        "    layers.Dense(256, activation='elu'),\n",
        "    layers.Dropout(0.5),\n",
        "    layers.Dense(256, activation='elu'),\n",
        "    layers.Dropout(0.5),\n",
        "    layers.Dense(256, activation='elu'),\n",
        "    layers.Dropout(0.5),\n",
        "    layers.Dense(1)\n",
        "])\n",
        "\n",
        "model.summary()\n",
        "compile_and_fit(model)"
      ],
      "execution_count": null,
      "outputs": [
        {
          "name": "stdout",
          "output_type": "stream",
          "text": [
            "Model: \"sequential_8\"\n",
            "_________________________________________________________________\n",
            " Layer (type)                Output Shape              Param #   \n",
            "=================================================================\n",
            " dense_30 (Dense)            (None, 256)               7424      \n",
            "                                                                 \n",
            " dropout_3 (Dropout)         (None, 256)               0         \n",
            "                                                                 \n",
            " dense_31 (Dense)            (None, 256)               65792     \n",
            "                                                                 \n",
            " dropout_4 (Dropout)         (None, 256)               0         \n",
            "                                                                 \n",
            " dense_32 (Dense)            (None, 256)               65792     \n",
            "                                                                 \n",
            " dropout_5 (Dropout)         (None, 256)               0         \n",
            "                                                                 \n",
            " dense_33 (Dense)            (None, 256)               65792     \n",
            "                                                                 \n",
            " dropout_6 (Dropout)         (None, 256)               0         \n",
            "                                                                 \n",
            " dense_34 (Dense)            (None, 1)                 257       \n",
            "                                                                 \n",
            "=================================================================\n",
            "Total params: 205,057\n",
            "Trainable params: 205,057\n",
            "Non-trainable params: 0\n",
            "_________________________________________________________________\n",
            "Model: \"sequential_8\"\n",
            "_________________________________________________________________\n",
            " Layer (type)                Output Shape              Param #   \n",
            "=================================================================\n",
            " dense_30 (Dense)            (None, 256)               7424      \n",
            "                                                                 \n",
            " dropout_3 (Dropout)         (None, 256)               0         \n",
            "                                                                 \n",
            " dense_31 (Dense)            (None, 256)               65792     \n",
            "                                                                 \n",
            " dropout_4 (Dropout)         (None, 256)               0         \n",
            "                                                                 \n",
            " dense_32 (Dense)            (None, 256)               65792     \n",
            "                                                                 \n",
            " dropout_5 (Dropout)         (None, 256)               0         \n",
            "                                                                 \n",
            " dense_33 (Dense)            (None, 256)               65792     \n",
            "                                                                 \n",
            " dropout_6 (Dropout)         (None, 256)               0         \n",
            "                                                                 \n",
            " dense_34 (Dense)            (None, 1)                 257       \n",
            "                                                                 \n",
            "=================================================================\n",
            "Total params: 205,057\n",
            "Trainable params: 205,057\n",
            "Non-trainable params: 0\n",
            "_________________________________________________________________\n",
            "\n",
            "Epoch: 0, accuracy:0.5025,  binary_crossentropy:0.7969,  loss:0.7969,  val_accuracy:0.5040,  val_binary_crossentropy:0.6777,  val_loss:0.6777,  \n",
            "....................................................................................................\n",
            "Epoch: 100, accuracy:0.6538,  binary_crossentropy:0.6020,  loss:0.6020,  val_accuracy:0.6630,  val_binary_crossentropy:0.5849,  val_loss:0.5849,  \n",
            "....................................................................................................\n",
            "Epoch: 200, accuracy:0.6663,  binary_crossentropy:0.5848,  loss:0.5848,  val_accuracy:0.6790,  val_binary_crossentropy:0.5782,  val_loss:0.5782,  \n",
            "....................................................................................................\n",
            "Epoch: 300, accuracy:0.6789,  binary_crossentropy:0.5654,  loss:0.5654,  val_accuracy:0.6700,  val_binary_crossentropy:0.5774,  val_loss:0.5774,  \n",
            "....................................................................................................\n",
            "Epoch: 400, accuracy:0.6992,  binary_crossentropy:0.5426,  loss:0.5426,  val_accuracy:0.6850,  val_binary_crossentropy:0.5802,  val_loss:0.5802,  \n",
            "........................................"
          ]
        },
        {
          "data": {
            "text/plain": [
              "<keras.callbacks.History at 0x7fb954e03210>"
            ]
          },
          "execution_count": 36,
          "metadata": {},
          "output_type": "execute_result"
        }
      ]
    },
    {
      "cell_type": "code",
      "metadata": {
        "colab": {
          "background_save": true,
          "base_uri": "https://localhost:8080/"
        },
        "id": "2qmBC-fwuWtq",
        "outputId": "318144a3-b132-41f2-8552-94a8f469f708"
      },
      "source": [
        "model = tf.keras.Sequential([\n",
        "    layers.Dense(512, activation='elu', input_shape=(FEATURES,)),\n",
        "    layers.Dropout(0.5),\n",
        "    layers.Dense(512, activation='elu'),\n",
        "    layers.Dropout(0.5),\n",
        "    layers.Dense(512, activation='elu'),\n",
        "    layers.Dropout(0.5),\n",
        "    layers.Dense(512, activation='elu'),\n",
        "    layers.Dropout(0.5),\n",
        "    layers.Dense(1)\n",
        "])\n",
        "\n",
        "model.summary()\n",
        "compile_and_fit(model)"
      ],
      "execution_count": null,
      "outputs": [
        {
          "name": "stdout",
          "output_type": "stream",
          "text": [
            "Model: \"sequential_9\"\n",
            "_________________________________________________________________\n",
            " Layer (type)                Output Shape              Param #   \n",
            "=================================================================\n",
            " dense_35 (Dense)            (None, 512)               14848     \n",
            "                                                                 \n",
            " dropout_7 (Dropout)         (None, 512)               0         \n",
            "                                                                 \n",
            " dense_36 (Dense)            (None, 512)               262656    \n",
            "                                                                 \n",
            " dropout_8 (Dropout)         (None, 512)               0         \n",
            "                                                                 \n",
            " dense_37 (Dense)            (None, 512)               262656    \n",
            "                                                                 \n",
            " dropout_9 (Dropout)         (None, 512)               0         \n",
            "                                                                 \n",
            " dense_38 (Dense)            (None, 512)               262656    \n",
            "                                                                 \n",
            " dropout_10 (Dropout)        (None, 512)               0         \n",
            "                                                                 \n",
            " dense_39 (Dense)            (None, 1)                 513       \n",
            "                                                                 \n",
            "=================================================================\n",
            "Total params: 803,329\n",
            "Trainable params: 803,329\n",
            "Non-trainable params: 0\n",
            "_________________________________________________________________\n",
            "Model: \"sequential_9\"\n",
            "_________________________________________________________________\n",
            " Layer (type)                Output Shape              Param #   \n",
            "=================================================================\n",
            " dense_35 (Dense)            (None, 512)               14848     \n",
            "                                                                 \n",
            " dropout_7 (Dropout)         (None, 512)               0         \n",
            "                                                                 \n",
            " dense_36 (Dense)            (None, 512)               262656    \n",
            "                                                                 \n",
            " dropout_8 (Dropout)         (None, 512)               0         \n",
            "                                                                 \n",
            " dense_37 (Dense)            (None, 512)               262656    \n",
            "                                                                 \n",
            " dropout_9 (Dropout)         (None, 512)               0         \n",
            "                                                                 \n",
            " dense_38 (Dense)            (None, 512)               262656    \n",
            "                                                                 \n",
            " dropout_10 (Dropout)        (None, 512)               0         \n",
            "                                                                 \n",
            " dense_39 (Dense)            (None, 1)                 513       \n",
            "                                                                 \n",
            "=================================================================\n",
            "Total params: 803,329\n",
            "Trainable params: 803,329\n",
            "Non-trainable params: 0\n",
            "_________________________________________________________________\n",
            "\n",
            "Epoch: 0, accuracy:0.5067,  binary_crossentropy:0.7984,  loss:0.7984,  val_accuracy:0.4600,  val_binary_crossentropy:0.7076,  val_loss:0.7076,  \n",
            "....................................................................................................\n",
            "Epoch: 100, accuracy:0.6574,  binary_crossentropy:0.5987,  loss:0.5987,  val_accuracy:0.7000,  val_binary_crossentropy:0.5811,  val_loss:0.5811,  \n",
            "....................................................................................................\n",
            "Epoch: 200, accuracy:0.6966,  binary_crossentropy:0.5537,  loss:0.5537,  val_accuracy:0.6750,  val_binary_crossentropy:0.5792,  val_loss:0.5792,  \n",
            "....................................................................................................\n",
            "Epoch: 300, accuracy:0.7240,  binary_crossentropy:0.5125,  loss:0.5125,  val_accuracy:0.6910,  val_binary_crossentropy:0.6029,  val_loss:0.6029,  \n",
            "......................................."
          ]
        },
        {
          "data": {
            "text/plain": [
              "<keras.callbacks.History at 0x7fb954bd1250>"
            ]
          },
          "execution_count": null,
          "metadata": {},
          "output_type": "execute_result"
        }
      ]
    },
    {
      "cell_type": "markdown",
      "metadata": {
        "id": "Mv38Q7q2wBJI"
      },
      "source": [
        "regularization"
      ]
    },
    {
      "cell_type": "code",
      "metadata": {
        "colab": {
          "background_save": true
        },
        "id": "bCVgMO7ouXoT",
        "outputId": "e8ea95b8-14cf-46cc-b094-2ad968553d7a"
      },
      "source": [
        "model = tf.keras.Sequential([\n",
        "    layers.Dense(64, kernel_regularizer=regularizers.l2(0.001),activation='elu', input_shape=(FEATURES,)),\n",
        "    layers.Dense(128,kernel_regularizer=regularizers.l2(0.001), activation='elu'),\n",
        "    layers.Dense(128,kernel_regularizer=regularizers.l2(0.001), activation='elu'),\n",
        "    layers.Dense(1)\n",
        "])\n",
        "\n",
        "model.summary()\n",
        "compile_and_fit(model)"
      ],
      "execution_count": null,
      "outputs": [
        {
          "name": "stdout",
          "output_type": "stream",
          "text": [
            "Model: \"sequential_10\"\n",
            "_________________________________________________________________\n",
            " Layer (type)                Output Shape              Param #   \n",
            "=================================================================\n",
            " dense_40 (Dense)            (None, 64)                1856      \n",
            "                                                                 \n",
            " dense_41 (Dense)            (None, 128)               8320      \n",
            "                                                                 \n",
            " dense_42 (Dense)            (None, 128)               16512     \n",
            "                                                                 \n",
            " dense_43 (Dense)            (None, 1)                 129       \n",
            "                                                                 \n",
            "=================================================================\n",
            "Total params: 26,817\n",
            "Trainable params: 26,817\n",
            "Non-trainable params: 0\n",
            "_________________________________________________________________\n",
            "Model: \"sequential_10\"\n",
            "_________________________________________________________________\n",
            " Layer (type)                Output Shape              Param #   \n",
            "=================================================================\n",
            " dense_40 (Dense)            (None, 64)                1856      \n",
            "                                                                 \n",
            " dense_41 (Dense)            (None, 128)               8320      \n",
            "                                                                 \n",
            " dense_42 (Dense)            (None, 128)               16512     \n",
            "                                                                 \n",
            " dense_43 (Dense)            (None, 1)                 129       \n",
            "                                                                 \n",
            "=================================================================\n",
            "Total params: 26,817\n",
            "Trainable params: 26,817\n",
            "Non-trainable params: 0\n",
            "_________________________________________________________________\n",
            "\n",
            "Epoch: 0, accuracy:0.5003,  binary_crossentropy:0.6862,  loss:0.9317,  val_accuracy:0.5440,  val_binary_crossentropy:0.6670,  val_loss:0.9028,  \n",
            "....................................................................................................\n",
            "Epoch: 100, accuracy:0.6425,  binary_crossentropy:0.6038,  loss:0.6306,  val_accuracy:0.6140,  val_binary_crossentropy:0.6108,  val_loss:0.6376,  \n",
            "....................................................................................................\n",
            "Epoch: 200, accuracy:0.6687,  binary_crossentropy:0.5855,  loss:0.6093,  val_accuracy:0.6680,  val_binary_crossentropy:0.5884,  val_loss:0.6122,  \n",
            "....................................................................................................\n",
            "Epoch: 300, accuracy:0.6827,  binary_crossentropy:0.5728,  loss:0.5956,  val_accuracy:0.6720,  val_binary_crossentropy:0.5883,  val_loss:0.6111,  \n",
            "....................................................................................................\n",
            "Epoch: 400, accuracy:0.6889,  binary_crossentropy:0.5618,  loss:0.5849,  val_accuracy:0.6900,  val_binary_crossentropy:0.5901,  val_loss:0.6133,  \n",
            "......................"
          ]
        },
        {
          "data": {
            "text/plain": [
              "<keras.callbacks.History at 0x7fb954196e90>"
            ]
          },
          "execution_count": null,
          "metadata": {},
          "output_type": "execute_result"
        }
      ]
    },
    {
      "cell_type": "code",
      "metadata": {
        "colab": {
          "background_save": true
        },
        "id": "v3dNZIKhwHI9",
        "outputId": "e7a3c64c-b799-41c4-de7e-1bef33025dc2"
      },
      "source": [
        "model = tf.keras.Sequential([\n",
        "    layers.Dense(256, kernel_regularizer=regularizers.l2(0.001),activation='elu', input_shape=(FEATURES,)),\n",
        "    layers.Dense(256, kernel_regularizer=regularizers.l2(0.001),activation='elu'),\n",
        "    layers.Dense(256, kernel_regularizer=regularizers.l2(0.001),activation='elu'),\n",
        "    layers.Dense(256, kernel_regularizer=regularizers.l2(0.001),activation='elu'),\n",
        "    layers.Dense(1)\n",
        "])\n",
        "\n",
        "model.summary()\n",
        "compile_and_fit(model)"
      ],
      "execution_count": null,
      "outputs": [
        {
          "name": "stdout",
          "output_type": "stream",
          "text": [
            "Model: \"sequential_11\"\n",
            "_________________________________________________________________\n",
            " Layer (type)                Output Shape              Param #   \n",
            "=================================================================\n",
            " dense_44 (Dense)            (None, 256)               7424      \n",
            "                                                                 \n",
            " dense_45 (Dense)            (None, 256)               65792     \n",
            "                                                                 \n",
            " dense_46 (Dense)            (None, 256)               65792     \n",
            "                                                                 \n",
            " dense_47 (Dense)            (None, 256)               65792     \n",
            "                                                                 \n",
            " dense_48 (Dense)            (None, 1)                 257       \n",
            "                                                                 \n",
            "=================================================================\n",
            "Total params: 205,057\n",
            "Trainable params: 205,057\n",
            "Non-trainable params: 0\n",
            "_________________________________________________________________\n",
            "Model: \"sequential_11\"\n",
            "_________________________________________________________________\n",
            " Layer (type)                Output Shape              Param #   \n",
            "=================================================================\n",
            " dense_44 (Dense)            (None, 256)               7424      \n",
            "                                                                 \n",
            " dense_45 (Dense)            (None, 256)               65792     \n",
            "                                                                 \n",
            " dense_46 (Dense)            (None, 256)               65792     \n",
            "                                                                 \n",
            " dense_47 (Dense)            (None, 256)               65792     \n",
            "                                                                 \n",
            " dense_48 (Dense)            (None, 1)                 257       \n",
            "                                                                 \n",
            "=================================================================\n",
            "Total params: 205,057\n",
            "Trainable params: 205,057\n",
            "Non-trainable params: 0\n",
            "_________________________________________________________________\n",
            "\n",
            "Epoch: 0, accuracy:0.5312,  binary_crossentropy:0.6838,  loss:1.4582,  val_accuracy:0.5310,  val_binary_crossentropy:0.6537,  val_loss:1.3794,  \n",
            "....................................................................................................\n",
            "Epoch: 100, accuracy:0.6627,  binary_crossentropy:0.5876,  loss:0.6148,  val_accuracy:0.6590,  val_binary_crossentropy:0.5804,  val_loss:0.6075,  \n",
            "....................................................................................................\n",
            "Epoch: 200, accuracy:0.6810,  binary_crossentropy:0.5764,  loss:0.6017,  val_accuracy:0.6630,  val_binary_crossentropy:0.5800,  val_loss:0.6053,  \n",
            "....................................................................................................\n",
            "Epoch: 300, accuracy:0.6978,  binary_crossentropy:0.5596,  loss:0.5868,  val_accuracy:0.6810,  val_binary_crossentropy:0.5746,  val_loss:0.6019,  \n",
            "..............................................................................................."
          ]
        },
        {
          "data": {
            "text/plain": [
              "<keras.callbacks.History at 0x7fb953f27990>"
            ]
          },
          "execution_count": null,
          "metadata": {},
          "output_type": "execute_result"
        }
      ]
    },
    {
      "cell_type": "code",
      "metadata": {
        "id": "P6oxkC9AwH0e",
        "colab": {
          "base_uri": "https://localhost:8080/"
        },
        "outputId": "08fbffd1-2304-4dc7-e472-c288574e230c"
      },
      "source": [
        "model = tf.keras.Sequential([\n",
        "    layers.Dense(512, kernel_regularizer=regularizers.l2(0.001), activation='elu', input_shape=(FEATURES,)),\n",
        "    layers.Dense(512, kernel_regularizer=regularizers.l2(0.001), activation='elu'),\n",
        "    layers.Dense(512, kernel_regularizer=regularizers.l2(0.001), activation='elu'),\n",
        "    layers.Dense(512, kernel_regularizer=regularizers.l2(0.001), activation='elu'),\n",
        "    layers.Dense(1)\n",
        "])\n",
        "\n",
        "model.summary()\n",
        "compile_and_fit(model)"
      ],
      "execution_count": 17,
      "outputs": [
        {
          "output_type": "stream",
          "name": "stdout",
          "text": [
            "Model: \"sequential_2\"\n",
            "_________________________________________________________________\n",
            " Layer (type)                Output Shape              Param #   \n",
            "=================================================================\n",
            " dense_4 (Dense)             (None, 512)               14848     \n",
            "                                                                 \n",
            " dense_5 (Dense)             (None, 512)               262656    \n",
            "                                                                 \n",
            " dense_6 (Dense)             (None, 512)               262656    \n",
            "                                                                 \n",
            " dense_7 (Dense)             (None, 512)               262656    \n",
            "                                                                 \n",
            " dense_8 (Dense)             (None, 1)                 513       \n",
            "                                                                 \n",
            "=================================================================\n",
            "Total params: 803,329\n",
            "Trainable params: 803,329\n",
            "Non-trainable params: 0\n",
            "_________________________________________________________________\n",
            "Model: \"sequential_2\"\n",
            "_________________________________________________________________\n",
            " Layer (type)                Output Shape              Param #   \n",
            "=================================================================\n",
            " dense_4 (Dense)             (None, 512)               14848     \n",
            "                                                                 \n",
            " dense_5 (Dense)             (None, 512)               262656    \n",
            "                                                                 \n",
            " dense_6 (Dense)             (None, 512)               262656    \n",
            "                                                                 \n",
            " dense_7 (Dense)             (None, 512)               262656    \n",
            "                                                                 \n",
            " dense_8 (Dense)             (None, 1)                 513       \n",
            "                                                                 \n",
            "=================================================================\n",
            "Total params: 803,329\n",
            "Trainable params: 803,329\n",
            "Non-trainable params: 0\n",
            "_________________________________________________________________\n",
            "\n",
            "Epoch: 0, accuracy:0.5105,  binary_crossentropy:0.8129,  loss:2.3362,  val_accuracy:0.4990,  val_binary_crossentropy:0.6841,  val_loss:2.1285,  \n",
            "....................................................................................................\n",
            "Epoch: 100, accuracy:0.6577,  binary_crossentropy:0.5955,  loss:0.6187,  val_accuracy:0.6470,  val_binary_crossentropy:0.5885,  val_loss:0.6118,  \n",
            "....................................................................................................\n",
            "Epoch: 200, accuracy:0.6695,  binary_crossentropy:0.5840,  loss:0.6056,  val_accuracy:0.6500,  val_binary_crossentropy:0.5884,  val_loss:0.6100,  \n",
            "....................................................................................................\n",
            "Epoch: 300, accuracy:0.6737,  binary_crossentropy:0.5796,  loss:0.6048,  val_accuracy:0.6660,  val_binary_crossentropy:0.5823,  val_loss:0.6076,  \n",
            "....................................................................................................\n",
            "Epoch: 400, accuracy:0.6811,  binary_crossentropy:0.5717,  loss:0.5962,  val_accuracy:0.6860,  val_binary_crossentropy:0.5749,  val_loss:0.5993,  \n",
            "....................................................................................................\n",
            "Epoch: 500, accuracy:0.6868,  binary_crossentropy:0.5670,  loss:0.5931,  val_accuracy:0.6880,  val_binary_crossentropy:0.5771,  val_loss:0.6034,  \n",
            "........................................................................."
          ]
        },
        {
          "output_type": "execute_result",
          "data": {
            "text/plain": [
              "<keras.callbacks.History at 0x7f4c63268390>"
            ]
          },
          "metadata": {},
          "execution_count": 17
        }
      ]
    },
    {
      "cell_type": "markdown",
      "metadata": {
        "id": "KuWmS9juwkwS"
      },
      "source": [
        "combine"
      ]
    },
    {
      "cell_type": "code",
      "metadata": {
        "id": "LW2mPtkdwjxJ",
        "colab": {
          "base_uri": "https://localhost:8080/"
        },
        "outputId": "2254abef-c6e4-45b7-aea3-2bc163fe447c"
      },
      "source": [
        "model = tf.keras.Sequential([\n",
        "    layers.Dense(64, kernel_regularizer=regularizers.l2(0.001),activation='elu', input_shape=(FEATURES,)),\n",
        "    layers.Dropout(0.5),\n",
        "    layers.Dense(128,kernel_regularizer=regularizers.l2(0.001), activation='elu'),\n",
        "    layers.Dropout(0.5),\n",
        "    layers.Dense(128,kernel_regularizer=regularizers.l2(0.001), activation='elu'),\n",
        "    layers.Dropout(0.5),\n",
        "    layers.Dense(1)\n",
        "])\n",
        "\n",
        "model.summary()\n",
        "compile_and_fit(model)"
      ],
      "execution_count": 18,
      "outputs": [
        {
          "output_type": "stream",
          "name": "stdout",
          "text": [
            "Model: \"sequential_3\"\n",
            "_________________________________________________________________\n",
            " Layer (type)                Output Shape              Param #   \n",
            "=================================================================\n",
            " dense_9 (Dense)             (None, 64)                1856      \n",
            "                                                                 \n",
            " dropout (Dropout)           (None, 64)                0         \n",
            "                                                                 \n",
            " dense_10 (Dense)            (None, 128)               8320      \n",
            "                                                                 \n",
            " dropout_1 (Dropout)         (None, 128)               0         \n",
            "                                                                 \n",
            " dense_11 (Dense)            (None, 128)               16512     \n",
            "                                                                 \n",
            " dropout_2 (Dropout)         (None, 128)               0         \n",
            "                                                                 \n",
            " dense_12 (Dense)            (None, 1)                 129       \n",
            "                                                                 \n",
            "=================================================================\n",
            "Total params: 26,817\n",
            "Trainable params: 26,817\n",
            "Non-trainable params: 0\n",
            "_________________________________________________________________\n",
            "Model: \"sequential_3\"\n",
            "_________________________________________________________________\n",
            " Layer (type)                Output Shape              Param #   \n",
            "=================================================================\n",
            " dense_9 (Dense)             (None, 64)                1856      \n",
            "                                                                 \n",
            " dropout (Dropout)           (None, 64)                0         \n",
            "                                                                 \n",
            " dense_10 (Dense)            (None, 128)               8320      \n",
            "                                                                 \n",
            " dropout_1 (Dropout)         (None, 128)               0         \n",
            "                                                                 \n",
            " dense_11 (Dense)            (None, 128)               16512     \n",
            "                                                                 \n",
            " dropout_2 (Dropout)         (None, 128)               0         \n",
            "                                                                 \n",
            " dense_12 (Dense)            (None, 1)                 129       \n",
            "                                                                 \n",
            "=================================================================\n",
            "Total params: 26,817\n",
            "Trainable params: 26,817\n",
            "Non-trainable params: 0\n",
            "_________________________________________________________________\n",
            "\n",
            "Epoch: 0, accuracy:0.4915,  binary_crossentropy:0.8612,  loss:1.1078,  val_accuracy:0.4620,  val_binary_crossentropy:0.6843,  val_loss:0.9243,  \n",
            "....................................................................................................\n",
            "Epoch: 100, accuracy:0.5754,  binary_crossentropy:0.6446,  loss:0.6533,  val_accuracy:0.5950,  val_binary_crossentropy:0.6355,  val_loss:0.6441,  \n",
            "....................................................................................................\n",
            "Epoch: 200, accuracy:0.5786,  binary_crossentropy:0.6405,  loss:0.6476,  val_accuracy:0.5560,  val_binary_crossentropy:0.6328,  val_loss:0.6398,  \n",
            "....................................................................................................\n",
            "Epoch: 300, accuracy:0.5767,  binary_crossentropy:0.6406,  loss:0.6469,  val_accuracy:0.5610,  val_binary_crossentropy:0.6284,  val_loss:0.6348,  \n",
            "....................................................................................................\n",
            "Epoch: 400, accuracy:0.5710,  binary_crossentropy:0.6434,  loss:0.6493,  val_accuracy:0.5890,  val_binary_crossentropy:0.6268,  val_loss:0.6330,  \n",
            "....................................................................................................\n",
            "Epoch: 500, accuracy:0.5667,  binary_crossentropy:0.6431,  loss:0.6489,  val_accuracy:0.5570,  val_binary_crossentropy:0.6307,  val_loss:0.6366,  \n",
            "....................................................................................................\n",
            "Epoch: 600, accuracy:0.5712,  binary_crossentropy:0.6399,  loss:0.6456,  val_accuracy:0.5620,  val_binary_crossentropy:0.6277,  val_loss:0.6333,  \n",
            "....................................................................................................\n",
            "Epoch: 700, accuracy:0.5745,  binary_crossentropy:0.6428,  loss:0.6484,  val_accuracy:0.5970,  val_binary_crossentropy:0.6304,  val_loss:0.6360,  \n",
            "............................"
          ]
        },
        {
          "output_type": "execute_result",
          "data": {
            "text/plain": [
              "<keras.callbacks.History at 0x7f4c5d69fe10>"
            ]
          },
          "metadata": {},
          "execution_count": 18
        }
      ]
    },
    {
      "cell_type": "code",
      "metadata": {
        "id": "TIO0rgvLwu0J",
        "colab": {
          "base_uri": "https://localhost:8080/"
        },
        "outputId": "3a887a48-d967-410d-ece0-a48a2de8a9d9"
      },
      "source": [
        "model = tf.keras.Sequential([\n",
        "    layers.Dense(256, kernel_regularizer=regularizers.l2(0.001),activation='elu', input_shape=(FEATURES,)),\n",
        "    layers.Dropout(0.5),\n",
        "    layers.Dense(256, kernel_regularizer=regularizers.l2(0.001),activation='elu'),\n",
        "    layers.Dropout(0.5),\n",
        "    layers.Dense(256, kernel_regularizer=regularizers.l2(0.001),activation='elu'),\n",
        "    layers.Dropout(0.5),\n",
        "    layers.Dense(256, kernel_regularizer=regularizers.l2(0.001),activation='elu'),\n",
        "    layers.Dropout(0.5),\n",
        "    layers.Dense(1)\n",
        "])\n",
        "\n",
        "model.summary()\n",
        "compile_and_fit(model)"
      ],
      "execution_count": 19,
      "outputs": [
        {
          "output_type": "stream",
          "name": "stdout",
          "text": [
            "Model: \"sequential_4\"\n",
            "_________________________________________________________________\n",
            " Layer (type)                Output Shape              Param #   \n",
            "=================================================================\n",
            " dense_13 (Dense)            (None, 256)               7424      \n",
            "                                                                 \n",
            " dropout_3 (Dropout)         (None, 256)               0         \n",
            "                                                                 \n",
            " dense_14 (Dense)            (None, 256)               65792     \n",
            "                                                                 \n",
            " dropout_4 (Dropout)         (None, 256)               0         \n",
            "                                                                 \n",
            " dense_15 (Dense)            (None, 256)               65792     \n",
            "                                                                 \n",
            " dropout_5 (Dropout)         (None, 256)               0         \n",
            "                                                                 \n",
            " dense_16 (Dense)            (None, 256)               65792     \n",
            "                                                                 \n",
            " dropout_6 (Dropout)         (None, 256)               0         \n",
            "                                                                 \n",
            " dense_17 (Dense)            (None, 1)                 257       \n",
            "                                                                 \n",
            "=================================================================\n",
            "Total params: 205,057\n",
            "Trainable params: 205,057\n",
            "Non-trainable params: 0\n",
            "_________________________________________________________________\n",
            "Model: \"sequential_4\"\n",
            "_________________________________________________________________\n",
            " Layer (type)                Output Shape              Param #   \n",
            "=================================================================\n",
            " dense_13 (Dense)            (None, 256)               7424      \n",
            "                                                                 \n",
            " dropout_3 (Dropout)         (None, 256)               0         \n",
            "                                                                 \n",
            " dense_14 (Dense)            (None, 256)               65792     \n",
            "                                                                 \n",
            " dropout_4 (Dropout)         (None, 256)               0         \n",
            "                                                                 \n",
            " dense_15 (Dense)            (None, 256)               65792     \n",
            "                                                                 \n",
            " dropout_5 (Dropout)         (None, 256)               0         \n",
            "                                                                 \n",
            " dense_16 (Dense)            (None, 256)               65792     \n",
            "                                                                 \n",
            " dropout_6 (Dropout)         (None, 256)               0         \n",
            "                                                                 \n",
            " dense_17 (Dense)            (None, 1)                 257       \n",
            "                                                                 \n",
            "=================================================================\n",
            "Total params: 205,057\n",
            "Trainable params: 205,057\n",
            "Non-trainable params: 0\n",
            "_________________________________________________________________\n",
            "\n",
            "Epoch: 0, accuracy:0.5033,  binary_crossentropy:0.8148,  loss:1.6125,  val_accuracy:0.4720,  val_binary_crossentropy:0.6787,  val_loss:1.4512,  \n",
            "....................................................................................................\n",
            "Epoch: 100, accuracy:0.5717,  binary_crossentropy:0.6454,  loss:0.6562,  val_accuracy:0.5580,  val_binary_crossentropy:0.6339,  val_loss:0.6445,  \n",
            "....................................................................................................\n",
            "Epoch: 200, accuracy:0.5751,  binary_crossentropy:0.6427,  loss:0.6525,  val_accuracy:0.5370,  val_binary_crossentropy:0.6365,  val_loss:0.6460,  \n",
            "....................................................................................................\n",
            "Epoch: 300, accuracy:0.5649,  binary_crossentropy:0.6445,  loss:0.6543,  val_accuracy:0.5710,  val_binary_crossentropy:0.6327,  val_loss:0.6424,  \n",
            "....................................................................................................\n",
            "Epoch: 400, accuracy:0.5745,  binary_crossentropy:0.6438,  loss:0.6533,  val_accuracy:0.5680,  val_binary_crossentropy:0.6330,  val_loss:0.6422,  \n",
            "....................................................................................................\n",
            "Epoch: 500, accuracy:0.5778,  binary_crossentropy:0.6431,  loss:0.6531,  val_accuracy:0.5440,  val_binary_crossentropy:0.6326,  val_loss:0.6427,  \n",
            "....................................................................................................\n",
            "Epoch: 600, accuracy:0.5717,  binary_crossentropy:0.6438,  loss:0.6537,  val_accuracy:0.5940,  val_binary_crossentropy:0.6315,  val_loss:0.6413,  \n",
            "....................................................................................................\n",
            "Epoch: 700, accuracy:0.5736,  binary_crossentropy:0.6424,  loss:0.6515,  val_accuracy:0.5780,  val_binary_crossentropy:0.6345,  val_loss:0.6433,  \n",
            "....................................................................................................\n",
            "Epoch: 800, accuracy:0.5717,  binary_crossentropy:0.6435,  loss:0.6532,  val_accuracy:0.5710,  val_binary_crossentropy:0.6274,  val_loss:0.6374,  \n",
            "....................................................................................................\n",
            "Epoch: 900, accuracy:0.5757,  binary_crossentropy:0.6419,  loss:0.6514,  val_accuracy:0.5400,  val_binary_crossentropy:0.6356,  val_loss:0.6453,  \n",
            "......................................"
          ]
        },
        {
          "output_type": "execute_result",
          "data": {
            "text/plain": [
              "<keras.callbacks.History at 0x7f4c5fe10250>"
            ]
          },
          "metadata": {},
          "execution_count": 19
        }
      ]
    },
    {
      "cell_type": "code",
      "metadata": {
        "id": "VWFjZ5gJww-J",
        "colab": {
          "base_uri": "https://localhost:8080/"
        },
        "outputId": "aa14a766-c294-47a0-cff9-98c0761c08af"
      },
      "source": [
        "model = tf.keras.Sequential([\n",
        "    layers.Dense(512, kernel_regularizer=regularizers.l2(0.001), activation='elu', input_shape=(FEATURES,)),\n",
        "    layers.Dropout(0.5),\n",
        "    layers.Dense(512, kernel_regularizer=regularizers.l2(0.001), activation='elu'),\n",
        "    layers.Dropout(0.5),\n",
        "    layers.Dense(512, kernel_regularizer=regularizers.l2(0.001), activation='elu'),\n",
        "    layers.Dropout(0.5),\n",
        "    layers.Dense(512, kernel_regularizer=regularizers.l2(0.001), activation='elu'),\n",
        "    layers.Dropout(0.5),\n",
        "    layers.Dense(1)\n",
        "])\n",
        "\n",
        "model.summary()\n",
        "compile_and_fit(model)"
      ],
      "execution_count": 20,
      "outputs": [
        {
          "output_type": "stream",
          "name": "stdout",
          "text": [
            "Model: \"sequential_5\"\n",
            "_________________________________________________________________\n",
            " Layer (type)                Output Shape              Param #   \n",
            "=================================================================\n",
            " dense_18 (Dense)            (None, 512)               14848     \n",
            "                                                                 \n",
            " dropout_7 (Dropout)         (None, 512)               0         \n",
            "                                                                 \n",
            " dense_19 (Dense)            (None, 512)               262656    \n",
            "                                                                 \n",
            " dropout_8 (Dropout)         (None, 512)               0         \n",
            "                                                                 \n",
            " dense_20 (Dense)            (None, 512)               262656    \n",
            "                                                                 \n",
            " dropout_9 (Dropout)         (None, 512)               0         \n",
            "                                                                 \n",
            " dense_21 (Dense)            (None, 512)               262656    \n",
            "                                                                 \n",
            " dropout_10 (Dropout)        (None, 512)               0         \n",
            "                                                                 \n",
            " dense_22 (Dense)            (None, 1)                 513       \n",
            "                                                                 \n",
            "=================================================================\n",
            "Total params: 803,329\n",
            "Trainable params: 803,329\n",
            "Non-trainable params: 0\n",
            "_________________________________________________________________\n",
            "Model: \"sequential_5\"\n",
            "_________________________________________________________________\n",
            " Layer (type)                Output Shape              Param #   \n",
            "=================================================================\n",
            " dense_18 (Dense)            (None, 512)               14848     \n",
            "                                                                 \n",
            " dropout_7 (Dropout)         (None, 512)               0         \n",
            "                                                                 \n",
            " dense_19 (Dense)            (None, 512)               262656    \n",
            "                                                                 \n",
            " dropout_8 (Dropout)         (None, 512)               0         \n",
            "                                                                 \n",
            " dense_20 (Dense)            (None, 512)               262656    \n",
            "                                                                 \n",
            " dropout_9 (Dropout)         (None, 512)               0         \n",
            "                                                                 \n",
            " dense_21 (Dense)            (None, 512)               262656    \n",
            "                                                                 \n",
            " dropout_10 (Dropout)        (None, 512)               0         \n",
            "                                                                 \n",
            " dense_22 (Dense)            (None, 1)                 513       \n",
            "                                                                 \n",
            "=================================================================\n",
            "Total params: 803,329\n",
            "Trainable params: 803,329\n",
            "Non-trainable params: 0\n",
            "_________________________________________________________________\n",
            "\n",
            "Epoch: 0, accuracy:0.5038,  binary_crossentropy:0.8124,  loss:2.3473,  val_accuracy:0.4630,  val_binary_crossentropy:0.6856,  val_loss:2.1570,  \n",
            "....................................................................................................\n",
            "Epoch: 100, accuracy:0.5672,  binary_crossentropy:0.6436,  loss:0.6554,  val_accuracy:0.5560,  val_binary_crossentropy:0.6334,  val_loss:0.6455,  \n",
            "....................................................................................................\n",
            "Epoch: 200, accuracy:0.5687,  binary_crossentropy:0.6435,  loss:0.6561,  val_accuracy:0.5960,  val_binary_crossentropy:0.6296,  val_loss:0.6423,  \n",
            "....................................................................................................\n",
            "Epoch: 300, accuracy:0.5764,  binary_crossentropy:0.6425,  loss:0.6546,  val_accuracy:0.5710,  val_binary_crossentropy:0.6279,  val_loss:0.6400,  \n",
            "................................................................."
          ]
        },
        {
          "output_type": "execute_result",
          "data": {
            "text/plain": [
              "<keras.callbacks.History at 0x7f4c5fbf31d0>"
            ]
          },
          "metadata": {},
          "execution_count": 20
        }
      ]
    },
    {
      "cell_type": "markdown",
      "metadata": {
        "id": "7smnmNkh-2Rj"
      },
      "source": [
        "random"
      ]
    },
    {
      "cell_type": "code",
      "metadata": {
        "colab": {
          "base_uri": "https://localhost:8080/"
        },
        "id": "u1tLVHhw-0Fe",
        "outputId": "db4072fd-a9e6-4eea-e5ed-6677358547a0"
      },
      "source": [
        "\n",
        "model = tf.keras.Sequential([\n",
        "    layers.Dense(256, kernel_regularizer=regularizers.l1(0.001), activation='elu', input_shape=(FEATURES,)),\n",
        "    layers.Dropout(0.5),\n",
        "    layers.Dense(256, kernel_regularizer=regularizers.l1(0.001), activation='elu'),\n",
        "    layers.Dropout(0.5),\n",
        "    layers.Dense(256, kernel_regularizer=regularizers.l1(0.001), activation='elu'),\n",
        "    layers.Dropout(0.5),\n",
        "    layers.Dense(256, kernel_regularizer=regularizers.l1(0.001), activation='elu'),\n",
        "    layers.Dropout(0.5),\n",
        "    layers.Dense(1)\n",
        "])\n",
        "\n",
        "model.summary()\n",
        "compile_and_fit(model)"
      ],
      "execution_count": 8,
      "outputs": [
        {
          "output_type": "stream",
          "name": "stdout",
          "text": [
            "Model: \"sequential\"\n",
            "_________________________________________________________________\n",
            " Layer (type)                Output Shape              Param #   \n",
            "=================================================================\n",
            " dense (Dense)               (None, 256)               7424      \n",
            "                                                                 \n",
            " dropout (Dropout)           (None, 256)               0         \n",
            "                                                                 \n",
            " dense_1 (Dense)             (None, 256)               65792     \n",
            "                                                                 \n",
            " dropout_1 (Dropout)         (None, 256)               0         \n",
            "                                                                 \n",
            " dense_2 (Dense)             (None, 256)               65792     \n",
            "                                                                 \n",
            " dropout_2 (Dropout)         (None, 256)               0         \n",
            "                                                                 \n",
            " dense_3 (Dense)             (None, 256)               65792     \n",
            "                                                                 \n",
            " dropout_3 (Dropout)         (None, 256)               0         \n",
            "                                                                 \n",
            " dense_4 (Dense)             (None, 1)                 257       \n",
            "                                                                 \n",
            "=================================================================\n",
            "Total params: 205,057\n",
            "Trainable params: 205,057\n",
            "Non-trainable params: 0\n",
            "_________________________________________________________________\n",
            "Model: \"sequential\"\n",
            "_________________________________________________________________\n",
            " Layer (type)                Output Shape              Param #   \n",
            "=================================================================\n",
            " dense (Dense)               (None, 256)               7424      \n",
            "                                                                 \n",
            " dropout (Dropout)           (None, 256)               0         \n",
            "                                                                 \n",
            " dense_1 (Dense)             (None, 256)               65792     \n",
            "                                                                 \n",
            " dropout_1 (Dropout)         (None, 256)               0         \n",
            "                                                                 \n",
            " dense_2 (Dense)             (None, 256)               65792     \n",
            "                                                                 \n",
            " dropout_2 (Dropout)         (None, 256)               0         \n",
            "                                                                 \n",
            " dense_3 (Dense)             (None, 256)               65792     \n",
            "                                                                 \n",
            " dropout_3 (Dropout)         (None, 256)               0         \n",
            "                                                                 \n",
            " dense_4 (Dense)             (None, 1)                 257       \n",
            "                                                                 \n",
            "=================================================================\n",
            "Total params: 205,057\n",
            "Trainable params: 205,057\n",
            "Non-trainable params: 0\n",
            "_________________________________________________________________\n",
            "\n",
            "Epoch: 0, accuracy:0.4933,  binary_crossentropy:0.7962,  loss:11.0550,  val_accuracy:0.4630,  val_binary_crossentropy:0.6804,  val_loss:9.8915,  \n",
            "....................................................................................................\n",
            "Epoch: 100, accuracy:0.4738,  binary_crossentropy:0.6917,  loss:0.7149,  val_accuracy:0.4600,  val_binary_crossentropy:0.6902,  val_loss:0.7134,  \n",
            "....................................................................................................\n",
            "Epoch: 200, accuracy:0.4738,  binary_crossentropy:0.6918,  loss:0.7151,  val_accuracy:0.4600,  val_binary_crossentropy:0.6905,  val_loss:0.7137,  \n",
            "..................."
          ]
        },
        {
          "output_type": "execute_result",
          "data": {
            "text/plain": [
              "<keras.callbacks.History at 0x7faf9f2d7bd0>"
            ]
          },
          "metadata": {},
          "execution_count": 8
        }
      ]
    },
    {
      "cell_type": "code",
      "metadata": {
        "colab": {
          "base_uri": "https://localhost:8080/"
        },
        "id": "MUwnUsIa_Pza",
        "outputId": "da00df5e-e827-431e-9569-66640e84a6d8"
      },
      "source": [
        "model = tf.keras.Sequential([\n",
        "    layers.Dense(512, kernel_regularizer=regularizers.l1(0.001), activation='elu', input_shape=(FEATURES,)),\n",
        "    layers.Dropout(0.5),\n",
        "    layers.Dense(512, kernel_regularizer=regularizers.l1(0.001), activation='elu'),\n",
        "    layers.Dropout(0.5),\n",
        "    layers.Dense(512, kernel_regularizer=regularizers.l1(0.001), activation='elu'),\n",
        "    layers.Dropout(0.5),\n",
        "    layers.Dense(512, kernel_regularizer=regularizers.l1(0.001), activation='elu'),\n",
        "    layers.Dropout(0.5),\n",
        "    layers.Dense(1)\n",
        "])\n",
        "\n",
        "model.summary()\n",
        "compile_and_fit(model)"
      ],
      "execution_count": 9,
      "outputs": [
        {
          "output_type": "stream",
          "name": "stdout",
          "text": [
            "Model: \"sequential_1\"\n",
            "_________________________________________________________________\n",
            " Layer (type)                Output Shape              Param #   \n",
            "=================================================================\n",
            " dense_5 (Dense)             (None, 512)               14848     \n",
            "                                                                 \n",
            " dropout_4 (Dropout)         (None, 512)               0         \n",
            "                                                                 \n",
            " dense_6 (Dense)             (None, 512)               262656    \n",
            "                                                                 \n",
            " dropout_5 (Dropout)         (None, 512)               0         \n",
            "                                                                 \n",
            " dense_7 (Dense)             (None, 512)               262656    \n",
            "                                                                 \n",
            " dropout_6 (Dropout)         (None, 512)               0         \n",
            "                                                                 \n",
            " dense_8 (Dense)             (None, 512)               262656    \n",
            "                                                                 \n",
            " dropout_7 (Dropout)         (None, 512)               0         \n",
            "                                                                 \n",
            " dense_9 (Dense)             (None, 1)                 513       \n",
            "                                                                 \n",
            "=================================================================\n",
            "Total params: 803,329\n",
            "Trainable params: 803,329\n",
            "Non-trainable params: 0\n",
            "_________________________________________________________________\n",
            "Model: \"sequential_1\"\n",
            "_________________________________________________________________\n",
            " Layer (type)                Output Shape              Param #   \n",
            "=================================================================\n",
            " dense_5 (Dense)             (None, 512)               14848     \n",
            "                                                                 \n",
            " dropout_4 (Dropout)         (None, 512)               0         \n",
            "                                                                 \n",
            " dense_6 (Dense)             (None, 512)               262656    \n",
            "                                                                 \n",
            " dropout_5 (Dropout)         (None, 512)               0         \n",
            "                                                                 \n",
            " dense_7 (Dense)             (None, 512)               262656    \n",
            "                                                                 \n",
            " dropout_6 (Dropout)         (None, 512)               0         \n",
            "                                                                 \n",
            " dense_8 (Dense)             (None, 512)               262656    \n",
            "                                                                 \n",
            " dropout_7 (Dropout)         (None, 512)               0         \n",
            "                                                                 \n",
            " dense_9 (Dense)             (None, 1)                 513       \n",
            "                                                                 \n",
            "=================================================================\n",
            "Total params: 803,329\n",
            "Trainable params: 803,329\n",
            "Non-trainable params: 0\n",
            "_________________________________________________________________\n",
            "\n",
            "Epoch: 0, accuracy:0.5068,  binary_crossentropy:0.7626,  loss:27.2318,  val_accuracy:0.4990,  val_binary_crossentropy:0.6827,  val_loss:22.2005,  \n",
            "....................................................................................................\n",
            "Epoch: 100, accuracy:0.4738,  binary_crossentropy:0.6920,  loss:0.7859,  val_accuracy:0.4600,  val_binary_crossentropy:0.6905,  val_loss:0.7843,  \n",
            "....................................................................................................\n",
            "Epoch: 200, accuracy:0.4738,  binary_crossentropy:0.6918,  loss:0.7851,  val_accuracy:0.4600,  val_binary_crossentropy:0.6904,  val_loss:0.7838,  \n",
            "................"
          ]
        },
        {
          "output_type": "execute_result",
          "data": {
            "text/plain": [
              "<keras.callbacks.History at 0x7faf9970d5d0>"
            ]
          },
          "metadata": {},
          "execution_count": 9
        }
      ]
    },
    {
      "cell_type": "code",
      "metadata": {
        "colab": {
          "base_uri": "https://localhost:8080/"
        },
        "id": "lEofxtEd_iX6",
        "outputId": "e75a6439-6b4c-4500-f66c-45e03a641e66"
      },
      "source": [
        "model = tf.keras.Sequential([\n",
        "    layers.Dense(256, kernel_regularizer=regularizers.L1L2(0.001), activation='elu', input_shape=(FEATURES,)),\n",
        "    layers.Dropout(0.3),\n",
        "    layers.Dense(256, kernel_regularizer=regularizers.L1L2(0.001), activation='elu'),\n",
        "    layers.Dropout(0.3),\n",
        "    layers.Dense(256, kernel_regularizer=regularizers.L1L2(0.001), activation='elu'),\n",
        "    layers.Dropout(0.3),\n",
        "    layers.Dense(256, kernel_regularizer=regularizers.L1L2(0.001), activation='elu'),\n",
        "    layers.Dropout(0.3),\n",
        "    layers.Dense(1)\n",
        "])\n",
        "\n",
        "model.summary()\n",
        "compile_and_fit(model)"
      ],
      "execution_count": 11,
      "outputs": [
        {
          "output_type": "stream",
          "name": "stdout",
          "text": [
            "Model: \"sequential_2\"\n",
            "_________________________________________________________________\n",
            " Layer (type)                Output Shape              Param #   \n",
            "=================================================================\n",
            " dense_10 (Dense)            (None, 256)               7424      \n",
            "                                                                 \n",
            " dropout_8 (Dropout)         (None, 256)               0         \n",
            "                                                                 \n",
            " dense_11 (Dense)            (None, 256)               65792     \n",
            "                                                                 \n",
            " dropout_9 (Dropout)         (None, 256)               0         \n",
            "                                                                 \n",
            " dense_12 (Dense)            (None, 256)               65792     \n",
            "                                                                 \n",
            " dropout_10 (Dropout)        (None, 256)               0         \n",
            "                                                                 \n",
            " dense_13 (Dense)            (None, 256)               65792     \n",
            "                                                                 \n",
            " dropout_11 (Dropout)        (None, 256)               0         \n",
            "                                                                 \n",
            " dense_14 (Dense)            (None, 1)                 257       \n",
            "                                                                 \n",
            "=================================================================\n",
            "Total params: 205,057\n",
            "Trainable params: 205,057\n",
            "Non-trainable params: 0\n",
            "_________________________________________________________________\n",
            "Model: \"sequential_2\"\n",
            "_________________________________________________________________\n",
            " Layer (type)                Output Shape              Param #   \n",
            "=================================================================\n",
            " dense_10 (Dense)            (None, 256)               7424      \n",
            "                                                                 \n",
            " dropout_8 (Dropout)         (None, 256)               0         \n",
            "                                                                 \n",
            " dense_11 (Dense)            (None, 256)               65792     \n",
            "                                                                 \n",
            " dropout_9 (Dropout)         (None, 256)               0         \n",
            "                                                                 \n",
            " dense_12 (Dense)            (None, 256)               65792     \n",
            "                                                                 \n",
            " dropout_10 (Dropout)        (None, 256)               0         \n",
            "                                                                 \n",
            " dense_13 (Dense)            (None, 256)               65792     \n",
            "                                                                 \n",
            " dropout_11 (Dropout)        (None, 256)               0         \n",
            "                                                                 \n",
            " dense_14 (Dense)            (None, 1)                 257       \n",
            "                                                                 \n",
            "=================================================================\n",
            "Total params: 205,057\n",
            "Trainable params: 205,057\n",
            "Non-trainable params: 0\n",
            "_________________________________________________________________\n",
            "\n",
            "Epoch: 0, accuracy:0.5027,  binary_crossentropy:0.7141,  loss:10.6603,  val_accuracy:0.4630,  val_binary_crossentropy:0.6815,  val_loss:9.2477,  \n",
            "....................................................................................................\n",
            "Epoch: 100, accuracy:0.4738,  binary_crossentropy:0.6920,  loss:0.7155,  val_accuracy:0.4600,  val_binary_crossentropy:0.6903,  val_loss:0.7139,  \n",
            "....................................................................................................\n",
            "Epoch: 200, accuracy:0.4738,  binary_crossentropy:0.6919,  loss:0.7154,  val_accuracy:0.4600,  val_binary_crossentropy:0.6903,  val_loss:0.7138,  \n",
            "..............................."
          ]
        },
        {
          "output_type": "execute_result",
          "data": {
            "text/plain": [
              "<keras.callbacks.History at 0x7faf9bdbb590>"
            ]
          },
          "metadata": {},
          "execution_count": 11
        }
      ]
    },
    {
      "cell_type": "code",
      "metadata": {
        "colab": {
          "base_uri": "https://localhost:8080/",
          "height": 1000
        },
        "id": "LJrsnf59_sCR",
        "outputId": "db548d29-d099-47c8-af40-50aba5b64425"
      },
      "source": [
        "model = tf.keras.Sequential([\n",
        "    layers.Dense(512, kernel_regularizer=regularizers.L1L2(0.001), activation='elu', input_shape=(FEATURES,)),\n",
        "    layers.Dropout(0.3),\n",
        "    layers.Dense(512, kernel_regularizer=regularizers.L1L2(0.001), activation='elu'),\n",
        "    layers.Dropout(0.3),\n",
        "    layers.Dense(512, kernel_regularizer=regularizers.L1L2(0.001), activation='elu'),\n",
        "    layers.Dropout(0.3),\n",
        "    layers.Dense(512, kernel_regularizer=regularizers.L1L2(0.001), activation='elu'),\n",
        "    layers.Dropout(0.3),\n",
        "    layers.Dense(1)\n",
        "])\n",
        "\n",
        "model.summary()\n",
        "compile_and_fit(model)"
      ],
      "execution_count": 12,
      "outputs": [
        {
          "output_type": "stream",
          "name": "stdout",
          "text": [
            "Model: \"sequential_3\"\n",
            "_________________________________________________________________\n",
            " Layer (type)                Output Shape              Param #   \n",
            "=================================================================\n",
            " dense_15 (Dense)            (None, 512)               14848     \n",
            "                                                                 \n",
            " dropout_12 (Dropout)        (None, 512)               0         \n",
            "                                                                 \n",
            " dense_16 (Dense)            (None, 512)               262656    \n",
            "                                                                 \n",
            " dropout_13 (Dropout)        (None, 512)               0         \n",
            "                                                                 \n",
            " dense_17 (Dense)            (None, 512)               262656    \n",
            "                                                                 \n",
            " dropout_14 (Dropout)        (None, 512)               0         \n",
            "                                                                 \n",
            " dense_18 (Dense)            (None, 512)               262656    \n",
            "                                                                 \n",
            " dropout_15 (Dropout)        (None, 512)               0         \n",
            "                                                                 \n",
            " dense_19 (Dense)            (None, 1)                 513       \n",
            "                                                                 \n",
            "=================================================================\n",
            "Total params: 803,329\n",
            "Trainable params: 803,329\n",
            "Non-trainable params: 0\n",
            "_________________________________________________________________\n",
            "Model: \"sequential_3\"\n",
            "_________________________________________________________________\n",
            " Layer (type)                Output Shape              Param #   \n",
            "=================================================================\n",
            " dense_15 (Dense)            (None, 512)               14848     \n",
            "                                                                 \n",
            " dropout_12 (Dropout)        (None, 512)               0         \n",
            "                                                                 \n",
            " dense_16 (Dense)            (None, 512)               262656    \n",
            "                                                                 \n",
            " dropout_13 (Dropout)        (None, 512)               0         \n",
            "                                                                 \n",
            " dense_17 (Dense)            (None, 512)               262656    \n",
            "                                                                 \n",
            " dropout_14 (Dropout)        (None, 512)               0         \n",
            "                                                                 \n",
            " dense_18 (Dense)            (None, 512)               262656    \n",
            "                                                                 \n",
            " dropout_15 (Dropout)        (None, 512)               0         \n",
            "                                                                 \n",
            " dense_19 (Dense)            (None, 1)                 513       \n",
            "                                                                 \n",
            "=================================================================\n",
            "Total params: 803,329\n",
            "Trainable params: 803,329\n",
            "Non-trainable params: 0\n",
            "_________________________________________________________________\n",
            "\n",
            "Epoch: 0, accuracy:0.4948,  binary_crossentropy:0.7258,  loss:26.6186,  val_accuracy:0.4770,  val_binary_crossentropy:0.6750,  val_loss:21.1439,  \n",
            "....................................................................................................\n",
            "Epoch: 100, accuracy:0.4738,  binary_crossentropy:0.6919,  loss:0.7865,  val_accuracy:0.4600,  val_binary_crossentropy:0.6903,  val_loss:0.7849,  \n",
            "....................................................................................................\n",
            "Epoch: 200, accuracy:0.4738,  binary_crossentropy:0.6919,  loss:0.7860,  val_accuracy:0.4600,  val_binary_crossentropy:0.6903,  val_loss:0.7845,  \n",
            "....................................................................................................\n",
            "Epoch: 300, accuracy:0.4738,  binary_crossentropy:0.6919,  loss:0.7858,  val_accuracy:0.4600,  val_binary_crossentropy:0.6902,  val_loss:0.7840,  \n",
            "....................................................................................................\n",
            "Epoch: 400, accuracy:0.4738,  binary_crossentropy:0.6919,  loss:0.7856,  val_accuracy:0.4600,  val_binary_crossentropy:0.6904,  val_loss:0.7840,  \n",
            "....................................................................................................\n",
            "Epoch: 500, accuracy:0.4738,  binary_crossentropy:0.6919,  loss:0.7855,  val_accuracy:0.4600,  val_binary_crossentropy:0.6904,  val_loss:0.7841,  \n",
            ".............................................................................................."
          ]
        },
        {
          "output_type": "error",
          "ename": "KeyboardInterrupt",
          "evalue": "ignored",
          "traceback": [
            "\u001b[0;31m---------------------------------------------------------------------------\u001b[0m",
            "\u001b[0;31mKeyboardInterrupt\u001b[0m                         Traceback (most recent call last)",
            "\u001b[0;32m<ipython-input-12-95874d9cb4ac>\u001b[0m in \u001b[0;36m<module>\u001b[0;34m()\u001b[0m\n\u001b[1;32m     12\u001b[0m \u001b[0;34m\u001b[0m\u001b[0m\n\u001b[1;32m     13\u001b[0m \u001b[0mmodel\u001b[0m\u001b[0;34m.\u001b[0m\u001b[0msummary\u001b[0m\u001b[0;34m(\u001b[0m\u001b[0;34m)\u001b[0m\u001b[0;34m\u001b[0m\u001b[0;34m\u001b[0m\u001b[0m\n\u001b[0;32m---> 14\u001b[0;31m \u001b[0mcompile_and_fit\u001b[0m\u001b[0;34m(\u001b[0m\u001b[0mmodel\u001b[0m\u001b[0;34m)\u001b[0m\u001b[0;34m\u001b[0m\u001b[0;34m\u001b[0m\u001b[0m\n\u001b[0m",
            "\u001b[0;32m<ipython-input-7-0cbe90c3fd68>\u001b[0m in \u001b[0;36mcompile_and_fit\u001b[0;34m(model, max_epochs)\u001b[0m\n\u001b[1;32m     15\u001b[0m     \u001b[0mvalidation_data\u001b[0m\u001b[0;34m=\u001b[0m\u001b[0mvalidate_ds\u001b[0m\u001b[0;34m,\u001b[0m\u001b[0;34m\u001b[0m\u001b[0;34m\u001b[0m\u001b[0m\n\u001b[1;32m     16\u001b[0m     \u001b[0mcallbacks\u001b[0m\u001b[0;34m=\u001b[0m\u001b[0mget_callbacks\u001b[0m\u001b[0;34m(\u001b[0m\u001b[0;34m)\u001b[0m\u001b[0;34m,\u001b[0m\u001b[0;34m\u001b[0m\u001b[0;34m\u001b[0m\u001b[0m\n\u001b[0;32m---> 17\u001b[0;31m     verbose=0)\n\u001b[0m\u001b[1;32m     18\u001b[0m   \u001b[0;32mreturn\u001b[0m \u001b[0mhistory\u001b[0m\u001b[0;34m\u001b[0m\u001b[0;34m\u001b[0m\u001b[0m\n",
            "\u001b[0;32m/usr/local/lib/python3.7/dist-packages/keras/utils/traceback_utils.py\u001b[0m in \u001b[0;36merror_handler\u001b[0;34m(*args, **kwargs)\u001b[0m\n\u001b[1;32m     62\u001b[0m     \u001b[0mfiltered_tb\u001b[0m \u001b[0;34m=\u001b[0m \u001b[0;32mNone\u001b[0m\u001b[0;34m\u001b[0m\u001b[0;34m\u001b[0m\u001b[0m\n\u001b[1;32m     63\u001b[0m     \u001b[0;32mtry\u001b[0m\u001b[0;34m:\u001b[0m\u001b[0;34m\u001b[0m\u001b[0;34m\u001b[0m\u001b[0m\n\u001b[0;32m---> 64\u001b[0;31m       \u001b[0;32mreturn\u001b[0m \u001b[0mfn\u001b[0m\u001b[0;34m(\u001b[0m\u001b[0;34m*\u001b[0m\u001b[0margs\u001b[0m\u001b[0;34m,\u001b[0m \u001b[0;34m**\u001b[0m\u001b[0mkwargs\u001b[0m\u001b[0;34m)\u001b[0m\u001b[0;34m\u001b[0m\u001b[0;34m\u001b[0m\u001b[0m\n\u001b[0m\u001b[1;32m     65\u001b[0m     \u001b[0;32mexcept\u001b[0m \u001b[0mException\u001b[0m \u001b[0;32mas\u001b[0m \u001b[0me\u001b[0m\u001b[0;34m:\u001b[0m  \u001b[0;31m# pylint: disable=broad-except\u001b[0m\u001b[0;34m\u001b[0m\u001b[0;34m\u001b[0m\u001b[0m\n\u001b[1;32m     66\u001b[0m       \u001b[0mfiltered_tb\u001b[0m \u001b[0;34m=\u001b[0m \u001b[0m_process_traceback_frames\u001b[0m\u001b[0;34m(\u001b[0m\u001b[0me\u001b[0m\u001b[0;34m.\u001b[0m\u001b[0m__traceback__\u001b[0m\u001b[0;34m)\u001b[0m\u001b[0;34m\u001b[0m\u001b[0;34m\u001b[0m\u001b[0m\n",
            "\u001b[0;32m/usr/local/lib/python3.7/dist-packages/keras/engine/training.py\u001b[0m in \u001b[0;36mfit\u001b[0;34m(self, x, y, batch_size, epochs, verbose, callbacks, validation_split, validation_data, shuffle, class_weight, sample_weight, initial_epoch, steps_per_epoch, validation_steps, validation_batch_size, validation_freq, max_queue_size, workers, use_multiprocessing)\u001b[0m\n\u001b[1;32m   1214\u001b[0m                 _r=1):\n\u001b[1;32m   1215\u001b[0m               \u001b[0mcallbacks\u001b[0m\u001b[0;34m.\u001b[0m\u001b[0mon_train_batch_begin\u001b[0m\u001b[0;34m(\u001b[0m\u001b[0mstep\u001b[0m\u001b[0;34m)\u001b[0m\u001b[0;34m\u001b[0m\u001b[0;34m\u001b[0m\u001b[0m\n\u001b[0;32m-> 1216\u001b[0;31m               \u001b[0mtmp_logs\u001b[0m \u001b[0;34m=\u001b[0m \u001b[0mself\u001b[0m\u001b[0;34m.\u001b[0m\u001b[0mtrain_function\u001b[0m\u001b[0;34m(\u001b[0m\u001b[0miterator\u001b[0m\u001b[0;34m)\u001b[0m\u001b[0;34m\u001b[0m\u001b[0;34m\u001b[0m\u001b[0m\n\u001b[0m\u001b[1;32m   1217\u001b[0m               \u001b[0;32mif\u001b[0m \u001b[0mdata_handler\u001b[0m\u001b[0;34m.\u001b[0m\u001b[0mshould_sync\u001b[0m\u001b[0;34m:\u001b[0m\u001b[0;34m\u001b[0m\u001b[0;34m\u001b[0m\u001b[0m\n\u001b[1;32m   1218\u001b[0m                 \u001b[0mcontext\u001b[0m\u001b[0;34m.\u001b[0m\u001b[0masync_wait\u001b[0m\u001b[0;34m(\u001b[0m\u001b[0;34m)\u001b[0m\u001b[0;34m\u001b[0m\u001b[0;34m\u001b[0m\u001b[0m\n",
            "\u001b[0;32m/usr/local/lib/python3.7/dist-packages/tensorflow/python/util/traceback_utils.py\u001b[0m in \u001b[0;36merror_handler\u001b[0;34m(*args, **kwargs)\u001b[0m\n\u001b[1;32m    148\u001b[0m     \u001b[0mfiltered_tb\u001b[0m \u001b[0;34m=\u001b[0m \u001b[0;32mNone\u001b[0m\u001b[0;34m\u001b[0m\u001b[0;34m\u001b[0m\u001b[0m\n\u001b[1;32m    149\u001b[0m     \u001b[0;32mtry\u001b[0m\u001b[0;34m:\u001b[0m\u001b[0;34m\u001b[0m\u001b[0;34m\u001b[0m\u001b[0m\n\u001b[0;32m--> 150\u001b[0;31m       \u001b[0;32mreturn\u001b[0m \u001b[0mfn\u001b[0m\u001b[0;34m(\u001b[0m\u001b[0;34m*\u001b[0m\u001b[0margs\u001b[0m\u001b[0;34m,\u001b[0m \u001b[0;34m**\u001b[0m\u001b[0mkwargs\u001b[0m\u001b[0;34m)\u001b[0m\u001b[0;34m\u001b[0m\u001b[0;34m\u001b[0m\u001b[0m\n\u001b[0m\u001b[1;32m    151\u001b[0m     \u001b[0;32mexcept\u001b[0m \u001b[0mException\u001b[0m \u001b[0;32mas\u001b[0m \u001b[0me\u001b[0m\u001b[0;34m:\u001b[0m\u001b[0;34m\u001b[0m\u001b[0;34m\u001b[0m\u001b[0m\n\u001b[1;32m    152\u001b[0m       \u001b[0mfiltered_tb\u001b[0m \u001b[0;34m=\u001b[0m \u001b[0m_process_traceback_frames\u001b[0m\u001b[0;34m(\u001b[0m\u001b[0me\u001b[0m\u001b[0;34m.\u001b[0m\u001b[0m__traceback__\u001b[0m\u001b[0;34m)\u001b[0m\u001b[0;34m\u001b[0m\u001b[0;34m\u001b[0m\u001b[0m\n",
            "\u001b[0;32m/usr/local/lib/python3.7/dist-packages/tensorflow/python/eager/def_function.py\u001b[0m in \u001b[0;36m__call__\u001b[0;34m(self, *args, **kwds)\u001b[0m\n\u001b[1;32m    908\u001b[0m \u001b[0;34m\u001b[0m\u001b[0m\n\u001b[1;32m    909\u001b[0m       \u001b[0;32mwith\u001b[0m \u001b[0mOptionalXlaContext\u001b[0m\u001b[0;34m(\u001b[0m\u001b[0mself\u001b[0m\u001b[0;34m.\u001b[0m\u001b[0m_jit_compile\u001b[0m\u001b[0;34m)\u001b[0m\u001b[0;34m:\u001b[0m\u001b[0;34m\u001b[0m\u001b[0;34m\u001b[0m\u001b[0m\n\u001b[0;32m--> 910\u001b[0;31m         \u001b[0mresult\u001b[0m \u001b[0;34m=\u001b[0m \u001b[0mself\u001b[0m\u001b[0;34m.\u001b[0m\u001b[0m_call\u001b[0m\u001b[0;34m(\u001b[0m\u001b[0;34m*\u001b[0m\u001b[0margs\u001b[0m\u001b[0;34m,\u001b[0m \u001b[0;34m**\u001b[0m\u001b[0mkwds\u001b[0m\u001b[0;34m)\u001b[0m\u001b[0;34m\u001b[0m\u001b[0;34m\u001b[0m\u001b[0m\n\u001b[0m\u001b[1;32m    911\u001b[0m \u001b[0;34m\u001b[0m\u001b[0m\n\u001b[1;32m    912\u001b[0m       \u001b[0mnew_tracing_count\u001b[0m \u001b[0;34m=\u001b[0m \u001b[0mself\u001b[0m\u001b[0;34m.\u001b[0m\u001b[0mexperimental_get_tracing_count\u001b[0m\u001b[0;34m(\u001b[0m\u001b[0;34m)\u001b[0m\u001b[0;34m\u001b[0m\u001b[0;34m\u001b[0m\u001b[0m\n",
            "\u001b[0;32m/usr/local/lib/python3.7/dist-packages/tensorflow/python/eager/def_function.py\u001b[0m in \u001b[0;36m_call\u001b[0;34m(self, *args, **kwds)\u001b[0m\n\u001b[1;32m    940\u001b[0m       \u001b[0;31m# In this case we have created variables on the first call, so we run the\u001b[0m\u001b[0;34m\u001b[0m\u001b[0;34m\u001b[0m\u001b[0;34m\u001b[0m\u001b[0m\n\u001b[1;32m    941\u001b[0m       \u001b[0;31m# defunned version which is guaranteed to never create variables.\u001b[0m\u001b[0;34m\u001b[0m\u001b[0;34m\u001b[0m\u001b[0;34m\u001b[0m\u001b[0m\n\u001b[0;32m--> 942\u001b[0;31m       \u001b[0;32mreturn\u001b[0m \u001b[0mself\u001b[0m\u001b[0;34m.\u001b[0m\u001b[0m_stateless_fn\u001b[0m\u001b[0;34m(\u001b[0m\u001b[0;34m*\u001b[0m\u001b[0margs\u001b[0m\u001b[0;34m,\u001b[0m \u001b[0;34m**\u001b[0m\u001b[0mkwds\u001b[0m\u001b[0;34m)\u001b[0m  \u001b[0;31m# pylint: disable=not-callable\u001b[0m\u001b[0;34m\u001b[0m\u001b[0;34m\u001b[0m\u001b[0m\n\u001b[0m\u001b[1;32m    943\u001b[0m     \u001b[0;32melif\u001b[0m \u001b[0mself\u001b[0m\u001b[0;34m.\u001b[0m\u001b[0m_stateful_fn\u001b[0m \u001b[0;32mis\u001b[0m \u001b[0;32mnot\u001b[0m \u001b[0;32mNone\u001b[0m\u001b[0;34m:\u001b[0m\u001b[0;34m\u001b[0m\u001b[0;34m\u001b[0m\u001b[0m\n\u001b[1;32m    944\u001b[0m       \u001b[0;31m# Release the lock early so that multiple threads can perform the call\u001b[0m\u001b[0;34m\u001b[0m\u001b[0;34m\u001b[0m\u001b[0;34m\u001b[0m\u001b[0m\n",
            "\u001b[0;32m/usr/local/lib/python3.7/dist-packages/tensorflow/python/eager/function.py\u001b[0m in \u001b[0;36m__call__\u001b[0;34m(self, *args, **kwargs)\u001b[0m\n\u001b[1;32m   3129\u001b[0m        filtered_flat_args) = self._maybe_define_function(args, kwargs)\n\u001b[1;32m   3130\u001b[0m     return graph_function._call_flat(\n\u001b[0;32m-> 3131\u001b[0;31m         filtered_flat_args, captured_inputs=graph_function.captured_inputs)  # pylint: disable=protected-access\n\u001b[0m\u001b[1;32m   3132\u001b[0m \u001b[0;34m\u001b[0m\u001b[0m\n\u001b[1;32m   3133\u001b[0m   \u001b[0;34m@\u001b[0m\u001b[0mproperty\u001b[0m\u001b[0;34m\u001b[0m\u001b[0;34m\u001b[0m\u001b[0m\n",
            "\u001b[0;32m/usr/local/lib/python3.7/dist-packages/tensorflow/python/eager/function.py\u001b[0m in \u001b[0;36m_call_flat\u001b[0;34m(self, args, captured_inputs, cancellation_manager)\u001b[0m\n\u001b[1;32m   1958\u001b[0m       \u001b[0;31m# No tape is watching; skip to running the function.\u001b[0m\u001b[0;34m\u001b[0m\u001b[0;34m\u001b[0m\u001b[0;34m\u001b[0m\u001b[0m\n\u001b[1;32m   1959\u001b[0m       return self._build_call_outputs(self._inference_function.call(\n\u001b[0;32m-> 1960\u001b[0;31m           ctx, args, cancellation_manager=cancellation_manager))\n\u001b[0m\u001b[1;32m   1961\u001b[0m     forward_backward = self._select_forward_and_backward_functions(\n\u001b[1;32m   1962\u001b[0m         \u001b[0margs\u001b[0m\u001b[0;34m,\u001b[0m\u001b[0;34m\u001b[0m\u001b[0;34m\u001b[0m\u001b[0m\n",
            "\u001b[0;32m/usr/local/lib/python3.7/dist-packages/tensorflow/python/eager/function.py\u001b[0m in \u001b[0;36mcall\u001b[0;34m(self, ctx, args, cancellation_manager)\u001b[0m\n\u001b[1;32m    601\u001b[0m               \u001b[0minputs\u001b[0m\u001b[0;34m=\u001b[0m\u001b[0margs\u001b[0m\u001b[0;34m,\u001b[0m\u001b[0;34m\u001b[0m\u001b[0;34m\u001b[0m\u001b[0m\n\u001b[1;32m    602\u001b[0m               \u001b[0mattrs\u001b[0m\u001b[0;34m=\u001b[0m\u001b[0mattrs\u001b[0m\u001b[0;34m,\u001b[0m\u001b[0;34m\u001b[0m\u001b[0;34m\u001b[0m\u001b[0m\n\u001b[0;32m--> 603\u001b[0;31m               ctx=ctx)\n\u001b[0m\u001b[1;32m    604\u001b[0m         \u001b[0;32melse\u001b[0m\u001b[0;34m:\u001b[0m\u001b[0;34m\u001b[0m\u001b[0;34m\u001b[0m\u001b[0m\n\u001b[1;32m    605\u001b[0m           outputs = execute.execute_with_cancellation(\n",
            "\u001b[0;32m/usr/local/lib/python3.7/dist-packages/tensorflow/python/eager/execute.py\u001b[0m in \u001b[0;36mquick_execute\u001b[0;34m(op_name, num_outputs, inputs, attrs, ctx, name)\u001b[0m\n\u001b[1;32m     57\u001b[0m     \u001b[0mctx\u001b[0m\u001b[0;34m.\u001b[0m\u001b[0mensure_initialized\u001b[0m\u001b[0;34m(\u001b[0m\u001b[0;34m)\u001b[0m\u001b[0;34m\u001b[0m\u001b[0;34m\u001b[0m\u001b[0m\n\u001b[1;32m     58\u001b[0m     tensors = pywrap_tfe.TFE_Py_Execute(ctx._handle, device_name, op_name,\n\u001b[0;32m---> 59\u001b[0;31m                                         inputs, attrs, num_outputs)\n\u001b[0m\u001b[1;32m     60\u001b[0m   \u001b[0;32mexcept\u001b[0m \u001b[0mcore\u001b[0m\u001b[0;34m.\u001b[0m\u001b[0m_NotOkStatusException\u001b[0m \u001b[0;32mas\u001b[0m \u001b[0me\u001b[0m\u001b[0;34m:\u001b[0m\u001b[0;34m\u001b[0m\u001b[0;34m\u001b[0m\u001b[0m\n\u001b[1;32m     61\u001b[0m     \u001b[0;32mif\u001b[0m \u001b[0mname\u001b[0m \u001b[0;32mis\u001b[0m \u001b[0;32mnot\u001b[0m \u001b[0;32mNone\u001b[0m\u001b[0;34m:\u001b[0m\u001b[0;34m\u001b[0m\u001b[0;34m\u001b[0m\u001b[0m\n",
            "\u001b[0;31mKeyboardInterrupt\u001b[0m: "
          ]
        }
      ]
    },
    {
      "cell_type": "code",
      "metadata": {
        "colab": {
          "base_uri": "https://localhost:8080/"
        },
        "id": "Kqo4nnnWCeNh",
        "outputId": "9eb36711-5afe-4135-c0e4-13429d1e3bfe"
      },
      "source": [
        "model = tf.keras.Sequential([\n",
        "    layers.Dense(64, kernel_regularizer=regularizers.L1L2(0.0005), activation='elu', input_shape=(FEATURES,)),\n",
        "    layers.Dropout(0.4),\n",
        "    layers.Dense(128, kernel_regularizer=regularizers.L1L2(0.0005), activation='elu'),\n",
        "    layers.Dropout(0.4),\n",
        "    layers.Dense(128, kernel_regularizer=regularizers.L1L2(0.0005), activation='elu'),\n",
        "    layers.Dropout(0.4),\n",
        "    layers.Dense(1)\n",
        "])\n",
        "\n",
        "model.summary()\n",
        "compile_and_fit(model)"
      ],
      "execution_count": 13,
      "outputs": [
        {
          "output_type": "stream",
          "name": "stdout",
          "text": [
            "Model: \"sequential_4\"\n",
            "_________________________________________________________________\n",
            " Layer (type)                Output Shape              Param #   \n",
            "=================================================================\n",
            " dense_20 (Dense)            (None, 64)                1856      \n",
            "                                                                 \n",
            " dropout_16 (Dropout)        (None, 64)                0         \n",
            "                                                                 \n",
            " dense_21 (Dense)            (None, 128)               8320      \n",
            "                                                                 \n",
            " dropout_17 (Dropout)        (None, 128)               0         \n",
            "                                                                 \n",
            " dense_22 (Dense)            (None, 128)               16512     \n",
            "                                                                 \n",
            " dropout_18 (Dropout)        (None, 128)               0         \n",
            "                                                                 \n",
            " dense_23 (Dense)            (None, 1)                 129       \n",
            "                                                                 \n",
            "=================================================================\n",
            "Total params: 26,817\n",
            "Trainable params: 26,817\n",
            "Non-trainable params: 0\n",
            "_________________________________________________________________\n",
            "Model: \"sequential_4\"\n",
            "_________________________________________________________________\n",
            " Layer (type)                Output Shape              Param #   \n",
            "=================================================================\n",
            " dense_20 (Dense)            (None, 64)                1856      \n",
            "                                                                 \n",
            " dropout_16 (Dropout)        (None, 64)                0         \n",
            "                                                                 \n",
            " dense_21 (Dense)            (None, 128)               8320      \n",
            "                                                                 \n",
            " dropout_17 (Dropout)        (None, 128)               0         \n",
            "                                                                 \n",
            " dense_22 (Dense)            (None, 128)               16512     \n",
            "                                                                 \n",
            " dropout_18 (Dropout)        (None, 128)               0         \n",
            "                                                                 \n",
            " dense_23 (Dense)            (None, 1)                 129       \n",
            "                                                                 \n",
            "=================================================================\n",
            "Total params: 26,817\n",
            "Trainable params: 26,817\n",
            "Non-trainable params: 0\n",
            "_________________________________________________________________\n",
            "\n",
            "Epoch: 0, accuracy:0.5001,  binary_crossentropy:0.7899,  loss:1.8724,  val_accuracy:0.5160,  val_binary_crossentropy:0.6768,  val_loss:1.7288,  \n",
            "....................................................................................................\n",
            "Epoch: 100, accuracy:0.5612,  binary_crossentropy:0.6445,  loss:0.6649,  val_accuracy:0.5540,  val_binary_crossentropy:0.6323,  val_loss:0.6528,  \n",
            "....................................................................................................\n",
            "Epoch: 200, accuracy:0.5599,  binary_crossentropy:0.6444,  loss:0.6619,  val_accuracy:0.5620,  val_binary_crossentropy:0.6284,  val_loss:0.6461,  \n",
            "....................................................................................................\n",
            "Epoch: 300, accuracy:0.5646,  binary_crossentropy:0.6440,  loss:0.6599,  val_accuracy:0.5530,  val_binary_crossentropy:0.6290,  val_loss:0.6448,  \n",
            "....................................................................................................\n",
            "Epoch: 400, accuracy:0.5621,  binary_crossentropy:0.6471,  loss:0.6614,  val_accuracy:0.5740,  val_binary_crossentropy:0.6264,  val_loss:0.6406,  \n",
            "....................................................................................................\n",
            "Epoch: 500, accuracy:0.5649,  binary_crossentropy:0.6434,  loss:0.6568,  val_accuracy:0.5410,  val_binary_crossentropy:0.6308,  val_loss:0.6442,  \n",
            "....................................................................................................\n",
            "Epoch: 600, accuracy:0.5553,  binary_crossentropy:0.6481,  loss:0.6611,  val_accuracy:0.5720,  val_binary_crossentropy:0.6305,  val_loss:0.6434,  \n",
            "....................................................................................................\n",
            "Epoch: 700, accuracy:0.5593,  binary_crossentropy:0.6444,  loss:0.6568,  val_accuracy:0.5710,  val_binary_crossentropy:0.6262,  val_loss:0.6386,  \n",
            "....................................................................................................\n",
            "Epoch: 800, accuracy:0.5594,  binary_crossentropy:0.6451,  loss:0.6571,  val_accuracy:0.5650,  val_binary_crossentropy:0.6272,  val_loss:0.6391,  \n",
            "....................................................................................................\n",
            "Epoch: 900, accuracy:0.5653,  binary_crossentropy:0.6445,  loss:0.6564,  val_accuracy:0.5720,  val_binary_crossentropy:0.6263,  val_loss:0.6381,  \n",
            "........................................"
          ]
        },
        {
          "output_type": "execute_result",
          "data": {
            "text/plain": [
              "<keras.callbacks.History at 0x7faf9663ff50>"
            ]
          },
          "metadata": {},
          "execution_count": 13
        }
      ]
    },
    {
      "cell_type": "code",
      "metadata": {
        "colab": {
          "base_uri": "https://localhost:8080/"
        },
        "id": "l9MIk-cNGvxN",
        "outputId": "9124db3e-aa95-435b-b9b5-b885bf720b23"
      },
      "source": [
        "model = tf.keras.Sequential([\n",
        "    layers.Dense(64, kernel_regularizer=regularizers.L1L2(0.0005), activation='elu', input_shape=(FEATURES,)),\n",
        "    layers.Dropout(0.4),\n",
        "    layers.Dense(128, kernel_regularizer=regularizers.L1L2(0.0005), activation='elu'),\n",
        "    layers.Dropout(0.4),\n",
        "    layers.Dense(256, kernel_regularizer=regularizers.L1L2(0.0005), activation='elu'),\n",
        "    layers.Dropout(0.4),\n",
        "    layers.Dense(512, kernel_regularizer=regularizers.L1L2(0.0005), activation='elu'),\n",
        "    layers.Dropout(0.4),\n",
        "    layers.Dense(1)\n",
        "])\n",
        "\n",
        "model.summary()\n",
        "compile_and_fit(model)"
      ],
      "execution_count": 14,
      "outputs": [
        {
          "output_type": "stream",
          "name": "stdout",
          "text": [
            "Model: \"sequential_5\"\n",
            "_________________________________________________________________\n",
            " Layer (type)                Output Shape              Param #   \n",
            "=================================================================\n",
            " dense_24 (Dense)            (None, 64)                1856      \n",
            "                                                                 \n",
            " dropout_19 (Dropout)        (None, 64)                0         \n",
            "                                                                 \n",
            " dense_25 (Dense)            (None, 128)               8320      \n",
            "                                                                 \n",
            " dropout_20 (Dropout)        (None, 128)               0         \n",
            "                                                                 \n",
            " dense_26 (Dense)            (None, 256)               33024     \n",
            "                                                                 \n",
            " dropout_21 (Dropout)        (None, 256)               0         \n",
            "                                                                 \n",
            " dense_27 (Dense)            (None, 512)               131584    \n",
            "                                                                 \n",
            " dropout_22 (Dropout)        (None, 512)               0         \n",
            "                                                                 \n",
            " dense_28 (Dense)            (None, 1)                 513       \n",
            "                                                                 \n",
            "=================================================================\n",
            "Total params: 175,297\n",
            "Trainable params: 175,297\n",
            "Non-trainable params: 0\n",
            "_________________________________________________________________\n",
            "Model: \"sequential_5\"\n",
            "_________________________________________________________________\n",
            " Layer (type)                Output Shape              Param #   \n",
            "=================================================================\n",
            " dense_24 (Dense)            (None, 64)                1856      \n",
            "                                                                 \n",
            " dropout_19 (Dropout)        (None, 64)                0         \n",
            "                                                                 \n",
            " dense_25 (Dense)            (None, 128)               8320      \n",
            "                                                                 \n",
            " dropout_20 (Dropout)        (None, 128)               0         \n",
            "                                                                 \n",
            " dense_26 (Dense)            (None, 256)               33024     \n",
            "                                                                 \n",
            " dropout_21 (Dropout)        (None, 256)               0         \n",
            "                                                                 \n",
            " dense_27 (Dense)            (None, 512)               131584    \n",
            "                                                                 \n",
            " dropout_22 (Dropout)        (None, 512)               0         \n",
            "                                                                 \n",
            " dense_28 (Dense)            (None, 1)                 513       \n",
            "                                                                 \n",
            "=================================================================\n",
            "Total params: 175,297\n",
            "Trainable params: 175,297\n",
            "Non-trainable params: 0\n",
            "_________________________________________________________________\n",
            "\n",
            "Epoch: 0, accuracy:0.4942,  binary_crossentropy:0.7363,  loss:4.7639,  val_accuracy:0.4600,  val_binary_crossentropy:0.6906,  val_loss:4.3082,  \n",
            "....................................................................................................\n",
            "Epoch: 100, accuracy:0.5430,  binary_crossentropy:0.6548,  loss:0.6819,  val_accuracy:0.5600,  val_binary_crossentropy:0.6376,  val_loss:0.6648,  \n",
            "....................................................................................................\n",
            "Epoch: 200, accuracy:0.5415,  binary_crossentropy:0.6548,  loss:0.6791,  val_accuracy:0.5400,  val_binary_crossentropy:0.6355,  val_loss:0.6595,  \n",
            "....................................................................................................\n",
            "Epoch: 300, accuracy:0.5448,  binary_crossentropy:0.6555,  loss:0.6781,  val_accuracy:0.5600,  val_binary_crossentropy:0.6341,  val_loss:0.6567,  \n",
            "....................................................................................................\n",
            "Epoch: 400, accuracy:0.5423,  binary_crossentropy:0.6596,  loss:0.6806,  val_accuracy:0.5310,  val_binary_crossentropy:0.6352,  val_loss:0.6563,  \n",
            "....................................................................................................\n",
            "Epoch: 500, accuracy:0.5425,  binary_crossentropy:0.6542,  loss:0.6751,  val_accuracy:0.5410,  val_binary_crossentropy:0.6351,  val_loss:0.6564,  \n",
            "....................................................................................................\n",
            "Epoch: 600, accuracy:0.5366,  binary_crossentropy:0.6558,  loss:0.6763,  val_accuracy:0.5580,  val_binary_crossentropy:0.6327,  val_loss:0.6533,  \n",
            "....................................................................................................\n",
            "Epoch: 700, accuracy:0.5374,  binary_crossentropy:0.6585,  loss:0.6792,  val_accuracy:0.5150,  val_binary_crossentropy:0.6368,  val_loss:0.6574,  \n",
            "..................................."
          ]
        },
        {
          "output_type": "execute_result",
          "data": {
            "text/plain": [
              "<keras.callbacks.History at 0x7faf93bc6450>"
            ]
          },
          "metadata": {},
          "execution_count": 14
        }
      ]
    }
  ]
}