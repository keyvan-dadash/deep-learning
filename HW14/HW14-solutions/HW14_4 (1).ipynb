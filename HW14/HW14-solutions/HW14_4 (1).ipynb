{
  "nbformat": 4,
  "nbformat_minor": 0,
  "metadata": {
    "colab": {
      "name": "HW14_4.ipynb",
      "provenance": [],
      "collapsed_sections": []
    },
    "kernelspec": {
      "name": "python3",
      "display_name": "Python 3"
    },
    "language_info": {
      "name": "python"
    },
    "accelerator": "GPU"
  },
  "cells": [
    {
      "cell_type": "markdown",
      "source": [
        "# Import"
      ],
      "metadata": {
        "id": "g7m6H3X8aKf4"
      }
    },
    {
      "cell_type": "code",
      "execution_count": null,
      "metadata": {
        "colab": {
          "base_uri": "https://localhost:8080/"
        },
        "id": "vMIi74DwRiq1",
        "outputId": "a3b27610-ffad-4674-c599-3d8e32231239"
      },
      "outputs": [
        {
          "output_type": "stream",
          "name": "stdout",
          "text": [
            "\u001b[?25l\r\u001b[K     |███▍                            | 10 kB 15.4 MB/s eta 0:00:01\r\u001b[K     |██████▊                         | 20 kB 14.9 MB/s eta 0:00:01\r\u001b[K     |██████████                      | 30 kB 10.6 MB/s eta 0:00:01\r\u001b[K     |█████████████▍                  | 40 kB 9.2 MB/s eta 0:00:01\r\u001b[K     |████████████████▊               | 51 kB 5.5 MB/s eta 0:00:01\r\u001b[K     |████████████████████            | 61 kB 6.0 MB/s eta 0:00:01\r\u001b[K     |███████████████████████▍        | 71 kB 5.9 MB/s eta 0:00:01\r\u001b[K     |██████████████████████████▊     | 81 kB 6.6 MB/s eta 0:00:01\r\u001b[K     |██████████████████████████████  | 92 kB 6.6 MB/s eta 0:00:01\r\u001b[K     |████████████████████████████████| 98 kB 3.7 MB/s \n",
            "\u001b[?25h"
          ]
        }
      ],
      "source": [
        "import tensorflow as tf\n",
        "from tensorflow import keras\n",
        "!pip install -q -U keras-tuner\n",
        "import keras_tuner as kt"
      ]
    },
    {
      "cell_type": "markdown",
      "source": [
        "# Loading Data"
      ],
      "metadata": {
        "id": "2ZzTCtXcaOY4"
      }
    },
    {
      "cell_type": "code",
      "source": [
        "(img_train, label_train), (img_test, label_test) = keras.datasets.fashion_mnist.load_data()\n",
        "# Normalize pixel values between (img_train, label_train), (img_test, label_test) = keras.datasets.fashion_mnist.load_data()\n",
        "# Normalize pixel values between 0 and 1\n",
        "# img_train = img_train.astype('float32') / 255.0\n",
        "# img_test = img_test.astype('float32') / 255.00 and 1\n",
        "img_train = img_train.astype('float32') / 255.0\n",
        "img_test = img_test.astype('float32') / 255.0"
      ],
      "metadata": {
        "id": "V83iFn-7Rpql"
      },
      "execution_count": null,
      "outputs": []
    },
    {
      "cell_type": "markdown",
      "source": [
        "# Base Model"
      ],
      "metadata": {
        "id": "quMMYCOeeVEe"
      }
    },
    {
      "cell_type": "code",
      "source": [
        "def model_builder():\n",
        "  model = keras.Sequential()\n",
        "  model.add(keras.layers.Flatten(input_shape=(28, 28)))\n",
        "  model.add(keras.layers.Dense(units=512, activation='relu'))\n",
        "  model.add(keras.layers.Dense(10))\n",
        "  model.compile(optimizer=keras.optimizers.Adam(learning_rate=0.01),\n",
        "                loss=keras.losses.SparseCategoricalCrossentropy(from_logits=True),\n",
        "                metrics=['accuracy'])\n",
        "\n",
        "  return model"
      ],
      "metadata": {
        "id": "R8GriD14cOX8"
      },
      "execution_count": null,
      "outputs": []
    },
    {
      "cell_type": "code",
      "source": [
        "model = model_builder()\n",
        "history = model.fit(img_train, label_train, epochs=50, validation_split=0.2)\n"
      ],
      "metadata": {
        "colab": {
          "base_uri": "https://localhost:8080/"
        },
        "id": "_m0yhB1HcjW1",
        "outputId": "aacd83e3-c015-4cb1-ab13-0c953c0fc7a7"
      },
      "execution_count": null,
      "outputs": [
        {
          "output_type": "stream",
          "name": "stdout",
          "text": [
            "Epoch 1/50\n",
            "1500/1500 [==============================] - 8s 5ms/step - loss: 0.5757 - accuracy: 0.8018 - val_loss: 0.4972 - val_accuracy: 0.8244\n",
            "Epoch 2/50\n",
            "1500/1500 [==============================] - 7s 5ms/step - loss: 0.4489 - accuracy: 0.8410 - val_loss: 0.4291 - val_accuracy: 0.8552\n",
            "Epoch 3/50\n",
            "1500/1500 [==============================] - 6s 4ms/step - loss: 0.4139 - accuracy: 0.8515 - val_loss: 0.4100 - val_accuracy: 0.8563\n",
            "Epoch 4/50\n",
            "1500/1500 [==============================] - 7s 4ms/step - loss: 0.4204 - accuracy: 0.8500 - val_loss: 0.4940 - val_accuracy: 0.8365\n",
            "Epoch 5/50\n",
            "1500/1500 [==============================] - 7s 5ms/step - loss: 0.4005 - accuracy: 0.8569 - val_loss: 0.4443 - val_accuracy: 0.8446\n",
            "Epoch 6/50\n",
            "1500/1500 [==============================] - 7s 5ms/step - loss: 0.3888 - accuracy: 0.8602 - val_loss: 0.4200 - val_accuracy: 0.8577\n",
            "Epoch 7/50\n",
            "1500/1500 [==============================] - 7s 5ms/step - loss: 0.3800 - accuracy: 0.8655 - val_loss: 0.4463 - val_accuracy: 0.8553\n",
            "Epoch 8/50\n",
            "1500/1500 [==============================] - 7s 4ms/step - loss: 0.3740 - accuracy: 0.8665 - val_loss: 0.4140 - val_accuracy: 0.8559\n",
            "Epoch 9/50\n",
            "1500/1500 [==============================] - 7s 4ms/step - loss: 0.3724 - accuracy: 0.8675 - val_loss: 0.4644 - val_accuracy: 0.8405\n",
            "Epoch 10/50\n",
            "1500/1500 [==============================] - 7s 5ms/step - loss: 0.3671 - accuracy: 0.8687 - val_loss: 0.4441 - val_accuracy: 0.8530\n",
            "Epoch 11/50\n",
            "1500/1500 [==============================] - 7s 5ms/step - loss: 0.3573 - accuracy: 0.8715 - val_loss: 0.4452 - val_accuracy: 0.8577\n",
            "Epoch 12/50\n",
            "1500/1500 [==============================] - 7s 5ms/step - loss: 0.3602 - accuracy: 0.8720 - val_loss: 0.4570 - val_accuracy: 0.8557\n",
            "Epoch 13/50\n",
            "1500/1500 [==============================] - 7s 5ms/step - loss: 0.3521 - accuracy: 0.8744 - val_loss: 0.4316 - val_accuracy: 0.8543\n",
            "Epoch 14/50\n",
            "1500/1500 [==============================] - 7s 4ms/step - loss: 0.3543 - accuracy: 0.8745 - val_loss: 0.4527 - val_accuracy: 0.8547\n",
            "Epoch 15/50\n",
            "1500/1500 [==============================] - 7s 4ms/step - loss: 0.3564 - accuracy: 0.8727 - val_loss: 0.4760 - val_accuracy: 0.8453\n",
            "Epoch 16/50\n",
            "1500/1500 [==============================] - 7s 5ms/step - loss: 0.3458 - accuracy: 0.8760 - val_loss: 0.4512 - val_accuracy: 0.8586\n",
            "Epoch 17/50\n",
            "1500/1500 [==============================] - 7s 5ms/step - loss: 0.3501 - accuracy: 0.8731 - val_loss: 0.4550 - val_accuracy: 0.8597\n",
            "Epoch 18/50\n",
            "1500/1500 [==============================] - 7s 5ms/step - loss: 0.3463 - accuracy: 0.8770 - val_loss: 0.4958 - val_accuracy: 0.8465\n",
            "Epoch 19/50\n",
            "1500/1500 [==============================] - 7s 5ms/step - loss: 0.3412 - accuracy: 0.8783 - val_loss: 0.4833 - val_accuracy: 0.8540\n",
            "Epoch 20/50\n",
            "1500/1500 [==============================] - 7s 5ms/step - loss: 0.3414 - accuracy: 0.8766 - val_loss: 0.4562 - val_accuracy: 0.8554\n",
            "Epoch 21/50\n",
            "1500/1500 [==============================] - 7s 5ms/step - loss: 0.3385 - accuracy: 0.8791 - val_loss: 0.4537 - val_accuracy: 0.8582\n",
            "Epoch 22/50\n",
            "1500/1500 [==============================] - 7s 5ms/step - loss: 0.3373 - accuracy: 0.8793 - val_loss: 0.4813 - val_accuracy: 0.8455\n",
            "Epoch 23/50\n",
            "1500/1500 [==============================] - 7s 5ms/step - loss: 0.3364 - accuracy: 0.8791 - val_loss: 0.4848 - val_accuracy: 0.8460\n",
            "Epoch 24/50\n",
            "1500/1500 [==============================] - 7s 5ms/step - loss: 0.3367 - accuracy: 0.8783 - val_loss: 0.4935 - val_accuracy: 0.8487\n",
            "Epoch 25/50\n",
            "1500/1500 [==============================] - 7s 5ms/step - loss: 0.3351 - accuracy: 0.8791 - val_loss: 0.4601 - val_accuracy: 0.8615\n",
            "Epoch 26/50\n",
            "1500/1500 [==============================] - 8s 5ms/step - loss: 0.3332 - accuracy: 0.8809 - val_loss: 0.4949 - val_accuracy: 0.8537\n",
            "Epoch 27/50\n",
            "1500/1500 [==============================] - 7s 5ms/step - loss: 0.3307 - accuracy: 0.8807 - val_loss: 0.4832 - val_accuracy: 0.8547\n",
            "Epoch 28/50\n",
            "1500/1500 [==============================] - 7s 5ms/step - loss: 0.3280 - accuracy: 0.8820 - val_loss: 0.4836 - val_accuracy: 0.8509\n",
            "Epoch 29/50\n",
            "1500/1500 [==============================] - 7s 5ms/step - loss: 0.3305 - accuracy: 0.8836 - val_loss: 0.4706 - val_accuracy: 0.8561\n",
            "Epoch 30/50\n",
            "1500/1500 [==============================] - 7s 5ms/step - loss: 0.3229 - accuracy: 0.8833 - val_loss: 0.5378 - val_accuracy: 0.8250\n",
            "Epoch 31/50\n",
            "1500/1500 [==============================] - 7s 5ms/step - loss: 0.3251 - accuracy: 0.8839 - val_loss: 0.4924 - val_accuracy: 0.8538\n",
            "Epoch 32/50\n",
            "1500/1500 [==============================] - 7s 5ms/step - loss: 0.3258 - accuracy: 0.8835 - val_loss: 0.5041 - val_accuracy: 0.8522\n",
            "Epoch 33/50\n",
            "1500/1500 [==============================] - 7s 5ms/step - loss: 0.3179 - accuracy: 0.8854 - val_loss: 0.5955 - val_accuracy: 0.8320\n",
            "Epoch 34/50\n",
            "1500/1500 [==============================] - 7s 5ms/step - loss: 0.3217 - accuracy: 0.8847 - val_loss: 0.5244 - val_accuracy: 0.8397\n",
            "Epoch 35/50\n",
            "1500/1500 [==============================] - 7s 5ms/step - loss: 0.3232 - accuracy: 0.8860 - val_loss: 0.4828 - val_accuracy: 0.8550\n",
            "Epoch 36/50\n",
            "1500/1500 [==============================] - 7s 5ms/step - loss: 0.3165 - accuracy: 0.8871 - val_loss: 0.5855 - val_accuracy: 0.8456\n",
            "Epoch 37/50\n",
            "1500/1500 [==============================] - 7s 5ms/step - loss: 0.3201 - accuracy: 0.8862 - val_loss: 0.5855 - val_accuracy: 0.8555\n",
            "Epoch 38/50\n",
            "1500/1500 [==============================] - 7s 5ms/step - loss: 0.3195 - accuracy: 0.8863 - val_loss: 0.5082 - val_accuracy: 0.8616\n",
            "Epoch 39/50\n",
            "1500/1500 [==============================] - 7s 4ms/step - loss: 0.3170 - accuracy: 0.8849 - val_loss: 0.5191 - val_accuracy: 0.8597\n",
            "Epoch 40/50\n",
            "1500/1500 [==============================] - 7s 5ms/step - loss: 0.3149 - accuracy: 0.8872 - val_loss: 0.5511 - val_accuracy: 0.8451\n",
            "Epoch 41/50\n",
            "1500/1500 [==============================] - 7s 5ms/step - loss: 0.3189 - accuracy: 0.8873 - val_loss: 0.5444 - val_accuracy: 0.8480\n",
            "Epoch 42/50\n",
            "1500/1500 [==============================] - 7s 4ms/step - loss: 0.3132 - accuracy: 0.8874 - val_loss: 0.5425 - val_accuracy: 0.8514\n",
            "Epoch 43/50\n",
            "1500/1500 [==============================] - 7s 5ms/step - loss: 0.3102 - accuracy: 0.8903 - val_loss: 0.5393 - val_accuracy: 0.8501\n",
            "Epoch 44/50\n",
            "1500/1500 [==============================] - 7s 5ms/step - loss: 0.3204 - accuracy: 0.8882 - val_loss: 0.4906 - val_accuracy: 0.8526\n",
            "Epoch 45/50\n",
            "1500/1500 [==============================] - 7s 4ms/step - loss: 0.3079 - accuracy: 0.8898 - val_loss: 0.5425 - val_accuracy: 0.8568\n",
            "Epoch 46/50\n",
            "1500/1500 [==============================] - 7s 4ms/step - loss: 0.3175 - accuracy: 0.8867 - val_loss: 0.5247 - val_accuracy: 0.8485\n",
            "Epoch 47/50\n",
            "1500/1500 [==============================] - 7s 5ms/step - loss: 0.3116 - accuracy: 0.8898 - val_loss: 0.5064 - val_accuracy: 0.8568\n",
            "Epoch 48/50\n",
            "1500/1500 [==============================] - 7s 5ms/step - loss: 0.3198 - accuracy: 0.8887 - val_loss: 0.5033 - val_accuracy: 0.8586\n",
            "Epoch 49/50\n",
            "1500/1500 [==============================] - 7s 4ms/step - loss: 0.3100 - accuracy: 0.8898 - val_loss: 0.5367 - val_accuracy: 0.8503\n",
            "Epoch 50/50\n",
            "1500/1500 [==============================] - 7s 5ms/step - loss: 0.3050 - accuracy: 0.8904 - val_loss: 0.5954 - val_accuracy: 0.8584\n"
          ]
        }
      ]
    },
    {
      "cell_type": "markdown",
      "source": [
        "# Keras Tuner"
      ],
      "metadata": {
        "id": "-V06erkwaQdd"
      }
    },
    {
      "cell_type": "code",
      "source": [
        "def model_builder(hp):\n",
        "  model = keras.Sequential()\n",
        "  model.add(keras.layers.Flatten(input_shape=(28, 28)))\n",
        "\n",
        "  dense_units = hp.Int('dense_units',\n",
        "                                min_value=16,\n",
        "                                max_value=512,\n",
        "                                step=16)\n",
        "  model.add(keras.layers.Dense(units=dense_units, activation='relu'))\n",
        "  model.add(keras.layers.Dense(10))\n",
        "\n",
        "  lr = hp.Choice(\"learning_rate\",\n",
        "\t\t  values=[0.0001, 0.0005, 0.001, 0.005, 0.01])\n",
        "  model.compile(optimizer=keras.optimizers.Adam(learning_rate=lr),\n",
        "                loss=keras.losses.SparseCategoricalCrossentropy(from_logits=True),\n",
        "                metrics=['accuracy'])\n",
        "\n",
        "  return model"
      ],
      "metadata": {
        "id": "EBLh4qJYRuF3"
      },
      "execution_count": null,
      "outputs": []
    },
    {
      "cell_type": "code",
      "source": [
        "tuner = kt.Hyperband(\n",
        "\t\tmodel_builder,\n",
        "    max_epochs=10,\n",
        "\t\tobjective=\"val_accuracy\",\n",
        "    executions_per_trial=3,  # how many trials per variation? (same model could perform differently)\n",
        "    directory='FASHION_PROJECT',\n",
        "\t\tfactor=3,\n",
        "\t\tseed=42,\n",
        "\t\tproject_name='KerasTuner')"
      ],
      "metadata": {
        "id": "ziTydeV6RxWJ"
      },
      "execution_count": null,
      "outputs": []
    },
    {
      "cell_type": "code",
      "source": [
        "NUM_EPOCH = 30\n",
        "tuner.search(x=img_train, \n",
        "             y=label_train,\n",
        "             epochs=NUM_EPOCH,\n",
        "             batch_size=32,\n",
        "             validation_split=0.3)"
      ],
      "metadata": {
        "id": "tEpb2owlR6kr",
        "colab": {
          "base_uri": "https://localhost:8080/"
        },
        "outputId": "9556782a-ecb5-4744-bb2c-049ceeaed879"
      },
      "execution_count": null,
      "outputs": [
        {
          "output_type": "stream",
          "name": "stdout",
          "text": [
            "Trial 30 Complete [00h 03m 52s]\n",
            "val_accuracy: 0.8745185335477194\n",
            "\n",
            "Best val_accuracy So Far: 0.8901296257972717\n",
            "Total elapsed time: 00h 49m 28s\n",
            "INFO:tensorflow:Oracle triggered exit\n"
          ]
        }
      ]
    },
    {
      "cell_type": "code",
      "source": [
        "tuner.results_summary()"
      ],
      "metadata": {
        "id": "9KGDpAc5SG8_",
        "colab": {
          "base_uri": "https://localhost:8080/"
        },
        "outputId": "9e5640d4-45f5-4ec0-a338-1622125c157f"
      },
      "execution_count": null,
      "outputs": [
        {
          "output_type": "stream",
          "name": "stdout",
          "text": [
            "Results summary\n",
            "Results in FASHION_PROJECT/KerasTuner\n",
            "Showing 10 best trials\n",
            "Objective(name='val_accuracy', direction='max')\n",
            "Trial summary\n",
            "Hyperparameters:\n",
            "dense_units: 384\n",
            "learning_rate: 0.0005\n",
            "tuner/epochs: 10\n",
            "tuner/initial_epoch: 0\n",
            "tuner/bracket: 0\n",
            "tuner/round: 0\n",
            "Score: 0.8901296257972717\n",
            "Trial summary\n",
            "Hyperparameters:\n",
            "dense_units: 416\n",
            "learning_rate: 0.0005\n",
            "tuner/epochs: 10\n",
            "tuner/initial_epoch: 4\n",
            "tuner/bracket: 1\n",
            "tuner/round: 1\n",
            "tuner/trial_id: bab51aeeee7a7769610420f410bfa908\n",
            "Score: 0.8837963143984476\n",
            "Trial summary\n",
            "Hyperparameters:\n",
            "dense_units: 464\n",
            "learning_rate: 0.001\n",
            "tuner/epochs: 10\n",
            "tuner/initial_epoch: 4\n",
            "tuner/bracket: 2\n",
            "tuner/round: 2\n",
            "tuner/trial_id: 765cee930baeefd62017be15a8088d27\n",
            "Score: 0.8832592566808065\n",
            "Trial summary\n",
            "Hyperparameters:\n",
            "dense_units: 224\n",
            "learning_rate: 0.001\n",
            "tuner/epochs: 10\n",
            "tuner/initial_epoch: 4\n",
            "tuner/bracket: 2\n",
            "tuner/round: 2\n",
            "tuner/trial_id: fe7f68e73f51070da036932dd263617d\n",
            "Score: 0.8824259241422018\n",
            "Trial summary\n",
            "Hyperparameters:\n",
            "dense_units: 192\n",
            "learning_rate: 0.001\n",
            "tuner/epochs: 10\n",
            "tuner/initial_epoch: 4\n",
            "tuner/bracket: 1\n",
            "tuner/round: 1\n",
            "tuner/trial_id: 445aa4841ab68ed9bf69d78fdb7f8234\n",
            "Score: 0.8815185030301412\n",
            "Trial summary\n",
            "Hyperparameters:\n",
            "dense_units: 416\n",
            "learning_rate: 0.0005\n",
            "tuner/epochs: 4\n",
            "tuner/initial_epoch: 0\n",
            "tuner/bracket: 1\n",
            "tuner/round: 0\n",
            "Score: 0.8785185217857361\n",
            "Trial summary\n",
            "Hyperparameters:\n",
            "dense_units: 192\n",
            "learning_rate: 0.001\n",
            "tuner/epochs: 4\n",
            "tuner/initial_epoch: 0\n",
            "tuner/bracket: 1\n",
            "tuner/round: 0\n",
            "Score: 0.8756481409072876\n",
            "Trial summary\n",
            "Hyperparameters:\n",
            "dense_units: 80\n",
            "learning_rate: 0.005\n",
            "tuner/epochs: 10\n",
            "tuner/initial_epoch: 0\n",
            "tuner/bracket: 0\n",
            "tuner/round: 0\n",
            "Score: 0.8748703598976135\n",
            "Trial summary\n",
            "Hyperparameters:\n",
            "dense_units: 208\n",
            "learning_rate: 0.0001\n",
            "tuner/epochs: 10\n",
            "tuner/initial_epoch: 0\n",
            "tuner/bracket: 0\n",
            "tuner/round: 0\n",
            "Score: 0.8745185335477194\n",
            "Trial summary\n",
            "Hyperparameters:\n",
            "dense_units: 464\n",
            "learning_rate: 0.001\n",
            "tuner/epochs: 4\n",
            "tuner/initial_epoch: 2\n",
            "tuner/bracket: 2\n",
            "tuner/round: 1\n",
            "tuner/trial_id: 55632cc76bf11d328b3459c5bac2994d\n",
            "Score: 0.8650925755500793\n"
          ]
        }
      ]
    },
    {
      "cell_type": "code",
      "source": [
        "model = tuner.get_best_models(num_models=1)[0]\n",
        "model.summary()"
      ],
      "metadata": {
        "colab": {
          "base_uri": "https://localhost:8080/"
        },
        "id": "85EeC-sg4a_z",
        "outputId": "561f9e87-a1b4-4374-aa1d-da34dd0c3849"
      },
      "execution_count": null,
      "outputs": [
        {
          "output_type": "stream",
          "name": "stdout",
          "text": [
            "Model: \"sequential\"\n",
            "_________________________________________________________________\n",
            " Layer (type)                Output Shape              Param #   \n",
            "=================================================================\n",
            " flatten (Flatten)           (None, 784)               0         \n",
            "                                                                 \n",
            " dense (Dense)               (None, 384)               301440    \n",
            "                                                                 \n",
            " dense_1 (Dense)             (None, 10)                3850      \n",
            "                                                                 \n",
            "=================================================================\n",
            "Total params: 305,290\n",
            "Trainable params: 305,290\n",
            "Non-trainable params: 0\n",
            "_________________________________________________________________\n"
          ]
        }
      ]
    },
    {
      "cell_type": "code",
      "source": [
        "model.fit(\n",
        "    img_train, \n",
        "    label_train,\n",
        "    epochs=NUM_EPOCH,\n",
        "    batch_size=32,\n",
        "    validation_split=0.3\n",
        ")"
      ],
      "metadata": {
        "colab": {
          "base_uri": "https://localhost:8080/"
        },
        "id": "vij5OQdF4dxu",
        "outputId": "cfec5b6f-312f-4715-e777-d775d22b592b"
      },
      "execution_count": null,
      "outputs": [
        {
          "output_type": "stream",
          "name": "stdout",
          "text": [
            "Epoch 1/30\n",
            "1313/1313 [==============================] - 7s 5ms/step - loss: 0.2185 - accuracy: 0.9188 - val_loss: 0.3157 - val_accuracy: 0.8867\n",
            "Epoch 2/30\n",
            "1313/1313 [==============================] - 7s 5ms/step - loss: 0.2109 - accuracy: 0.9215 - val_loss: 0.3083 - val_accuracy: 0.8925\n",
            "Epoch 3/30\n",
            "1313/1313 [==============================] - 7s 6ms/step - loss: 0.2000 - accuracy: 0.9269 - val_loss: 0.3083 - val_accuracy: 0.8937\n",
            "Epoch 4/30\n",
            "1313/1313 [==============================] - 6s 5ms/step - loss: 0.1932 - accuracy: 0.9283 - val_loss: 0.3157 - val_accuracy: 0.8917\n",
            "Epoch 5/30\n",
            "1313/1313 [==============================] - 6s 5ms/step - loss: 0.1857 - accuracy: 0.9303 - val_loss: 0.3082 - val_accuracy: 0.8944\n",
            "Epoch 6/30\n",
            "1313/1313 [==============================] - 7s 5ms/step - loss: 0.1784 - accuracy: 0.9329 - val_loss: 0.3028 - val_accuracy: 0.8972\n",
            "Epoch 7/30\n",
            "1313/1313 [==============================] - 6s 4ms/step - loss: 0.1717 - accuracy: 0.9363 - val_loss: 0.3341 - val_accuracy: 0.8915\n",
            "Epoch 8/30\n",
            "1313/1313 [==============================] - 6s 5ms/step - loss: 0.1656 - accuracy: 0.9383 - val_loss: 0.3310 - val_accuracy: 0.8916\n",
            "Epoch 9/30\n",
            "1313/1313 [==============================] - 7s 5ms/step - loss: 0.1582 - accuracy: 0.9415 - val_loss: 0.3105 - val_accuracy: 0.8971\n",
            "Epoch 10/30\n",
            "1313/1313 [==============================] - 7s 5ms/step - loss: 0.1545 - accuracy: 0.9431 - val_loss: 0.3412 - val_accuracy: 0.8930\n",
            "Epoch 11/30\n",
            "1313/1313 [==============================] - 6s 5ms/step - loss: 0.1489 - accuracy: 0.9450 - val_loss: 0.3138 - val_accuracy: 0.8978\n",
            "Epoch 12/30\n",
            "1313/1313 [==============================] - 6s 5ms/step - loss: 0.1418 - accuracy: 0.9480 - val_loss: 0.3258 - val_accuracy: 0.8944\n",
            "Epoch 13/30\n",
            "1313/1313 [==============================] - 6s 4ms/step - loss: 0.1372 - accuracy: 0.9492 - val_loss: 0.3533 - val_accuracy: 0.8888\n",
            "Epoch 14/30\n",
            "1313/1313 [==============================] - 6s 4ms/step - loss: 0.1320 - accuracy: 0.9510 - val_loss: 0.3258 - val_accuracy: 0.8989\n",
            "Epoch 15/30\n",
            "1313/1313 [==============================] - 6s 5ms/step - loss: 0.1301 - accuracy: 0.9518 - val_loss: 0.3323 - val_accuracy: 0.8985\n",
            "Epoch 16/30\n",
            "1313/1313 [==============================] - 6s 5ms/step - loss: 0.1252 - accuracy: 0.9532 - val_loss: 0.3456 - val_accuracy: 0.8950\n",
            "Epoch 17/30\n",
            "1313/1313 [==============================] - 7s 5ms/step - loss: 0.1188 - accuracy: 0.9570 - val_loss: 0.3457 - val_accuracy: 0.8966\n",
            "Epoch 18/30\n",
            "1313/1313 [==============================] - 6s 4ms/step - loss: 0.1154 - accuracy: 0.9570 - val_loss: 0.3457 - val_accuracy: 0.8941\n",
            "Epoch 19/30\n",
            "1313/1313 [==============================] - 6s 4ms/step - loss: 0.1141 - accuracy: 0.9589 - val_loss: 0.3710 - val_accuracy: 0.8899\n",
            "Epoch 20/30\n",
            "1313/1313 [==============================] - 6s 4ms/step - loss: 0.1090 - accuracy: 0.9603 - val_loss: 0.3579 - val_accuracy: 0.8956\n",
            "Epoch 21/30\n",
            "1313/1313 [==============================] - 7s 5ms/step - loss: 0.1066 - accuracy: 0.9596 - val_loss: 0.3527 - val_accuracy: 0.8969\n",
            "Epoch 22/30\n",
            "1313/1313 [==============================] - 7s 6ms/step - loss: 0.1006 - accuracy: 0.9623 - val_loss: 0.3631 - val_accuracy: 0.8949\n",
            "Epoch 23/30\n",
            "1313/1313 [==============================] - 6s 5ms/step - loss: 0.0964 - accuracy: 0.9643 - val_loss: 0.3857 - val_accuracy: 0.8933\n",
            "Epoch 24/30\n",
            "1313/1313 [==============================] - 6s 4ms/step - loss: 0.0959 - accuracy: 0.9643 - val_loss: 0.3824 - val_accuracy: 0.8947\n",
            "Epoch 25/30\n",
            "1313/1313 [==============================] - 6s 5ms/step - loss: 0.0922 - accuracy: 0.9666 - val_loss: 0.3951 - val_accuracy: 0.8946\n",
            "Epoch 26/30\n",
            "1313/1313 [==============================] - 7s 5ms/step - loss: 0.0897 - accuracy: 0.9669 - val_loss: 0.3815 - val_accuracy: 0.8976\n",
            "Epoch 27/30\n",
            "1313/1313 [==============================] - 6s 4ms/step - loss: 0.0850 - accuracy: 0.9692 - val_loss: 0.3997 - val_accuracy: 0.8963\n",
            "Epoch 28/30\n",
            "1313/1313 [==============================] - 7s 5ms/step - loss: 0.0871 - accuracy: 0.9677 - val_loss: 0.4344 - val_accuracy: 0.8913\n",
            "Epoch 29/30\n",
            "1313/1313 [==============================] - 7s 5ms/step - loss: 0.0823 - accuracy: 0.9708 - val_loss: 0.4253 - val_accuracy: 0.8897\n",
            "Epoch 30/30\n",
            "1313/1313 [==============================] - 6s 4ms/step - loss: 0.0794 - accuracy: 0.9712 - val_loss: 0.3857 - val_accuracy: 0.8983\n"
          ]
        },
        {
          "output_type": "execute_result",
          "data": {
            "text/plain": [
              "<keras.callbacks.History at 0x7f9d44755410>"
            ]
          },
          "metadata": {},
          "execution_count": 13
        }
      ]
    }
  ]
}