{
  "nbformat": 4,
  "nbformat_minor": 0,
  "metadata": {
    "colab": {
      "name": "Q1.ipynb",
      "provenance": [],
      "collapsed_sections": [],
      "toc_visible": true
    },
    "kernelspec": {
      "name": "python3",
      "display_name": "Python 3"
    },
    "language_info": {
      "name": "python"
    }
  },
  "cells": [
    {
      "cell_type": "code",
      "metadata": {
        "id": "l3Hwf9bQzJUk"
      },
      "source": [
        "from sklearn.decomposition import PCA\n",
        "from pandas import DataFrame\n",
        "import gensim.downloader as api\n",
        "import matplotlib.pyplot as plt\n",
        "import numpy as np"
      ],
      "execution_count": null,
      "outputs": []
    },
    {
      "cell_type": "code",
      "source": [
        "def show_DataFrame(dic, index):\n",
        "    return DataFrame(dic, index=index).applymap(lambda x: (x[0], round(x[1], 2))).T.fillna(0)"
      ],
      "metadata": {
        "id": "LiDy4ZsI5brA"
      },
      "execution_count": null,
      "outputs": []
    },
    {
      "cell_type": "code",
      "source": [
        "def plot_scatter(prjected_words_vectors, words, colors):\n",
        "    plt.figure(figsize=(15,10))\n",
        "    plt.scatter(prjected_words_vectors[:,0], prjected_words_vectors[:,1], linewidths=2, color=colors)\n",
        "    for i, word in enumerate(words):\n",
        "        plt.annotate(word, xy=(prjected_words_vectors[i,0]-0.1, prjected_words_vectors[i,1]+0.08))"
      ],
      "metadata": {
        "id": "tyiM0wDs5eaQ"
      },
      "execution_count": null,
      "outputs": []
    },
    {
      "cell_type": "code",
      "metadata": {
        "id": "gwEM1ZFtgJgS"
      },
      "source": [
        "wv_from_bin = api.load(\"glove-wiki-gigaword-200\")"
      ],
      "execution_count": null,
      "outputs": []
    },
    {
      "cell_type": "markdown",
      "source": [
        "# Question 1"
      ],
      "metadata": {
        "id": "c6WI9A949YzU"
      }
    },
    {
      "cell_type": "code",
      "metadata": {
        "id": "vbD8IWa-d0wb"
      },
      "source": [
        "words = ['', '', '', '', '', '', '', '', '', '']    # Question 1\n",
        "\n",
        "similar_words = dict()\n",
        "for word in words:\n",
        "    similar_words[word] = sorted(wv_from_bin.most_similar(word), key=lambda item: item[1], reverse=True)\n",
        "\n",
        "show_DataFrame(similar_words, [f'Word {i + 1}' for i in range(10)])"
      ],
      "execution_count": null,
      "outputs": []
    },
    {
      "cell_type": "markdown",
      "source": [
        "# Question 2"
      ],
      "metadata": {
        "id": "r_aBBYqv9eJU"
      }
    },
    {
      "cell_type": "code",
      "metadata": {
        "id": "XvhbkcbMkyJi"
      },
      "source": [
        "words_groups = [['',        '',         '' ],       # Question 2\n",
        "                ['',        '',         '' ],\n",
        "                ['',        '',         '' ],\n",
        "                ['',        '',         '' ],\n",
        "                ['',        '',         '' ]]\n",
        "\n",
        "\n",
        "distances = dict()\n",
        "for w1, w2, w3 in words_groups:\n",
        "    distances[w1] = [(w2, wv_from_bin.distance(w1, w2)), (w3, wv_from_bin.distance(w1, w3))]\n",
        "\n",
        "show_DataFrame(distances, ['Near Word', 'Far Word'])"
      ],
      "execution_count": null,
      "outputs": []
    },
    {
      "cell_type": "markdown",
      "source": [
        "# Question 3"
      ],
      "metadata": {
        "id": "SjvW-iQg9kw9"
      }
    },
    {
      "cell_type": "code",
      "metadata": {
        "id": "K0flZ8urpukH"
      },
      "source": [
        "words_groups = [['king',        'woman',    'man' ],\n",
        "                ['actor',       'girl',     'boy' ],\n",
        "                ['doctor',      'she',      'he'  ],\n",
        "                ['homemaker',   'she',      'he'  ],\n",
        "                ['football',    'woman',    'man' ]]\n",
        "\n",
        "\n",
        "first_distances = dict()\n",
        "second_distances = dict()\n",
        "for w1, w2, w3 in words_groups:\n",
        "    first_distances[str((str(w1), w2, w3))] = sorted(wv_from_bin.most_similar(positive=[w1, w2], negative=[w3]), key=lambda item: item[1], reverse=True)\n",
        "    second_distances[str((w1, w2, w3))] = sorted(wv_from_bin.most_similar(positive=[w1, w3], negative=[w2]), key=lambda item: item[1], reverse=True)"
      ],
      "execution_count": null,
      "outputs": []
    },
    {
      "cell_type": "code",
      "metadata": {
        "id": "3AqKyp1Zsh4u"
      },
      "source": [
        "show_DataFrame(first_distances, [f'Word {i + 1}' for i in range(10)])"
      ],
      "execution_count": null,
      "outputs": []
    },
    {
      "cell_type": "code",
      "metadata": {
        "id": "MFHCo0MasmRk"
      },
      "source": [
        "show_DataFrame(second_distances, [f'Word {i + 1}' for i in range(10)])"
      ],
      "execution_count": null,
      "outputs": []
    },
    {
      "cell_type": "markdown",
      "source": [
        "# Question 4"
      ],
      "metadata": {
        "id": "UnFQRGMx-lrP"
      }
    },
    {
      "cell_type": "code",
      "source": [
        "words = ['woman', 'man', 'king', 'queen', 'boy', 'girl', 'actor', 'actress', 'king', 'queen']\n",
        "words_vectors = [wv_from_bin.get_vector(word) for word in words]\n",
        "\n",
        "pca = PCA(n_components=3)\n",
        "prjected_words_vectors = pca.fit_transform(words_vectors)\n",
        "\n",
        "plot_scatter(prjected_words_vectors, words, 'black')"
      ],
      "metadata": {
        "id": "XEyrxlw7yox2"
      },
      "execution_count": null,
      "outputs": []
    },
    {
      "cell_type": "markdown",
      "source": [
        "# Question 5"
      ],
      "metadata": {
        "id": "_ocdkNbb-uW4"
      }
    },
    {
      "cell_type": "code",
      "source": [
        "# Question 5\n",
        "words = ['', '', '', '', '', '', '', '', '', '']\n",
        "words_vectors = [wv_from_bin.get_vector(word) for word in words]\n",
        "\n",
        "pca = PCA(n_components=3)\n",
        "prjected_words_vectors = pca.fit_transform(words_vectors)\n",
        "\n",
        "plot_scatter(prjected_words_vectors, words, 'black')"
      ],
      "metadata": {
        "id": "FJ2Dwyu2-vb4"
      },
      "execution_count": null,
      "outputs": []
    },
    {
      "cell_type": "markdown",
      "source": [
        "# Question 6"
      ],
      "metadata": {
        "id": "jx77MZYw-SyZ"
      }
    },
    {
      "cell_type": "code",
      "source": [
        "words_group1 = ['cat', 'dog', 'mouse', 'cow', 'lion']\n",
        "words_group2 = ['iran', 'iraq', 'qatar', 'emirates', 'afghanistan']\n",
        "words_group3 = ['green', 'blue', 'red', 'white', 'black']\n",
        "\n",
        "words_group1_vectors = [wv_from_bin.get_vector(word) for word in words_group1]\n",
        "words_group2_vectors = [wv_from_bin.get_vector(word) for word in words_group2]\n",
        "words_group3_vectors = [wv_from_bin.get_vector(word) for word in words_group3]\n",
        "\n",
        "words = np.array(words_group1 + words_group2 + words_group3)\n",
        "colors = ['green']*len(words_group1) + ['blue']*len(words_group2) + ['red']*len(words_group3)\n",
        "words_vectors = np.array(words_group1_vectors + words_group2_vectors + words_group3_vectors)\n",
        "\n",
        "pca = PCA(n_components=3)\n",
        "prjected_words_vectors = pca.fit_transform(words_vectors)\n",
        "\n",
        "plot_scatter(prjected_words_vectors, words, colors)"
      ],
      "metadata": {
        "id": "DXCFh6wStZCM"
      },
      "execution_count": null,
      "outputs": []
    },
    {
      "cell_type": "markdown",
      "source": [
        "# Question 7"
      ],
      "metadata": {
        "id": "7MDzZBii-ywx"
      }
    },
    {
      "cell_type": "code",
      "source": [
        "# Question 7\n",
        "words_group1 = ['', '', '', '', '']\n",
        "words_group2 = ['', '', '', '', '']\n",
        "words_group3 = ['', '', '', '', '']\n",
        "\n",
        "words_group1_vectors = [wv_from_bin.get_vector(word) for word in words_group1]\n",
        "words_group2_vectors = [wv_from_bin.get_vector(word) for word in words_group2]\n",
        "words_group3_vectors = [wv_from_bin.get_vector(word) for word in words_group3]\n",
        "\n",
        "words = np.array(words_group1 + words_group2 + words_group3)\n",
        "colors = ['green']*len(words_group1) + ['blue']*len(words_group2) + ['red']*len(words_group3)\n",
        "words_vectors = np.array(words_group1_vectors + words_group2_vectors + words_group3_vectors)\n",
        "\n",
        "pca = PCA(n_components=3)\n",
        "prjected_words_vectors = pca.fit_transform(words_vectors)\n",
        "\n",
        "plot_scatter(prjected_words_vectors, words, colors)"
      ],
      "metadata": {
        "id": "pIj66cX--rRm"
      },
      "execution_count": null,
      "outputs": []
    },
    {
      "cell_type": "markdown",
      "source": [
        "# Question 8"
      ],
      "metadata": {
        "id": "xQ7IqQfw9_pO"
      }
    },
    {
      "cell_type": "code",
      "metadata": {
        "id": "po-LERr-0bOe"
      },
      "source": [
        "many_dict = dict()\n",
        "many_dict[str(('many', 'cow', 'one'))] = wv_from_bin.most_similar(positive=['many', 'cow'], negative=['one'])\n",
        "show_DataFrame(many_dict, [f'Word {i + 1}' for i in range(10)])"
      ],
      "execution_count": null,
      "outputs": []
    },
    {
      "cell_type": "code",
      "metadata": {
        "id": "68eCDQ_Gsc5w"
      },
      "source": [
        "many_dict = dict()\n",
        "many_dict[str(('young', 'cow', 'old'))] = wv_from_bin.most_similar(positive=['young', 'cow'], negative=['old'])\n",
        "show_DataFrame(many_dict, [f'Word {i + 1}' for i in range(10)])"
      ],
      "execution_count": null,
      "outputs": []
    },
    {
      "cell_type": "code",
      "metadata": {
        "id": "Q0EO7onxs39f"
      },
      "source": [
        "# Question 8\n"
      ],
      "execution_count": null,
      "outputs": []
    }
  ]
}