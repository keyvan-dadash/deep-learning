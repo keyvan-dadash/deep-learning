{
  "nbformat": 4,
  "nbformat_minor": 0,
  "metadata": {
    "colab": {
      "name": "HW14_4.ipynb",
      "provenance": [],
      "collapsed_sections": []
    },
    "kernelspec": {
      "name": "python3",
      "display_name": "Python 3"
    },
    "language_info": {
      "name": "python"
    }
  },
  "cells": [
    {
      "cell_type": "markdown",
      "source": [
        "# Import"
      ],
      "metadata": {
        "id": "g7m6H3X8aKf4"
      }
    },
    {
      "cell_type": "code",
      "execution_count": null,
      "metadata": {
        "colab": {
          "base_uri": "https://localhost:8080/"
        },
        "id": "vMIi74DwRiq1",
        "outputId": "094611dc-fc8f-4031-cc77-fc2a954787ae"
      },
      "outputs": [
        {
          "output_type": "stream",
          "name": "stdout",
          "text": [
            "\u001b[?25l\r\u001b[K     |███▍                            | 10 kB 19.7 MB/s eta 0:00:01\r\u001b[K     |██████▊                         | 20 kB 26.9 MB/s eta 0:00:01\r\u001b[K     |██████████                      | 30 kB 32.0 MB/s eta 0:00:01\r\u001b[K     |█████████████▍                  | 40 kB 34.9 MB/s eta 0:00:01\r\u001b[K     |████████████████▊               | 51 kB 35.1 MB/s eta 0:00:01\r\u001b[K     |████████████████████            | 61 kB 26.9 MB/s eta 0:00:01\r\u001b[K     |███████████████████████▍        | 71 kB 24.0 MB/s eta 0:00:01\r\u001b[K     |██████████████████████████▊     | 81 kB 25.3 MB/s eta 0:00:01\r\u001b[K     |██████████████████████████████  | 92 kB 27.3 MB/s eta 0:00:01\r\u001b[K     |████████████████████████████████| 98 kB 6.9 MB/s \n",
            "\u001b[?25h"
          ]
        }
      ],
      "source": [
        "import tensorflow as tf\n",
        "from tensorflow import keras\n",
        "!pip install -q -U keras-tuner\n",
        "import keras_tuner as kt"
      ]
    },
    {
      "cell_type": "markdown",
      "source": [
        "# Loading Data"
      ],
      "metadata": {
        "id": "2ZzTCtXcaOY4"
      }
    },
    {
      "cell_type": "code",
      "source": [
        "(img_train, label_train), (img_test, label_test) = keras.datasets.fashion_mnist.load_data()\n",
        "# Normalize pixel values between (img_train, label_train), (img_test, label_test) = keras.datasets.fashion_mnist.load_data()\n",
        "# Normalize pixel values between 0 and 1\n",
        "img_train = img_train.astype('float32') / 255.0\n",
        "img_test = img_test.astype('float32') / 255.00 and 1\n",
        "img_train = img_train.astype('float32') / 255.0\n",
        "img_test = img_test.astype('float32') / 255.0"
      ],
      "metadata": {
        "colab": {
          "base_uri": "https://localhost:8080/"
        },
        "id": "V83iFn-7Rpql",
        "outputId": "9fdd5267-2748-4747-eab5-d7db0cb33805"
      },
      "execution_count": null,
      "outputs": [
        {
          "output_type": "stream",
          "name": "stdout",
          "text": [
            "Downloading data from https://storage.googleapis.com/tensorflow/tf-keras-datasets/train-labels-idx1-ubyte.gz\n",
            "32768/29515 [=================================] - 0s 0us/step\n",
            "40960/29515 [=========================================] - 0s 0us/step\n",
            "Downloading data from https://storage.googleapis.com/tensorflow/tf-keras-datasets/train-images-idx3-ubyte.gz\n",
            "26427392/26421880 [==============================] - 0s 0us/step\n",
            "26435584/26421880 [==============================] - 0s 0us/step\n",
            "Downloading data from https://storage.googleapis.com/tensorflow/tf-keras-datasets/t10k-labels-idx1-ubyte.gz\n",
            "16384/5148 [===============================================================================================] - 0s 0us/step\n",
            "Downloading data from https://storage.googleapis.com/tensorflow/tf-keras-datasets/t10k-images-idx3-ubyte.gz\n",
            "4423680/4422102 [==============================] - 0s 0us/step\n",
            "4431872/4422102 [==============================] - 0s 0us/step\n"
          ]
        }
      ]
    },
    {
      "cell_type": "markdown",
      "source": [
        "# Base Model"
      ],
      "metadata": {
        "id": "quMMYCOeeVEe"
      }
    },
    {
      "cell_type": "code",
      "source": [
        "def model_builder():\n",
        "  model = keras.Sequential()\n",
        "  model.add(keras.layers.Flatten(input_shape=(28, 28)))\n",
        "  model.add(keras.layers.Dense(units=512, activation='relu'))\n",
        "  model.add(keras.layers.Dense(10))\n",
        "  model.compile(optimizer=keras.optimizers.Adam(learning_rate=0.01),\n",
        "                loss=keras.losses.SparseCategoricalCrossentropy(from_logits=True),\n",
        "                metrics=['accuracy'])\n",
        "\n",
        "  return model"
      ],
      "metadata": {
        "id": "R8GriD14cOX8"
      },
      "execution_count": null,
      "outputs": []
    },
    {
      "cell_type": "code",
      "source": [
        "model = model_builder()\n",
        "history = model.fit(img_train, label_train, epochs=50, validation_split=0.2)\n"
      ],
      "metadata": {
        "colab": {
          "base_uri": "https://localhost:8080/"
        },
        "id": "_m0yhB1HcjW1",
        "outputId": "aacd83e3-c015-4cb1-ab13-0c953c0fc7a7"
      },
      "execution_count": null,
      "outputs": [
        {
          "output_type": "stream",
          "name": "stdout",
          "text": [
            "Epoch 1/50\n",
            "1500/1500 [==============================] - 8s 5ms/step - loss: 0.5757 - accuracy: 0.8018 - val_loss: 0.4972 - val_accuracy: 0.8244\n",
            "Epoch 2/50\n",
            "1500/1500 [==============================] - 7s 5ms/step - loss: 0.4489 - accuracy: 0.8410 - val_loss: 0.4291 - val_accuracy: 0.8552\n",
            "Epoch 3/50\n",
            "1500/1500 [==============================] - 6s 4ms/step - loss: 0.4139 - accuracy: 0.8515 - val_loss: 0.4100 - val_accuracy: 0.8563\n",
            "Epoch 4/50\n",
            "1500/1500 [==============================] - 7s 4ms/step - loss: 0.4204 - accuracy: 0.8500 - val_loss: 0.4940 - val_accuracy: 0.8365\n",
            "Epoch 5/50\n",
            "1500/1500 [==============================] - 7s 5ms/step - loss: 0.4005 - accuracy: 0.8569 - val_loss: 0.4443 - val_accuracy: 0.8446\n",
            "Epoch 6/50\n",
            "1500/1500 [==============================] - 7s 5ms/step - loss: 0.3888 - accuracy: 0.8602 - val_loss: 0.4200 - val_accuracy: 0.8577\n",
            "Epoch 7/50\n",
            "1500/1500 [==============================] - 7s 5ms/step - loss: 0.3800 - accuracy: 0.8655 - val_loss: 0.4463 - val_accuracy: 0.8553\n",
            "Epoch 8/50\n",
            "1500/1500 [==============================] - 7s 4ms/step - loss: 0.3740 - accuracy: 0.8665 - val_loss: 0.4140 - val_accuracy: 0.8559\n",
            "Epoch 9/50\n",
            "1500/1500 [==============================] - 7s 4ms/step - loss: 0.3724 - accuracy: 0.8675 - val_loss: 0.4644 - val_accuracy: 0.8405\n",
            "Epoch 10/50\n",
            "1500/1500 [==============================] - 7s 5ms/step - loss: 0.3671 - accuracy: 0.8687 - val_loss: 0.4441 - val_accuracy: 0.8530\n",
            "Epoch 11/50\n",
            "1500/1500 [==============================] - 7s 5ms/step - loss: 0.3573 - accuracy: 0.8715 - val_loss: 0.4452 - val_accuracy: 0.8577\n",
            "Epoch 12/50\n",
            "1500/1500 [==============================] - 7s 5ms/step - loss: 0.3602 - accuracy: 0.8720 - val_loss: 0.4570 - val_accuracy: 0.8557\n",
            "Epoch 13/50\n",
            "1500/1500 [==============================] - 7s 5ms/step - loss: 0.3521 - accuracy: 0.8744 - val_loss: 0.4316 - val_accuracy: 0.8543\n",
            "Epoch 14/50\n",
            "1500/1500 [==============================] - 7s 4ms/step - loss: 0.3543 - accuracy: 0.8745 - val_loss: 0.4527 - val_accuracy: 0.8547\n",
            "Epoch 15/50\n",
            "1500/1500 [==============================] - 7s 4ms/step - loss: 0.3564 - accuracy: 0.8727 - val_loss: 0.4760 - val_accuracy: 0.8453\n",
            "Epoch 16/50\n",
            "1500/1500 [==============================] - 7s 5ms/step - loss: 0.3458 - accuracy: 0.8760 - val_loss: 0.4512 - val_accuracy: 0.8586\n",
            "Epoch 17/50\n",
            "1500/1500 [==============================] - 7s 5ms/step - loss: 0.3501 - accuracy: 0.8731 - val_loss: 0.4550 - val_accuracy: 0.8597\n",
            "Epoch 18/50\n",
            "1500/1500 [==============================] - 7s 5ms/step - loss: 0.3463 - accuracy: 0.8770 - val_loss: 0.4958 - val_accuracy: 0.8465\n",
            "Epoch 19/50\n",
            "1500/1500 [==============================] - 7s 5ms/step - loss: 0.3412 - accuracy: 0.8783 - val_loss: 0.4833 - val_accuracy: 0.8540\n",
            "Epoch 20/50\n",
            "1500/1500 [==============================] - 7s 5ms/step - loss: 0.3414 - accuracy: 0.8766 - val_loss: 0.4562 - val_accuracy: 0.8554\n",
            "Epoch 21/50\n",
            "1500/1500 [==============================] - 7s 5ms/step - loss: 0.3385 - accuracy: 0.8791 - val_loss: 0.4537 - val_accuracy: 0.8582\n",
            "Epoch 22/50\n",
            "1500/1500 [==============================] - 7s 5ms/step - loss: 0.3373 - accuracy: 0.8793 - val_loss: 0.4813 - val_accuracy: 0.8455\n",
            "Epoch 23/50\n",
            "1500/1500 [==============================] - 7s 5ms/step - loss: 0.3364 - accuracy: 0.8791 - val_loss: 0.4848 - val_accuracy: 0.8460\n",
            "Epoch 24/50\n",
            "1500/1500 [==============================] - 7s 5ms/step - loss: 0.3367 - accuracy: 0.8783 - val_loss: 0.4935 - val_accuracy: 0.8487\n",
            "Epoch 25/50\n",
            "1500/1500 [==============================] - 7s 5ms/step - loss: 0.3351 - accuracy: 0.8791 - val_loss: 0.4601 - val_accuracy: 0.8615\n",
            "Epoch 26/50\n",
            "1500/1500 [==============================] - 8s 5ms/step - loss: 0.3332 - accuracy: 0.8809 - val_loss: 0.4949 - val_accuracy: 0.8537\n",
            "Epoch 27/50\n",
            "1500/1500 [==============================] - 7s 5ms/step - loss: 0.3307 - accuracy: 0.8807 - val_loss: 0.4832 - val_accuracy: 0.8547\n",
            "Epoch 28/50\n",
            "1500/1500 [==============================] - 7s 5ms/step - loss: 0.3280 - accuracy: 0.8820 - val_loss: 0.4836 - val_accuracy: 0.8509\n",
            "Epoch 29/50\n",
            "1500/1500 [==============================] - 7s 5ms/step - loss: 0.3305 - accuracy: 0.8836 - val_loss: 0.4706 - val_accuracy: 0.8561\n",
            "Epoch 30/50\n",
            "1500/1500 [==============================] - 7s 5ms/step - loss: 0.3229 - accuracy: 0.8833 - val_loss: 0.5378 - val_accuracy: 0.8250\n",
            "Epoch 31/50\n",
            "1500/1500 [==============================] - 7s 5ms/step - loss: 0.3251 - accuracy: 0.8839 - val_loss: 0.4924 - val_accuracy: 0.8538\n",
            "Epoch 32/50\n",
            "1500/1500 [==============================] - 7s 5ms/step - loss: 0.3258 - accuracy: 0.8835 - val_loss: 0.5041 - val_accuracy: 0.8522\n",
            "Epoch 33/50\n",
            "1500/1500 [==============================] - 7s 5ms/step - loss: 0.3179 - accuracy: 0.8854 - val_loss: 0.5955 - val_accuracy: 0.8320\n",
            "Epoch 34/50\n",
            "1500/1500 [==============================] - 7s 5ms/step - loss: 0.3217 - accuracy: 0.8847 - val_loss: 0.5244 - val_accuracy: 0.8397\n",
            "Epoch 35/50\n",
            "1500/1500 [==============================] - 7s 5ms/step - loss: 0.3232 - accuracy: 0.8860 - val_loss: 0.4828 - val_accuracy: 0.8550\n",
            "Epoch 36/50\n",
            "1500/1500 [==============================] - 7s 5ms/step - loss: 0.3165 - accuracy: 0.8871 - val_loss: 0.5855 - val_accuracy: 0.8456\n",
            "Epoch 37/50\n",
            "1500/1500 [==============================] - 7s 5ms/step - loss: 0.3201 - accuracy: 0.8862 - val_loss: 0.5855 - val_accuracy: 0.8555\n",
            "Epoch 38/50\n",
            "1500/1500 [==============================] - 7s 5ms/step - loss: 0.3195 - accuracy: 0.8863 - val_loss: 0.5082 - val_accuracy: 0.8616\n",
            "Epoch 39/50\n",
            "1500/1500 [==============================] - 7s 4ms/step - loss: 0.3170 - accuracy: 0.8849 - val_loss: 0.5191 - val_accuracy: 0.8597\n",
            "Epoch 40/50\n",
            "1500/1500 [==============================] - 7s 5ms/step - loss: 0.3149 - accuracy: 0.8872 - val_loss: 0.5511 - val_accuracy: 0.8451\n",
            "Epoch 41/50\n",
            "1500/1500 [==============================] - 7s 5ms/step - loss: 0.3189 - accuracy: 0.8873 - val_loss: 0.5444 - val_accuracy: 0.8480\n",
            "Epoch 42/50\n",
            "1500/1500 [==============================] - 7s 4ms/step - loss: 0.3132 - accuracy: 0.8874 - val_loss: 0.5425 - val_accuracy: 0.8514\n",
            "Epoch 43/50\n",
            "1500/1500 [==============================] - 7s 5ms/step - loss: 0.3102 - accuracy: 0.8903 - val_loss: 0.5393 - val_accuracy: 0.8501\n",
            "Epoch 44/50\n",
            "1500/1500 [==============================] - 7s 5ms/step - loss: 0.3204 - accuracy: 0.8882 - val_loss: 0.4906 - val_accuracy: 0.8526\n",
            "Epoch 45/50\n",
            "1500/1500 [==============================] - 7s 4ms/step - loss: 0.3079 - accuracy: 0.8898 - val_loss: 0.5425 - val_accuracy: 0.8568\n",
            "Epoch 46/50\n",
            "1500/1500 [==============================] - 7s 4ms/step - loss: 0.3175 - accuracy: 0.8867 - val_loss: 0.5247 - val_accuracy: 0.8485\n",
            "Epoch 47/50\n",
            "1500/1500 [==============================] - 7s 5ms/step - loss: 0.3116 - accuracy: 0.8898 - val_loss: 0.5064 - val_accuracy: 0.8568\n",
            "Epoch 48/50\n",
            "1500/1500 [==============================] - 7s 5ms/step - loss: 0.3198 - accuracy: 0.8887 - val_loss: 0.5033 - val_accuracy: 0.8586\n",
            "Epoch 49/50\n",
            "1500/1500 [==============================] - 7s 4ms/step - loss: 0.3100 - accuracy: 0.8898 - val_loss: 0.5367 - val_accuracy: 0.8503\n",
            "Epoch 50/50\n",
            "1500/1500 [==============================] - 7s 5ms/step - loss: 0.3050 - accuracy: 0.8904 - val_loss: 0.5954 - val_accuracy: 0.8584\n"
          ]
        }
      ]
    },
    {
      "cell_type": "markdown",
      "source": [
        "# Keras Tuner"
      ],
      "metadata": {
        "id": "-V06erkwaQdd"
      }
    },
    {
      "cell_type": "code",
      "source": [
        ""
      ],
      "metadata": {
        "id": "EBLh4qJYRuF3"
      },
      "execution_count": null,
      "outputs": []
    },
    {
      "cell_type": "code",
      "source": [
        ""
      ],
      "metadata": {
        "id": "ziTydeV6RxWJ"
      },
      "execution_count": null,
      "outputs": []
    },
    {
      "cell_type": "code",
      "source": [
        ""
      ],
      "metadata": {
        "id": "tEpb2owlR6kr"
      },
      "execution_count": null,
      "outputs": []
    },
    {
      "cell_type": "code",
      "source": [
        ""
      ],
      "metadata": {
        "id": "9KGDpAc5SG8_"
      },
      "execution_count": null,
      "outputs": []
    }
  ]
}