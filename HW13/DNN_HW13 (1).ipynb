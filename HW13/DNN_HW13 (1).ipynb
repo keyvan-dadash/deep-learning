{
  "cells": [
    {
      "cell_type": "code",
      "execution_count": null,
      "metadata": {
        "id": "05e4mKftC8BP"
      },
      "outputs": [],
      "source": [
        "#@title Student Information\n",
        "#@markdown Enter the following info and run the cell:\n",
        "Name = \"Keyvan dadashzadeh\" #@param {type:\"string\"}\n",
        "StudentNumber = 97522148 #@param {type:\"integer\"}"
      ]
    },
    {
      "cell_type": "markdown",
      "metadata": {
        "id": "Tf-jnHngag-m"
      },
      "source": [
        "#Imports"
      ]
    },
    {
      "cell_type": "code",
      "execution_count": 1,
      "metadata": {
        "id": "dJBzDr12K3bf"
      },
      "outputs": [],
      "source": [
        "%%capture\n",
        "!pip install transformers"
      ]
    },
    {
      "cell_type": "code",
      "execution_count": 2,
      "metadata": {
        "id": "-0twGcAkFWiG"
      },
      "outputs": [],
      "source": [
        "import tensorflow as tf\n",
        "tf.config.run_functions_eagerly(True)\n",
        "import tensorflow_datasets as tfds\n",
        "\n",
        "from functools import reduce\n",
        "import tarfile\n",
        "import numpy as np\n",
        "import re\n",
        "\n",
        "import IPython\n",
        "from IPython.display import clear_output \n",
        "import matplotlib.pyplot as plt\n",
        "import pandas as pd\n",
        "\n",
        "from transformers import TFBertModel, BertTokenizer\n",
        "%matplotlib inline"
      ]
    },
    {
      "cell_type": "code",
      "execution_count": 3,
      "metadata": {
        "colab": {
          "base_uri": "https://localhost:8080/"
        },
        "id": "FGw9iBLGU9Cu",
        "outputId": "4cd5243c-1ac1-4d42-e215-a99f820575ef"
      },
      "outputs": [
        {
          "output_type": "stream",
          "name": "stdout",
          "text": [
            "Mon Jan  3 20:13:02 2022       \n",
            "+-----------------------------------------------------------------------------+\n",
            "| NVIDIA-SMI 495.44       Driver Version: 460.32.03    CUDA Version: 11.2     |\n",
            "|-------------------------------+----------------------+----------------------+\n",
            "| GPU  Name        Persistence-M| Bus-Id        Disp.A | Volatile Uncorr. ECC |\n",
            "| Fan  Temp  Perf  Pwr:Usage/Cap|         Memory-Usage | GPU-Util  Compute M. |\n",
            "|                               |                      |               MIG M. |\n",
            "|===============================+======================+======================|\n",
            "|   0  Tesla K80           Off  | 00000000:00:04.0 Off |                    0 |\n",
            "| N/A   39C    P8    27W / 149W |      0MiB / 11441MiB |      0%      Default |\n",
            "|                               |                      |                  N/A |\n",
            "+-------------------------------+----------------------+----------------------+\n",
            "                                                                               \n",
            "+-----------------------------------------------------------------------------+\n",
            "| Processes:                                                                  |\n",
            "|  GPU   GI   CI        PID   Type   Process name                  GPU Memory |\n",
            "|        ID   ID                                                   Usage      |\n",
            "|=============================================================================|\n",
            "|  No running processes found                                                 |\n",
            "+-----------------------------------------------------------------------------+\n"
          ]
        }
      ],
      "source": [
        "!nvidia-smi # check if gpu mode is selected"
      ]
    },
    {
      "cell_type": "markdown",
      "metadata": {
        "id": "2JqUZuEo8G_p"
      },
      "source": [
        "We will use a dataset consists of questions where a previously given single supporting fact, potentially amongst a set of other irrelevant facts, provides the answer. We first test one of the simplest cases of this, by asking for the location of a person, e.g. “$Mary$ $travelled$ $to$ $the$ $office.$ $Where$ $is$ $Mary?$”. It can be considered the\n",
        "simplest case of some real world QA datasets."
      ]
    },
    {
      "cell_type": "markdown",
      "metadata": {
        "id": "KsvVnfvfGnib"
      },
      "source": [
        "About the dataset: https://research.fb.com/downloads/babi/"
      ]
    },
    {
      "cell_type": "markdown",
      "metadata": {
        "id": "-OlahJ1OrKjd"
      },
      "source": [
        "Lets download the dataset:"
      ]
    },
    {
      "cell_type": "markdown",
      "metadata": {
        "id": "h_dp3WT7FW8E"
      },
      "source": [
        "# 1. LSTM- Q&A\n",
        "\n"
      ]
    },
    {
      "cell_type": "markdown",
      "metadata": {
        "id": "259V3MeC9G55"
      },
      "source": [
        "## 1.2 Preprocessing"
      ]
    },
    {
      "cell_type": "markdown",
      "metadata": {
        "id": "4u_xDAfovXf7"
      },
      "source": [
        "Our model takes a discrete set of inputs $x_{1}, ..., x_{n}$ that are to be stored in the memory, a query $q$, and outputs an answer $a$. Each of the $x_{i}$, $q$, and $a$ contains symbols coming from a dictionary with $V$ words. The model writes all $x$ to the memory up to a fixed buffer size, and then finds a continuous representation for the $x$ and $q$. The continuous representation is then processed via multiple hops to\n",
        "output $a$. This allows backpropagation of the error signal through multiple memory accesses back to the input during training. The overall model is shown in the next figure. During training, all three embedding matrices $A, B$ and $C$, as well as $W$ are jointly learned by minimizing a standard cross-entropy loss between $aˆ$ and the true\n",
        "label $a$. Training is performed using stochastic gradient descent.\n",
        "\n",
        "\n",
        "Delve more deeply into the details: https://arxiv.org/pdf/1503.08895.pdf"
      ]
    },
    {
      "cell_type": "code",
      "execution_count": 4,
      "metadata": {
        "id": "Tx-wpcdQJfpk"
      },
      "outputs": [],
      "source": [
        "%%capture\n",
        "!wget https://s3.amazonaws.com/text-datasets/babi_tasks_1-20_v1-2.tar.gz\n",
        "!tar -xvzf babi_tasks_1-20_v1-2.tar.gz"
      ]
    },
    {
      "cell_type": "code",
      "execution_count": 5,
      "metadata": {
        "id": "tBYgDigJanwz"
      },
      "outputs": [],
      "source": [
        "challenges = [\n",
        "    'qa1_single-supporting-fact',\n",
        "    'qa2_two-supporting-facts',\n",
        "]\n",
        "train_file_path = f'/content/tasks_1-20_v1-2/en-10k/{challenges[0]}_train.txt'\n",
        "test_file_path = f'/content/tasks_1-20_v1-2/en-10k/{challenges[0]}_test.txt'"
      ]
    },
    {
      "cell_type": "code",
      "execution_count": 6,
      "metadata": {
        "id": "JCBfH4qrrKjL"
      },
      "outputs": [],
      "source": [
        "def word_tokenizer(sent):\n",
        "    return [ x.strip() for x in re.split('(\\W+)', sent) if x.strip()]"
      ]
    },
    {
      "cell_type": "markdown",
      "metadata": {
        "id": "_WLJmevS-Dy6"
      },
      "source": [
        "According to the dataset (bAbi tasks), we need to prepare the data for training the model. With the next function we parse the dataset and manufactore it in desired way."
      ]
    },
    {
      "cell_type": "code",
      "execution_count": 7,
      "metadata": {
        "id": "tzksSX8drKjP"
      },
      "outputs": [],
      "source": [
        "def parse_stories(lines, only_supporting=False, tokenize = True):\n",
        "    '''Parse stories provided in the bAbi tasks format\n",
        "    If only_supporting is true, only the sentences\n",
        "    that support the answer are kept.\n",
        "    '''\n",
        "    data = []\n",
        "    story = []\n",
        "    for line in lines:\n",
        "        line = line.strip()\n",
        "        nid, line = line.split(' ', 1)\n",
        "        nid = int(nid)\n",
        "        if nid == 1:\n",
        "            story = []\n",
        "        if '\\t' in line:\n",
        "            q, a, supporting = line.split('\\t')\n",
        "            if tokenize:\n",
        "                q = word_tokenizer(q)\n",
        "            substory = None\n",
        "            if only_supporting:\n",
        "                # Only select the related substory\n",
        "                supporting = map(int, supporting.split())\n",
        "                substory = [story[i - 1] for i in supporting]\n",
        "            else:\n",
        "                # Provide all the substories\n",
        "                substory = [x for x in story if x]\n",
        "            data.append((substory, q, a))\n",
        "            story.append('')\n",
        "        else:\n",
        "            if tokenize:\n",
        "                sent = word_tokenizer(line)\n",
        "            else:\n",
        "                sent = line\n",
        "            story.append(sent)\n",
        "    return data\n"
      ]
    },
    {
      "cell_type": "markdown",
      "metadata": {
        "id": "FwkiTJYRJvPe"
      },
      "source": [
        "Now we need to take proper structure of the data: "
      ]
    },
    {
      "cell_type": "code",
      "execution_count": 8,
      "metadata": {
        "id": "kBc_rzF-rKjT"
      },
      "outputs": [],
      "source": [
        "def get_stories(f, only_supporting=False, max_length=None, tokenize=True):\n",
        "    data = parse_stories(f.readlines(), only_supporting=only_supporting, tokenize=tokenize)\n",
        "    flatten = lambda data: reduce(lambda x, y: x + y, data)\n",
        "    data = [(story[0]+story[1], q, answer) for story, q, answer in data if not max_length or len(flatten(story)) < max_length]\n",
        "    return data"
      ]
    },
    {
      "cell_type": "markdown",
      "metadata": {
        "id": "FivvTCc8J-GW"
      },
      "source": [
        "Here we need to make the vectors of stories, questions and answers. its too easy:"
      ]
    },
    {
      "cell_type": "code",
      "execution_count": 9,
      "metadata": {
        "id": "BzEnmDN_rKjW"
      },
      "outputs": [],
      "source": [
        "from keras.preprocessing.sequence import pad_sequences\n",
        "\n",
        "def vectorize_stories(data, word_idx, story_maxlen, query_maxlen):\n",
        "    x_train = []\n",
        "    questions = []\n",
        "    y_train = []\n",
        "\n",
        "    # print(data)\n",
        "    # Here's what a \"story\" tuple looks like (input, query, answer):\n",
        "    # (['Mary', 'moved', 'to', 'the', 'bathroom', '.', 'John', 'went', 'to', 'the', 'hallway', '.'], ['Where', 'is', 'Mary', '?'], 'bathroom')\n",
        "\n",
        "    # print(word_idx)\n",
        "    # {'.': 1, '?': 2, 'Daniel': 3, 'John': 4, 'Mary': 5, 'Sandra': 6, 'Where': 7, 'back': 8, 'bathroom': 9, 'bedroom': 10, 'garden': 11, 'hallway': 12, 'is': 13, 'journeyed': 14, 'kitchen': 15, 'moved': 16, 'office': 17, 'the': 18, 'to': 19, 'travelled': 20, 'went': 21}\n",
        "\n",
        "    #here we have first index which is represent story\n",
        "    #here we have second index which is represent query\n",
        "    #here we have third index which is represent answer\n",
        "    for story, query, answer in data:\n",
        "\n",
        "      #get index of each word in story\n",
        "      x = [word_idx[w] for w in story]\n",
        "\n",
        "      #get index of each word in query\n",
        "      xq = [word_idx[w] for w in query]\n",
        "\n",
        "      #all start from one. so we should consider one more slot.\n",
        "      y = np.zeros(len(word_idx) + 1)\n",
        "\n",
        "      #mark answer\n",
        "      y[word_idx[answer]] = 1\n",
        "\n",
        "      # print(x)\n",
        "      # print(xq)\n",
        "      # print(y)\n",
        "\n",
        "      #append all of vectorized data\n",
        "      x_train.append(x)\n",
        "      questions.append(xq)\n",
        "      y_train.append(y)\n",
        "\n",
        "    #it will shift(pad) the elements for fill with maxlen\n",
        "    #https://www.tensorflow.org/api_docs/python/tf/keras/preprocessing/sequence/pad_sequences\n",
        "    inputs_train = pad_sequences(x_train, maxlen=story_maxlen)\n",
        "    queries_train = pad_sequences(questions, maxlen=query_maxlen)\n",
        "    answers_train = np.array(y_train)\n",
        "\n",
        "    return inputs_train, queries_train, answers_train\n"
      ]
    },
    {
      "cell_type": "markdown",
      "metadata": {
        "id": "B77myra2ZJYK"
      },
      "source": [
        "Its time to extract stories from the dataset, then pass them to the defined functions for parsing and make it usable:"
      ]
    },
    {
      "cell_type": "code",
      "execution_count": 10,
      "metadata": {
        "id": "Akcwoo3frKjj"
      },
      "outputs": [],
      "source": [
        "train_stories = get_stories(open(train_file_path), tokenize=True)\n",
        "test_stories = get_stories(open(test_file_path), tokenize=True)"
      ]
    },
    {
      "cell_type": "code",
      "execution_count": 11,
      "metadata": {
        "colab": {
          "base_uri": "https://localhost:8080/"
        },
        "id": "kyiMaVRirKjm",
        "outputId": "541a8125-8f24-49ac-bae1-606b4d570c74"
      },
      "outputs": [
        {
          "output_type": "execute_result",
          "data": {
            "text/plain": [
              "(10000, 1000)"
            ]
          },
          "metadata": {},
          "execution_count": 11
        }
      ],
      "source": [
        "len(train_stories), len(test_stories)"
      ]
    },
    {
      "cell_type": "markdown",
      "metadata": {
        "id": "YpXH9iYQrKjq"
      },
      "source": [
        "## 1.3 Check our helper functions and prepare the data:"
      ]
    },
    {
      "cell_type": "code",
      "execution_count": 12,
      "metadata": {
        "id": "29110FTDrKjr"
      },
      "outputs": [],
      "source": [
        "vocab = set()\n",
        "for story, q, answer in train_stories + test_stories:\n",
        "    vocab |= set(story + q + [answer])\n",
        "vocab = sorted(vocab)\n",
        "\n",
        "# Reserve 0 for masking via pad_sequences\n",
        "vocab_size = len(vocab) + 1\n",
        "story_maxlen = max(map(len, (x for x, _, _ in train_stories + test_stories)))\n",
        "query_maxlen = max(map(len, (x for _, x, _ in train_stories + test_stories)))"
      ]
    },
    {
      "cell_type": "code",
      "execution_count": 13,
      "metadata": {
        "colab": {
          "base_uri": "https://localhost:8080/"
        },
        "id": "PopB46hnrKju",
        "outputId": "17815a94-2404-4b1b-b0b1-067bbaeb4f72"
      },
      "outputs": [
        {
          "output_type": "execute_result",
          "data": {
            "text/plain": [
              "(14, 4)"
            ]
          },
          "metadata": {},
          "execution_count": 13
        }
      ],
      "source": [
        "story_maxlen, query_maxlen"
      ]
    },
    {
      "cell_type": "code",
      "execution_count": 14,
      "metadata": {
        "colab": {
          "base_uri": "https://localhost:8080/"
        },
        "id": "q-G22KfxrKjy",
        "outputId": "25974295-af7d-4580-c0b8-018302f44882"
      },
      "outputs": [
        {
          "output_type": "stream",
          "name": "stdout",
          "text": [
            "-\n",
            "Vocab size: 22 unique words\n",
            "Story max length: 14 words\n",
            "Query max length: 4 words\n",
            "Number of training stories: 10000\n",
            "Number of test stories: 1000\n",
            "-\n",
            "Here's what a \"story\" tuple looks like (input, query, answer):\n",
            "(['Mary', 'moved', 'to', 'the', 'bathroom', '.', 'John', 'went', 'to', 'the', 'hallway', '.'], ['Where', 'is', 'Mary', '?'], 'bathroom')\n",
            "-\n",
            "Vectorizing the word sequences...\n"
          ]
        }
      ],
      "source": [
        "print('-')\n",
        "print('Vocab size:', vocab_size, 'unique words')\n",
        "print('Story max length:', story_maxlen, 'words')\n",
        "print('Query max length:', query_maxlen, 'words')\n",
        "print('Number of training stories:', len(train_stories))\n",
        "print('Number of test stories:', len(test_stories))\n",
        "print('-')\n",
        "print('Here\\'s what a \"story\" tuple looks like (input, query, answer):')\n",
        "print(train_stories[0])\n",
        "print('-')\n",
        "print('Vectorizing the word sequences...')\n",
        "\n",
        "word_idx = dict((c, i + 1) for i, c in enumerate(vocab))\n",
        "idx_word = dict((i+1, c) for i,c in enumerate(vocab))\n",
        "inputs_train, queries_train, answers_train = vectorize_stories(train_stories,\n",
        "                                                               word_idx,\n",
        "                                                               story_maxlen,\n",
        "                                                               query_maxlen)\n",
        "inputs_test, queries_test, answers_test = vectorize_stories(test_stories,\n",
        "                                                            word_idx,\n",
        "                                                            story_maxlen,\n",
        "                                                            query_maxlen)\n"
      ]
    },
    {
      "cell_type": "code",
      "execution_count": 15,
      "metadata": {
        "colab": {
          "base_uri": "https://localhost:8080/"
        },
        "id": "oMnIXlTBrKj1",
        "outputId": "15040ef0-adca-4f08-9e2f-5acdf5e4d217"
      },
      "outputs": [
        {
          "output_type": "execute_result",
          "data": {
            "text/plain": [
              "((10000, 14), (10000, 4), (10000, 22))"
            ]
          },
          "metadata": {},
          "execution_count": 15
        }
      ],
      "source": [
        "inputs_train.shape, queries_train.shape, answers_train.shape"
      ]
    },
    {
      "cell_type": "code",
      "execution_count": 16,
      "metadata": {
        "colab": {
          "base_uri": "https://localhost:8080/"
        },
        "id": "d4lNOEBkrKj5",
        "outputId": "984e024e-34f9-48dd-aeca-783c09a77f83"
      },
      "outputs": [
        {
          "output_type": "stream",
          "name": "stdout",
          "text": [
            "-\n",
            "inputs: integer tensor of shape (samples, max_length)\n",
            "inputs_train shape: (10000, 14)\n",
            "inputs_test shape: (1000, 14)\n",
            "-\n",
            "queries: integer tensor of shape (samples, max_length)\n",
            "queries_train shape: (10000, 4)\n",
            "queries_test shape: (1000, 4)\n",
            "-\n",
            "answers: binary (1 or 0) tensor of shape (samples, vocab_size)\n",
            "answers_train shape: (10000, 22)\n",
            "answers_test shape: (1000, 22)\n",
            "-\n",
            "Compiling...\n"
          ]
        }
      ],
      "source": [
        "print('-')\n",
        "print('inputs: integer tensor of shape (samples, max_length)')\n",
        "print('inputs_train shape:', inputs_train.shape)\n",
        "print('inputs_test shape:', inputs_test.shape)\n",
        "print('-')\n",
        "print('queries: integer tensor of shape (samples, max_length)')\n",
        "print('queries_train shape:', queries_train.shape)\n",
        "print('queries_test shape:', queries_test.shape)\n",
        "print('-')\n",
        "print('answers: binary (1 or 0) tensor of shape (samples, vocab_size)')\n",
        "print('answers_train shape:', answers_train.shape)\n",
        "print('answers_test shape:', answers_test.shape)\n",
        "print('-')\n",
        "print('Compiling...')\n"
      ]
    },
    {
      "cell_type": "markdown",
      "metadata": {
        "id": "tvyawLqgfz_N"
      },
      "source": [
        "In this part you should implement 2 functions which illustrate the procedure of learning, Loss and Accuracy. These functions take two inputs: \n",
        "* The history of your designed model \n",
        "* Proper title for describing the plot"
      ]
    },
    {
      "cell_type": "code",
      "execution_count": 17,
      "metadata": {
        "id": "g8Ya5e3e3OWG"
      },
      "outputs": [],
      "source": [
        "def plot_acc(history, title):\n",
        "  \n",
        "  # This function should show not only the plot of accuracy on training and validation set\n",
        "  # but also it should show the maximum value of accuracy with its related epoch.\n",
        "  ########################################\n",
        "  #     Put your implementation here     #\n",
        "  ########################################\n",
        "\n",
        "  with plt.style.context('ggplot'): #ggplot is good for visualization\n",
        "    fig, ax = plt.subplots(1, 1, figsize=(10, 8))\n",
        "\n",
        "    ax.plot(history.history['val_accuracy'], label='val_acc')\n",
        "    ax.plot(history.history['accuracy'], label='acc')\n",
        "    ax.legend()\n"
      ]
    },
    {
      "cell_type": "code",
      "execution_count": 18,
      "metadata": {
        "id": "pA9BBcEP3Hym"
      },
      "outputs": [],
      "source": [
        "def plot_loss(history, title):\n",
        "  \n",
        "  # This function should show not only the plot of loss on training and validation set\n",
        "  # but also it should show the minimum value of loss with its related epoch.\n",
        "  ########################################\n",
        "  #     Put your implementation here     #\n",
        "  ########################################\n",
        "\n",
        "  with plt.style.context('ggplot'): #ggplot is good for visualization\n",
        "    fig, ax = plt.subplots(1, 1, figsize=(10, 8))\n",
        "\n",
        "    ax.plot(history.history['val_loss'], label='val_loss')\n",
        "    ax.plot(history.history['loss'], label='loss')\n",
        "    ax.legend()"
      ]
    },
    {
      "cell_type": "markdown",
      "metadata": {
        "id": "cMxMeM78xBT8"
      },
      "source": [
        "Define model's hyperparameters"
      ]
    },
    {
      "cell_type": "code",
      "execution_count": 19,
      "metadata": {
        "id": "p6-mw90LrKj9"
      },
      "outputs": [],
      "source": [
        "train_epochs = 10\n",
        "batch_size = 32\n",
        "lstm_size = 64"
      ]
    },
    {
      "cell_type": "markdown",
      "metadata": {
        "id": "4G5X8ksgrKkA"
      },
      "source": [
        "## 1.4 Implementstion:"
      ]
    },
    {
      "cell_type": "markdown",
      "metadata": {
        "id": "ayB5NMoI-Sh-"
      },
      "source": [
        "Let's build the model. You should use Keras framework. The summary and outview of the right model is saved in the next cells to help you create the proper model faster.\n"
      ]
    },
    {
      "cell_type": "code",
      "execution_count": 20,
      "metadata": {
        "colab": {
          "base_uri": "https://localhost:8080/"
        },
        "id": "2UNREQ9rrKkB",
        "outputId": "a364c5aa-2c7b-428b-e392-e78d5e5a3f1b"
      },
      "outputs": [
        {
          "output_type": "stream",
          "name": "stdout",
          "text": [
            "Input sequence: KerasTensor(type_spec=TensorSpec(shape=(None, 14), dtype=tf.float32, name='input_1'), name='input_1', description=\"created by layer 'input_1'\")\n",
            "Question: KerasTensor(type_spec=TensorSpec(shape=(None, 4), dtype=tf.float32, name='input_2'), name='input_2', description=\"created by layer 'input_2'\")\n"
          ]
        }
      ],
      "source": [
        "# define the model: \n",
        "\n",
        "input_sequence = tf.keras.layers.Input((story_maxlen,))\n",
        "question = tf.keras.layers.Input((query_maxlen,))\n",
        "\n",
        "print('Input sequence:', input_sequence)\n",
        "print('Question:', question)\n",
        "\n",
        "########################################\n",
        "#     Put your implementation here     #\n",
        "########################################\n",
        "\n",
        "input_1 = tf.keras.Sequential(\n",
        "    [\n",
        "      tf.keras.layers.Embedding(input_dim=vocab_size, output_dim=64),\n",
        "      tf.keras.layers.Dropout(0.3)\n",
        "    ]\n",
        ")\n",
        "input_1 = input_1(input_sequence)\n",
        "\n",
        "input_2 = tf.keras.Sequential(\n",
        "    [\n",
        "      tf.keras.layers.Embedding(input_dim=vocab_size, output_dim=query_maxlen),\n",
        "      tf.keras.layers.Dropout(0.3)\n",
        "    ]\n",
        ")\n",
        "input_2 = input_2(input_sequence)\n",
        "\n",
        "question_layer = tf.keras.Sequential(\n",
        "    [\n",
        "      tf.keras.layers.Embedding(input_dim=vocab_size, output_dim=64, input_length=query_maxlen),\n",
        "      tf.keras.layers.Dropout(0.3)\n",
        "    ]\n",
        ")\n",
        "question_layer = question_layer(question)\n",
        "\n",
        "dot_result = tf.keras.layers.dot([input_1, question_layer], axes=(2, 2))\n",
        "\n",
        "match = tf.keras.layers.Activation('softmax')(dot_result)\n",
        "\n",
        "adding_layers = tf.keras.layers.add([match, input_2])\n",
        "\n",
        "adding_layers = tf.keras.layers.Permute((2, 1))(adding_layers)\n",
        "\n",
        "answer = tf.keras.layers.concatenate([adding_layers, question_layer])\n",
        "\n",
        "answer = tf.keras.layers.LSTM(32)(answer)\n",
        "\n",
        "answer = tf.keras.layers.Dropout(0.3)(answer)\n",
        "\n",
        "answer = tf.keras.layers.Dense(vocab_size)(answer)\n",
        "\n",
        "answer = tf.keras.layers.Activation('softmax')(answer)\n"
      ]
    },
    {
      "cell_type": "code",
      "execution_count": 21,
      "metadata": {
        "id": "WUvfDiLkrKkF"
      },
      "outputs": [],
      "source": [
        "# build the final model\n",
        "model = tf.keras.models.Model([input_sequence, question], answer)\n",
        "model.compile(optimizer='rmsprop', loss='categorical_crossentropy',\n",
        "              metrics=['accuracy'])"
      ]
    },
    {
      "cell_type": "markdown",
      "metadata": {
        "id": "UFqPorzN_9Lv"
      },
      "source": [
        "The model architecture should look like this:"
      ]
    },
    {
      "cell_type": "code",
      "execution_count": 22,
      "metadata": {
        "colab": {
          "base_uri": "https://localhost:8080/",
          "height": 1000
        },
        "id": "aX6c1qWQ0iMX",
        "outputId": "713f4337-92d5-4460-c6d5-be8fc2cc800c"
      },
      "outputs": [
        {
          "output_type": "execute_result",
          "data": {
            "text/plain": [
              "<IPython.core.display.SVG object>"
            ],
            "image/svg+xml": "<svg height=\"737pt\" viewBox=\"0.00 0.00 876.00 885.00\" width=\"730pt\" xmlns=\"http://www.w3.org/2000/svg\" xmlns:xlink=\"http://www.w3.org/1999/xlink\">\n<g class=\"graph\" id=\"graph0\" transform=\"scale(.8333 .8333) rotate(0) translate(4 881)\">\n<title>G</title>\n<polygon fill=\"#ffffff\" points=\"-4,4 -4,-881 872,-881 872,4 -4,4\" stroke=\"transparent\"/>\n<!-- 139838966263440 -->\n<g class=\"node\" id=\"node1\">\n<title>139838966263440</title>\n<polygon fill=\"none\" points=\"125,-830.5 125,-876.5 414,-876.5 414,-830.5 125,-830.5\" stroke=\"#000000\"/>\n<text fill=\"#000000\" font-family=\"Times,serif\" font-size=\"14.00\" text-anchor=\"middle\" x=\"156\" y=\"-849.8\">input_1</text>\n<polyline fill=\"none\" points=\"187,-830.5 187,-876.5 \" stroke=\"#000000\"/>\n<text fill=\"#000000\" font-family=\"Times,serif\" font-size=\"14.00\" text-anchor=\"middle\" x=\"227\" y=\"-849.8\">InputLayer</text>\n<polyline fill=\"none\" points=\"267,-830.5 267,-876.5 \" stroke=\"#000000\"/>\n<text fill=\"#000000\" font-family=\"Times,serif\" font-size=\"14.00\" text-anchor=\"middle\" x=\"296\" y=\"-861.3\">input:</text>\n<polyline fill=\"none\" points=\"267,-853.5 325,-853.5 \" stroke=\"#000000\"/>\n<text fill=\"#000000\" font-family=\"Times,serif\" font-size=\"14.00\" text-anchor=\"middle\" x=\"296\" y=\"-838.3\">output:</text>\n<polyline fill=\"none\" points=\"325,-830.5 325,-876.5 \" stroke=\"#000000\"/>\n<text fill=\"#000000\" font-family=\"Times,serif\" font-size=\"14.00\" text-anchor=\"middle\" x=\"369.5\" y=\"-861.3\">[(None, 14)]</text>\n<polyline fill=\"none\" points=\"325,-853.5 414,-853.5 \" stroke=\"#000000\"/>\n<text fill=\"#000000\" font-family=\"Times,serif\" font-size=\"14.00\" text-anchor=\"middle\" x=\"369.5\" y=\"-838.3\">[(None, 14)]</text>\n</g>\n<!-- 139838966290320 -->\n<g class=\"node\" id=\"node3\">\n<title>139838966290320</title>\n<polygon fill=\"none\" points=\"201.5,-747.5 201.5,-793.5 529.5,-793.5 529.5,-747.5 201.5,-747.5\" stroke=\"#000000\"/>\n<text fill=\"#000000\" font-family=\"Times,serif\" font-size=\"14.00\" text-anchor=\"middle\" x=\"238.5\" y=\"-766.8\">sequential</text>\n<polyline fill=\"none\" points=\"275.5,-747.5 275.5,-793.5 \" stroke=\"#000000\"/>\n<text fill=\"#000000\" font-family=\"Times,serif\" font-size=\"14.00\" text-anchor=\"middle\" x=\"314\" y=\"-766.8\">Sequential</text>\n<polyline fill=\"none\" points=\"352.5,-747.5 352.5,-793.5 \" stroke=\"#000000\"/>\n<text fill=\"#000000\" font-family=\"Times,serif\" font-size=\"14.00\" text-anchor=\"middle\" x=\"381.5\" y=\"-778.3\">input:</text>\n<polyline fill=\"none\" points=\"352.5,-770.5 410.5,-770.5 \" stroke=\"#000000\"/>\n<text fill=\"#000000\" font-family=\"Times,serif\" font-size=\"14.00\" text-anchor=\"middle\" x=\"381.5\" y=\"-755.3\">output:</text>\n<polyline fill=\"none\" points=\"410.5,-747.5 410.5,-793.5 \" stroke=\"#000000\"/>\n<text fill=\"#000000\" font-family=\"Times,serif\" font-size=\"14.00\" text-anchor=\"middle\" x=\"470\" y=\"-778.3\">(None, None)</text>\n<polyline fill=\"none\" points=\"410.5,-770.5 529.5,-770.5 \" stroke=\"#000000\"/>\n<text fill=\"#000000\" font-family=\"Times,serif\" font-size=\"14.00\" text-anchor=\"middle\" x=\"470\" y=\"-755.3\">(None, None, 64)</text>\n</g>\n<!-- 139838966263440&#45;&gt;139838966290320 -->\n<g class=\"edge\" id=\"edge1\">\n<title>139838966263440-&gt;139838966290320</title>\n<path d=\"M296.2414,-830.3799C306.9697,-821.1043 319.4737,-810.2936 330.8817,-800.4304\" fill=\"none\" stroke=\"#000000\"/>\n<polygon fill=\"#000000\" points=\"333.2935,-802.972 338.5691,-793.784 328.7153,-797.6767 333.2935,-802.972\" stroke=\"#000000\"/>\n</g>\n<!-- 139838966352784 -->\n<g class=\"node\" id=\"node7\">\n<title>139838966352784</title>\n<polygon fill=\"none\" points=\"0,-664.5 0,-710.5 335,-710.5 335,-664.5 0,-664.5\" stroke=\"#000000\"/>\n<text fill=\"#000000\" font-family=\"Times,serif\" font-size=\"14.00\" text-anchor=\"middle\" x=\"44.5\" y=\"-683.8\">sequential_1</text>\n<polyline fill=\"none\" points=\"89,-664.5 89,-710.5 \" stroke=\"#000000\"/>\n<text fill=\"#000000\" font-family=\"Times,serif\" font-size=\"14.00\" text-anchor=\"middle\" x=\"127.5\" y=\"-683.8\">Sequential</text>\n<polyline fill=\"none\" points=\"166,-664.5 166,-710.5 \" stroke=\"#000000\"/>\n<text fill=\"#000000\" font-family=\"Times,serif\" font-size=\"14.00\" text-anchor=\"middle\" x=\"195\" y=\"-695.3\">input:</text>\n<polyline fill=\"none\" points=\"166,-687.5 224,-687.5 \" stroke=\"#000000\"/>\n<text fill=\"#000000\" font-family=\"Times,serif\" font-size=\"14.00\" text-anchor=\"middle\" x=\"195\" y=\"-672.3\">output:</text>\n<polyline fill=\"none\" points=\"224,-664.5 224,-710.5 \" stroke=\"#000000\"/>\n<text fill=\"#000000\" font-family=\"Times,serif\" font-size=\"14.00\" text-anchor=\"middle\" x=\"279.5\" y=\"-695.3\">(None, None)</text>\n<polyline fill=\"none\" points=\"224,-687.5 335,-687.5 \" stroke=\"#000000\"/>\n<text fill=\"#000000\" font-family=\"Times,serif\" font-size=\"14.00\" text-anchor=\"middle\" x=\"279.5\" y=\"-672.3\">(None, None, 4)</text>\n</g>\n<!-- 139838966263440&#45;&gt;139838966352784 -->\n<g class=\"edge\" id=\"edge6\">\n<title>139838966263440-&gt;139838966352784</title>\n<path d=\"M229.153,-830.2576C215.6657,-820.6377 201.7327,-808.3494 192.5,-794 178.3942,-772.077 172.2277,-743.0458 169.5419,-720.8316\" fill=\"none\" stroke=\"#000000\"/>\n<polygon fill=\"#000000\" points=\"173.0195,-720.4329 168.5101,-710.8456 166.0565,-721.1524 173.0195,-720.4329\" stroke=\"#000000\"/>\n</g>\n<!-- 139838966208784 -->\n<g class=\"node\" id=\"node2\">\n<title>139838966208784</title>\n<polygon fill=\"none\" points=\"568,-830.5 568,-876.5 849,-876.5 849,-830.5 568,-830.5\" stroke=\"#000000\"/>\n<text fill=\"#000000\" font-family=\"Times,serif\" font-size=\"14.00\" text-anchor=\"middle\" x=\"599\" y=\"-849.8\">input_2</text>\n<polyline fill=\"none\" points=\"630,-830.5 630,-876.5 \" stroke=\"#000000\"/>\n<text fill=\"#000000\" font-family=\"Times,serif\" font-size=\"14.00\" text-anchor=\"middle\" x=\"670\" y=\"-849.8\">InputLayer</text>\n<polyline fill=\"none\" points=\"710,-830.5 710,-876.5 \" stroke=\"#000000\"/>\n<text fill=\"#000000\" font-family=\"Times,serif\" font-size=\"14.00\" text-anchor=\"middle\" x=\"739\" y=\"-861.3\">input:</text>\n<polyline fill=\"none\" points=\"710,-853.5 768,-853.5 \" stroke=\"#000000\"/>\n<text fill=\"#000000\" font-family=\"Times,serif\" font-size=\"14.00\" text-anchor=\"middle\" x=\"739\" y=\"-838.3\">output:</text>\n<polyline fill=\"none\" points=\"768,-830.5 768,-876.5 \" stroke=\"#000000\"/>\n<text fill=\"#000000\" font-family=\"Times,serif\" font-size=\"14.00\" text-anchor=\"middle\" x=\"808.5\" y=\"-861.3\">[(None, 4)]</text>\n<polyline fill=\"none\" points=\"768,-853.5 849,-853.5 \" stroke=\"#000000\"/>\n<text fill=\"#000000\" font-family=\"Times,serif\" font-size=\"14.00\" text-anchor=\"middle\" x=\"808.5\" y=\"-838.3\">[(None, 4)]</text>\n</g>\n<!-- 139838966381456 -->\n<g class=\"node\" id=\"node4\">\n<title>139838966381456</title>\n<polygon fill=\"none\" points=\"549,-747.5 549,-793.5 868,-793.5 868,-747.5 549,-747.5\" stroke=\"#000000\"/>\n<text fill=\"#000000\" font-family=\"Times,serif\" font-size=\"14.00\" text-anchor=\"middle\" x=\"593.5\" y=\"-766.8\">sequential_2</text>\n<polyline fill=\"none\" points=\"638,-747.5 638,-793.5 \" stroke=\"#000000\"/>\n<text fill=\"#000000\" font-family=\"Times,serif\" font-size=\"14.00\" text-anchor=\"middle\" x=\"676.5\" y=\"-766.8\">Sequential</text>\n<polyline fill=\"none\" points=\"715,-747.5 715,-793.5 \" stroke=\"#000000\"/>\n<text fill=\"#000000\" font-family=\"Times,serif\" font-size=\"14.00\" text-anchor=\"middle\" x=\"744\" y=\"-778.3\">input:</text>\n<polyline fill=\"none\" points=\"715,-770.5 773,-770.5 \" stroke=\"#000000\"/>\n<text fill=\"#000000\" font-family=\"Times,serif\" font-size=\"14.00\" text-anchor=\"middle\" x=\"744\" y=\"-755.3\">output:</text>\n<polyline fill=\"none\" points=\"773,-747.5 773,-793.5 \" stroke=\"#000000\"/>\n<text fill=\"#000000\" font-family=\"Times,serif\" font-size=\"14.00\" text-anchor=\"middle\" x=\"820.5\" y=\"-778.3\">(None, 4)</text>\n<polyline fill=\"none\" points=\"773,-770.5 868,-770.5 \" stroke=\"#000000\"/>\n<text fill=\"#000000\" font-family=\"Times,serif\" font-size=\"14.00\" text-anchor=\"middle\" x=\"820.5\" y=\"-755.3\">(None, 4, 64)</text>\n</g>\n<!-- 139838966208784&#45;&gt;139838966381456 -->\n<g class=\"edge\" id=\"edge2\">\n<title>139838966208784-&gt;139838966381456</title>\n<path d=\"M708.5,-830.3799C708.5,-822.1745 708.5,-812.7679 708.5,-803.8786\" fill=\"none\" stroke=\"#000000\"/>\n<polygon fill=\"#000000\" points=\"712.0001,-803.784 708.5,-793.784 705.0001,-803.784 712.0001,-803.784\" stroke=\"#000000\"/>\n</g>\n<!-- 139838966367568 -->\n<g class=\"node\" id=\"node5\">\n<title>139838966367568</title>\n<polygon fill=\"none\" points=\"353.5,-664.5 353.5,-710.5 681.5,-710.5 681.5,-664.5 353.5,-664.5\" stroke=\"#000000\"/>\n<text fill=\"#000000\" font-family=\"Times,serif\" font-size=\"14.00\" text-anchor=\"middle\" x=\"371\" y=\"-683.8\">dot</text>\n<polyline fill=\"none\" points=\"388.5,-664.5 388.5,-710.5 \" stroke=\"#000000\"/>\n<text fill=\"#000000\" font-family=\"Times,serif\" font-size=\"14.00\" text-anchor=\"middle\" x=\"407.5\" y=\"-683.8\">Dot</text>\n<polyline fill=\"none\" points=\"426.5,-664.5 426.5,-710.5 \" stroke=\"#000000\"/>\n<text fill=\"#000000\" font-family=\"Times,serif\" font-size=\"14.00\" text-anchor=\"middle\" x=\"455.5\" y=\"-695.3\">input:</text>\n<polyline fill=\"none\" points=\"426.5,-687.5 484.5,-687.5 \" stroke=\"#000000\"/>\n<text fill=\"#000000\" font-family=\"Times,serif\" font-size=\"14.00\" text-anchor=\"middle\" x=\"455.5\" y=\"-672.3\">output:</text>\n<polyline fill=\"none\" points=\"484.5,-664.5 484.5,-710.5 \" stroke=\"#000000\"/>\n<text fill=\"#000000\" font-family=\"Times,serif\" font-size=\"14.00\" text-anchor=\"middle\" x=\"583\" y=\"-695.3\">[(None, 14, 64), (None, 4, 64)]</text>\n<polyline fill=\"none\" points=\"484.5,-687.5 681.5,-687.5 \" stroke=\"#000000\"/>\n<text fill=\"#000000\" font-family=\"Times,serif\" font-size=\"14.00\" text-anchor=\"middle\" x=\"583\" y=\"-672.3\">(None, 14, 4)</text>\n</g>\n<!-- 139838966290320&#45;&gt;139838966367568 -->\n<g class=\"edge\" id=\"edge3\">\n<title>139838966290320-&gt;139838966367568</title>\n<path d=\"M407.8405,-747.3799C425.9646,-737.4832 447.2892,-725.8388 466.2916,-715.4625\" fill=\"none\" stroke=\"#000000\"/>\n<polygon fill=\"#000000\" points=\"468.0239,-718.5044 475.1232,-710.6399 464.6691,-712.3607 468.0239,-718.5044\" stroke=\"#000000\"/>\n</g>\n<!-- 139838966381456&#45;&gt;139838966367568 -->\n<g class=\"edge\" id=\"edge4\">\n<title>139838966381456-&gt;139838966367568</title>\n<path d=\"M655.5495,-747.4901C632.0547,-737.2803 604.2411,-725.1938 579.7579,-714.5545\" fill=\"none\" stroke=\"#000000\"/>\n<polygon fill=\"#000000\" points=\"581.1199,-711.3302 570.5535,-710.5547 578.33,-717.7502 581.1199,-711.3302\" stroke=\"#000000\"/>\n</g>\n<!-- 139838965935184 -->\n<g class=\"node\" id=\"node10\">\n<title>139838965935184</title>\n<polygon fill=\"none\" points=\"405.5,-332.5 405.5,-378.5 821.5,-378.5 821.5,-332.5 405.5,-332.5\" stroke=\"#000000\"/>\n<text fill=\"#000000\" font-family=\"Times,serif\" font-size=\"14.00\" text-anchor=\"middle\" x=\"447\" y=\"-351.8\">concatenate</text>\n<polyline fill=\"none\" points=\"488.5,-332.5 488.5,-378.5 \" stroke=\"#000000\"/>\n<text fill=\"#000000\" font-family=\"Times,serif\" font-size=\"14.00\" text-anchor=\"middle\" x=\"531.5\" y=\"-351.8\">Concatenate</text>\n<polyline fill=\"none\" points=\"574.5,-332.5 574.5,-378.5 \" stroke=\"#000000\"/>\n<text fill=\"#000000\" font-family=\"Times,serif\" font-size=\"14.00\" text-anchor=\"middle\" x=\"603.5\" y=\"-363.3\">input:</text>\n<polyline fill=\"none\" points=\"574.5,-355.5 632.5,-355.5 \" stroke=\"#000000\"/>\n<text fill=\"#000000\" font-family=\"Times,serif\" font-size=\"14.00\" text-anchor=\"middle\" x=\"603.5\" y=\"-340.3\">output:</text>\n<polyline fill=\"none\" points=\"632.5,-332.5 632.5,-378.5 \" stroke=\"#000000\"/>\n<text fill=\"#000000\" font-family=\"Times,serif\" font-size=\"14.00\" text-anchor=\"middle\" x=\"727\" y=\"-363.3\">[(None, 4, 14), (None, 4, 64)]</text>\n<polyline fill=\"none\" points=\"632.5,-355.5 821.5,-355.5 \" stroke=\"#000000\"/>\n<text fill=\"#000000\" font-family=\"Times,serif\" font-size=\"14.00\" text-anchor=\"middle\" x=\"727\" y=\"-340.3\">(None, 4, 78)</text>\n</g>\n<!-- 139838966381456&#45;&gt;139838965935184 -->\n<g class=\"edge\" id=\"edge11\">\n<title>139838966381456-&gt;139838965935184</title>\n<path d=\"M708.7269,-747.4055C709.022,-715.3386 709.5,-655.5113 709.5,-604.5 709.5,-604.5 709.5,-604.5 709.5,-521.5 709.5,-472.2022 704.5358,-456.8618 678.5,-415 671.742,-404.1342 662.4615,-394.0171 653.0281,-385.3194\" fill=\"none\" stroke=\"#000000\"/>\n<polygon fill=\"#000000\" points=\"655.2911,-382.6485 645.4752,-378.6612 650.6621,-387.8995 655.2911,-382.6485\" stroke=\"#000000\"/>\n</g>\n<!-- 139838969185424 -->\n<g class=\"node\" id=\"node6\">\n<title>139838969185424</title>\n<polygon fill=\"none\" points=\"366.5,-581.5 366.5,-627.5 668.5,-627.5 668.5,-581.5 366.5,-581.5\" stroke=\"#000000\"/>\n<text fill=\"#000000\" font-family=\"Times,serif\" font-size=\"14.00\" text-anchor=\"middle\" x=\"402.5\" y=\"-600.8\">activation</text>\n<polyline fill=\"none\" points=\"438.5,-581.5 438.5,-627.5 \" stroke=\"#000000\"/>\n<text fill=\"#000000\" font-family=\"Times,serif\" font-size=\"14.00\" text-anchor=\"middle\" x=\"477\" y=\"-600.8\">Activation</text>\n<polyline fill=\"none\" points=\"515.5,-581.5 515.5,-627.5 \" stroke=\"#000000\"/>\n<text fill=\"#000000\" font-family=\"Times,serif\" font-size=\"14.00\" text-anchor=\"middle\" x=\"544.5\" y=\"-612.3\">input:</text>\n<polyline fill=\"none\" points=\"515.5,-604.5 573.5,-604.5 \" stroke=\"#000000\"/>\n<text fill=\"#000000\" font-family=\"Times,serif\" font-size=\"14.00\" text-anchor=\"middle\" x=\"544.5\" y=\"-589.3\">output:</text>\n<polyline fill=\"none\" points=\"573.5,-581.5 573.5,-627.5 \" stroke=\"#000000\"/>\n<text fill=\"#000000\" font-family=\"Times,serif\" font-size=\"14.00\" text-anchor=\"middle\" x=\"621\" y=\"-612.3\">(None, 14, 4)</text>\n<polyline fill=\"none\" points=\"573.5,-604.5 668.5,-604.5 \" stroke=\"#000000\"/>\n<text fill=\"#000000\" font-family=\"Times,serif\" font-size=\"14.00\" text-anchor=\"middle\" x=\"621\" y=\"-589.3\">(None, 14, 4)</text>\n</g>\n<!-- 139838966367568&#45;&gt;139838969185424 -->\n<g class=\"edge\" id=\"edge5\">\n<title>139838966367568-&gt;139838969185424</title>\n<path d=\"M517.5,-664.3799C517.5,-656.1745 517.5,-646.7679 517.5,-637.8786\" fill=\"none\" stroke=\"#000000\"/>\n<polygon fill=\"#000000\" points=\"521.0001,-637.784 517.5,-627.784 514.0001,-637.784 521.0001,-637.784\" stroke=\"#000000\"/>\n</g>\n<!-- 139838969124048 -->\n<g class=\"node\" id=\"node8\">\n<title>139838969124048</title>\n<polygon fill=\"none\" points=\"354,-498.5 354,-544.5 681,-544.5 681,-498.5 354,-498.5\" stroke=\"#000000\"/>\n<text fill=\"#000000\" font-family=\"Times,serif\" font-size=\"14.00\" text-anchor=\"middle\" x=\"373\" y=\"-517.8\">add</text>\n<polyline fill=\"none\" points=\"392,-498.5 392,-544.5 \" stroke=\"#000000\"/>\n<text fill=\"#000000\" font-family=\"Times,serif\" font-size=\"14.00\" text-anchor=\"middle\" x=\"413\" y=\"-517.8\">Add</text>\n<polyline fill=\"none\" points=\"434,-498.5 434,-544.5 \" stroke=\"#000000\"/>\n<text fill=\"#000000\" font-family=\"Times,serif\" font-size=\"14.00\" text-anchor=\"middle\" x=\"463\" y=\"-529.3\">input:</text>\n<polyline fill=\"none\" points=\"434,-521.5 492,-521.5 \" stroke=\"#000000\"/>\n<text fill=\"#000000\" font-family=\"Times,serif\" font-size=\"14.00\" text-anchor=\"middle\" x=\"463\" y=\"-506.3\">output:</text>\n<polyline fill=\"none\" points=\"492,-498.5 492,-544.5 \" stroke=\"#000000\"/>\n<text fill=\"#000000\" font-family=\"Times,serif\" font-size=\"14.00\" text-anchor=\"middle\" x=\"586.5\" y=\"-529.3\">[(None, 14, 4), (None, 14, 4)]</text>\n<polyline fill=\"none\" points=\"492,-521.5 681,-521.5 \" stroke=\"#000000\"/>\n<text fill=\"#000000\" font-family=\"Times,serif\" font-size=\"14.00\" text-anchor=\"middle\" x=\"586.5\" y=\"-506.3\">(None, 14, 4)</text>\n</g>\n<!-- 139838969185424&#45;&gt;139838969124048 -->\n<g class=\"edge\" id=\"edge7\">\n<title>139838969185424-&gt;139838969124048</title>\n<path d=\"M517.5,-581.3799C517.5,-573.1745 517.5,-563.7679 517.5,-554.8786\" fill=\"none\" stroke=\"#000000\"/>\n<polygon fill=\"#000000\" points=\"521.0001,-554.784 517.5,-544.784 514.0001,-554.784 521.0001,-554.784\" stroke=\"#000000\"/>\n</g>\n<!-- 139838966352784&#45;&gt;139838969124048 -->\n<g class=\"edge\" id=\"edge8\">\n<title>139838966352784-&gt;139838969124048</title>\n<path d=\"M204.8065,-664.3088C242.4783,-641.4405 302.7636,-606.3328 357.5,-581 383.4899,-568.9715 412.6565,-557.546 438.8984,-547.9821\" fill=\"none\" stroke=\"#000000\"/>\n<polygon fill=\"#000000\" points=\"440.2045,-551.2318 448.4228,-544.5452 437.8285,-544.6474 440.2045,-551.2318\" stroke=\"#000000\"/>\n</g>\n<!-- 139838966280656 -->\n<g class=\"node\" id=\"node9\">\n<title>139838966280656</title>\n<polygon fill=\"none\" points=\"389.5,-415.5 389.5,-461.5 669.5,-461.5 669.5,-415.5 389.5,-415.5\" stroke=\"#000000\"/>\n<text fill=\"#000000\" font-family=\"Times,serif\" font-size=\"14.00\" text-anchor=\"middle\" x=\"421\" y=\"-434.8\">permute</text>\n<polyline fill=\"none\" points=\"452.5,-415.5 452.5,-461.5 \" stroke=\"#000000\"/>\n<text fill=\"#000000\" font-family=\"Times,serif\" font-size=\"14.00\" text-anchor=\"middle\" x=\"484.5\" y=\"-434.8\">Permute</text>\n<polyline fill=\"none\" points=\"516.5,-415.5 516.5,-461.5 \" stroke=\"#000000\"/>\n<text fill=\"#000000\" font-family=\"Times,serif\" font-size=\"14.00\" text-anchor=\"middle\" x=\"545.5\" y=\"-446.3\">input:</text>\n<polyline fill=\"none\" points=\"516.5,-438.5 574.5,-438.5 \" stroke=\"#000000\"/>\n<text fill=\"#000000\" font-family=\"Times,serif\" font-size=\"14.00\" text-anchor=\"middle\" x=\"545.5\" y=\"-423.3\">output:</text>\n<polyline fill=\"none\" points=\"574.5,-415.5 574.5,-461.5 \" stroke=\"#000000\"/>\n<text fill=\"#000000\" font-family=\"Times,serif\" font-size=\"14.00\" text-anchor=\"middle\" x=\"622\" y=\"-446.3\">(None, 14, 4)</text>\n<polyline fill=\"none\" points=\"574.5,-438.5 669.5,-438.5 \" stroke=\"#000000\"/>\n<text fill=\"#000000\" font-family=\"Times,serif\" font-size=\"14.00\" text-anchor=\"middle\" x=\"622\" y=\"-423.3\">(None, 4, 14)</text>\n</g>\n<!-- 139838969124048&#45;&gt;139838966280656 -->\n<g class=\"edge\" id=\"edge9\">\n<title>139838969124048-&gt;139838966280656</title>\n<path d=\"M520.8427,-498.3799C522.029,-490.1745 523.389,-480.7679 524.6742,-471.8786\" fill=\"none\" stroke=\"#000000\"/>\n<polygon fill=\"#000000\" points=\"528.1666,-472.1819 526.1336,-461.784 521.2387,-471.1803 528.1666,-472.1819\" stroke=\"#000000\"/>\n</g>\n<!-- 139838966280656&#45;&gt;139838965935184 -->\n<g class=\"edge\" id=\"edge10\">\n<title>139838966280656-&gt;139838965935184</title>\n<path d=\"M552.8987,-415.3799C562.1055,-406.2827 572.8068,-395.7088 582.632,-386.0005\" fill=\"none\" stroke=\"#000000\"/>\n<polygon fill=\"#000000\" points=\"585.2822,-388.3023 589.9355,-378.784 580.3621,-383.323 585.2822,-388.3023\" stroke=\"#000000\"/>\n</g>\n<!-- 139838965934736 -->\n<g class=\"node\" id=\"node11\">\n<title>139838965934736</title>\n<polygon fill=\"none\" points=\"488.5,-249.5 488.5,-295.5 738.5,-295.5 738.5,-249.5 488.5,-249.5\" stroke=\"#000000\"/>\n<text fill=\"#000000\" font-family=\"Times,serif\" font-size=\"14.00\" text-anchor=\"middle\" x=\"509\" y=\"-268.8\">lstm</text>\n<polyline fill=\"none\" points=\"529.5,-249.5 529.5,-295.5 \" stroke=\"#000000\"/>\n<text fill=\"#000000\" font-family=\"Times,serif\" font-size=\"14.00\" text-anchor=\"middle\" x=\"557.5\" y=\"-268.8\">LSTM</text>\n<polyline fill=\"none\" points=\"585.5,-249.5 585.5,-295.5 \" stroke=\"#000000\"/>\n<text fill=\"#000000\" font-family=\"Times,serif\" font-size=\"14.00\" text-anchor=\"middle\" x=\"614.5\" y=\"-280.3\">input:</text>\n<polyline fill=\"none\" points=\"585.5,-272.5 643.5,-272.5 \" stroke=\"#000000\"/>\n<text fill=\"#000000\" font-family=\"Times,serif\" font-size=\"14.00\" text-anchor=\"middle\" x=\"614.5\" y=\"-257.3\">output:</text>\n<polyline fill=\"none\" points=\"643.5,-249.5 643.5,-295.5 \" stroke=\"#000000\"/>\n<text fill=\"#000000\" font-family=\"Times,serif\" font-size=\"14.00\" text-anchor=\"middle\" x=\"691\" y=\"-280.3\">(None, 4, 78)</text>\n<polyline fill=\"none\" points=\"643.5,-272.5 738.5,-272.5 \" stroke=\"#000000\"/>\n<text fill=\"#000000\" font-family=\"Times,serif\" font-size=\"14.00\" text-anchor=\"middle\" x=\"691\" y=\"-257.3\">(None, 32)</text>\n</g>\n<!-- 139838965935184&#45;&gt;139838965934736 -->\n<g class=\"edge\" id=\"edge12\">\n<title>139838965935184-&gt;139838965934736</title>\n<path d=\"M613.5,-332.3799C613.5,-324.1745 613.5,-314.7679 613.5,-305.8786\" fill=\"none\" stroke=\"#000000\"/>\n<polygon fill=\"#000000\" points=\"617.0001,-305.784 613.5,-295.784 610.0001,-305.784 617.0001,-305.784\" stroke=\"#000000\"/>\n</g>\n<!-- 139838966303632 -->\n<g class=\"node\" id=\"node12\">\n<title>139838966303632</title>\n<polygon fill=\"none\" points=\"473.5,-166.5 473.5,-212.5 753.5,-212.5 753.5,-166.5 473.5,-166.5\" stroke=\"#000000\"/>\n<text fill=\"#000000\" font-family=\"Times,serif\" font-size=\"14.00\" text-anchor=\"middle\" x=\"512\" y=\"-185.8\">dropout_3</text>\n<polyline fill=\"none\" points=\"550.5,-166.5 550.5,-212.5 \" stroke=\"#000000\"/>\n<text fill=\"#000000\" font-family=\"Times,serif\" font-size=\"14.00\" text-anchor=\"middle\" x=\"583\" y=\"-185.8\">Dropout</text>\n<polyline fill=\"none\" points=\"615.5,-166.5 615.5,-212.5 \" stroke=\"#000000\"/>\n<text fill=\"#000000\" font-family=\"Times,serif\" font-size=\"14.00\" text-anchor=\"middle\" x=\"644.5\" y=\"-197.3\">input:</text>\n<polyline fill=\"none\" points=\"615.5,-189.5 673.5,-189.5 \" stroke=\"#000000\"/>\n<text fill=\"#000000\" font-family=\"Times,serif\" font-size=\"14.00\" text-anchor=\"middle\" x=\"644.5\" y=\"-174.3\">output:</text>\n<polyline fill=\"none\" points=\"673.5,-166.5 673.5,-212.5 \" stroke=\"#000000\"/>\n<text fill=\"#000000\" font-family=\"Times,serif\" font-size=\"14.00\" text-anchor=\"middle\" x=\"713.5\" y=\"-197.3\">(None, 32)</text>\n<polyline fill=\"none\" points=\"673.5,-189.5 753.5,-189.5 \" stroke=\"#000000\"/>\n<text fill=\"#000000\" font-family=\"Times,serif\" font-size=\"14.00\" text-anchor=\"middle\" x=\"713.5\" y=\"-174.3\">(None, 32)</text>\n</g>\n<!-- 139838965934736&#45;&gt;139838966303632 -->\n<g class=\"edge\" id=\"edge13\">\n<title>139838965934736-&gt;139838966303632</title>\n<path d=\"M613.5,-249.3799C613.5,-241.1745 613.5,-231.7679 613.5,-222.8786\" fill=\"none\" stroke=\"#000000\"/>\n<polygon fill=\"#000000\" points=\"617.0001,-222.784 613.5,-212.784 610.0001,-222.784 617.0001,-222.784\" stroke=\"#000000\"/>\n</g>\n<!-- 139838965917840 -->\n<g class=\"node\" id=\"node13\">\n<title>139838965917840</title>\n<polygon fill=\"none\" points=\"494,-83.5 494,-129.5 733,-129.5 733,-83.5 494,-83.5\" stroke=\"#000000\"/>\n<text fill=\"#000000\" font-family=\"Times,serif\" font-size=\"14.00\" text-anchor=\"middle\" x=\"518.5\" y=\"-102.8\">dense</text>\n<polyline fill=\"none\" points=\"543,-83.5 543,-129.5 \" stroke=\"#000000\"/>\n<text fill=\"#000000\" font-family=\"Times,serif\" font-size=\"14.00\" text-anchor=\"middle\" x=\"569\" y=\"-102.8\">Dense</text>\n<polyline fill=\"none\" points=\"595,-83.5 595,-129.5 \" stroke=\"#000000\"/>\n<text fill=\"#000000\" font-family=\"Times,serif\" font-size=\"14.00\" text-anchor=\"middle\" x=\"624\" y=\"-114.3\">input:</text>\n<polyline fill=\"none\" points=\"595,-106.5 653,-106.5 \" stroke=\"#000000\"/>\n<text fill=\"#000000\" font-family=\"Times,serif\" font-size=\"14.00\" text-anchor=\"middle\" x=\"624\" y=\"-91.3\">output:</text>\n<polyline fill=\"none\" points=\"653,-83.5 653,-129.5 \" stroke=\"#000000\"/>\n<text fill=\"#000000\" font-family=\"Times,serif\" font-size=\"14.00\" text-anchor=\"middle\" x=\"693\" y=\"-114.3\">(None, 32)</text>\n<polyline fill=\"none\" points=\"653,-106.5 733,-106.5 \" stroke=\"#000000\"/>\n<text fill=\"#000000\" font-family=\"Times,serif\" font-size=\"14.00\" text-anchor=\"middle\" x=\"693\" y=\"-91.3\">(None, 22)</text>\n</g>\n<!-- 139838966303632&#45;&gt;139838965917840 -->\n<g class=\"edge\" id=\"edge14\">\n<title>139838966303632-&gt;139838965917840</title>\n<path d=\"M613.5,-166.3799C613.5,-158.1745 613.5,-148.7679 613.5,-139.8786\" fill=\"none\" stroke=\"#000000\"/>\n<polygon fill=\"#000000\" points=\"617.0001,-139.784 613.5,-129.784 610.0001,-139.784 617.0001,-139.784\" stroke=\"#000000\"/>\n</g>\n<!-- 139838965682000 -->\n<g class=\"node\" id=\"node14\">\n<title>139838965682000</title>\n<polygon fill=\"none\" points=\"462.5,-.5 462.5,-46.5 764.5,-46.5 764.5,-.5 462.5,-.5\" stroke=\"#000000\"/>\n<text fill=\"#000000\" font-family=\"Times,serif\" font-size=\"14.00\" text-anchor=\"middle\" x=\"506\" y=\"-19.8\">activation_1</text>\n<polyline fill=\"none\" points=\"549.5,-.5 549.5,-46.5 \" stroke=\"#000000\"/>\n<text fill=\"#000000\" font-family=\"Times,serif\" font-size=\"14.00\" text-anchor=\"middle\" x=\"588\" y=\"-19.8\">Activation</text>\n<polyline fill=\"none\" points=\"626.5,-.5 626.5,-46.5 \" stroke=\"#000000\"/>\n<text fill=\"#000000\" font-family=\"Times,serif\" font-size=\"14.00\" text-anchor=\"middle\" x=\"655.5\" y=\"-31.3\">input:</text>\n<polyline fill=\"none\" points=\"626.5,-23.5 684.5,-23.5 \" stroke=\"#000000\"/>\n<text fill=\"#000000\" font-family=\"Times,serif\" font-size=\"14.00\" text-anchor=\"middle\" x=\"655.5\" y=\"-8.3\">output:</text>\n<polyline fill=\"none\" points=\"684.5,-.5 684.5,-46.5 \" stroke=\"#000000\"/>\n<text fill=\"#000000\" font-family=\"Times,serif\" font-size=\"14.00\" text-anchor=\"middle\" x=\"724.5\" y=\"-31.3\">(None, 22)</text>\n<polyline fill=\"none\" points=\"684.5,-23.5 764.5,-23.5 \" stroke=\"#000000\"/>\n<text fill=\"#000000\" font-family=\"Times,serif\" font-size=\"14.00\" text-anchor=\"middle\" x=\"724.5\" y=\"-8.3\">(None, 22)</text>\n</g>\n<!-- 139838965917840&#45;&gt;139838965682000 -->\n<g class=\"edge\" id=\"edge15\">\n<title>139838965917840-&gt;139838965682000</title>\n<path d=\"M613.5,-83.3799C613.5,-75.1745 613.5,-65.7679 613.5,-56.8786\" fill=\"none\" stroke=\"#000000\"/>\n<polygon fill=\"#000000\" points=\"617.0001,-56.784 613.5,-46.784 610.0001,-56.784 617.0001,-56.784\" stroke=\"#000000\"/>\n</g>\n</g>\n</svg>"
          },
          "metadata": {},
          "execution_count": 22
        }
      ],
      "source": [
        "from IPython.display import SVG\n",
        "\n",
        "SVG(tf.keras.utils.model_to_dot(model,show_shapes= True, show_layer_names=True, dpi=60).create(prog='dot', format='svg'))"
      ]
    },
    {
      "cell_type": "markdown",
      "metadata": {
        "id": "BxK-MxYMrKkI"
      },
      "source": [
        "Model summary"
      ]
    },
    {
      "cell_type": "code",
      "execution_count": 23,
      "metadata": {
        "colab": {
          "base_uri": "https://localhost:8080/"
        },
        "id": "bjEgTL9LrKkJ",
        "outputId": "fc27d3af-2adb-4762-a835-57a55175435c"
      },
      "outputs": [
        {
          "output_type": "stream",
          "name": "stdout",
          "text": [
            "Model: \"model\"\n",
            "__________________________________________________________________________________________________\n",
            " Layer (type)                   Output Shape         Param #     Connected to                     \n",
            "==================================================================================================\n",
            " input_1 (InputLayer)           [(None, 14)]         0           []                               \n",
            "                                                                                                  \n",
            " input_2 (InputLayer)           [(None, 4)]          0           []                               \n",
            "                                                                                                  \n",
            " sequential (Sequential)        (None, None, 64)     1408        ['input_1[0][0]']                \n",
            "                                                                                                  \n",
            " sequential_2 (Sequential)      (None, 4, 64)        1408        ['input_2[0][0]']                \n",
            "                                                                                                  \n",
            " dot (Dot)                      (None, 14, 4)        0           ['sequential[0][0]',             \n",
            "                                                                  'sequential_2[0][0]']           \n",
            "                                                                                                  \n",
            " activation (Activation)        (None, 14, 4)        0           ['dot[0][0]']                    \n",
            "                                                                                                  \n",
            " sequential_1 (Sequential)      (None, None, 4)      88          ['input_1[0][0]']                \n",
            "                                                                                                  \n",
            " add (Add)                      (None, 14, 4)        0           ['activation[0][0]',             \n",
            "                                                                  'sequential_1[0][0]']           \n",
            "                                                                                                  \n",
            " permute (Permute)              (None, 4, 14)        0           ['add[0][0]']                    \n",
            "                                                                                                  \n",
            " concatenate (Concatenate)      (None, 4, 78)        0           ['permute[0][0]',                \n",
            "                                                                  'sequential_2[0][0]']           \n",
            "                                                                                                  \n",
            " lstm (LSTM)                    (None, 32)           14208       ['concatenate[0][0]']            \n",
            "                                                                                                  \n",
            " dropout_3 (Dropout)            (None, 32)           0           ['lstm[0][0]']                   \n",
            "                                                                                                  \n",
            " dense (Dense)                  (None, 22)           726         ['dropout_3[0][0]']              \n",
            "                                                                                                  \n",
            " activation_1 (Activation)      (None, 22)           0           ['dense[0][0]']                  \n",
            "                                                                                                  \n",
            "==================================================================================================\n",
            "Total params: 17,838\n",
            "Trainable params: 17,838\n",
            "Non-trainable params: 0\n",
            "__________________________________________________________________________________________________\n"
          ]
        }
      ],
      "source": [
        "model.summary()"
      ]
    },
    {
      "cell_type": "markdown",
      "metadata": {
        "id": "_tnbz5YJrKkQ"
      },
      "source": [
        "## 1.5 Training"
      ]
    },
    {
      "cell_type": "markdown",
      "metadata": {
        "id": "W_bUUHq-A8Us"
      },
      "source": [
        "In this section we start the training procedure with fitting the data to the designed model."
      ]
    },
    {
      "cell_type": "code",
      "execution_count": 24,
      "metadata": {
        "colab": {
          "base_uri": "https://localhost:8080/",
          "height": 1000
        },
        "id": "c3sOGkotZKmk",
        "outputId": "f8316709-f0ca-451c-9259-42791761be4b"
      },
      "outputs": [
        {
          "output_type": "stream",
          "name": "stdout",
          "text": [
            "Epoch 1/10\n"
          ]
        },
        {
          "output_type": "stream",
          "name": "stderr",
          "text": [
            "/usr/local/lib/python3.7/dist-packages/tensorflow/python/data/ops/dataset_ops.py:4527: UserWarning: Even though the `tf.config.experimental_run_functions_eagerly` option is set, this option does not apply to tf.data functions. To force eager execution of tf.data functions, please use `tf.data.experimental.enable_debug_mode()`.\n",
            "  \"Even though the `tf.config.experimental_run_functions_eagerly` \"\n"
          ]
        },
        {
          "output_type": "stream",
          "name": "stdout",
          "text": [
            "313/313 [==============================] - 29s 82ms/step - loss: 1.9870 - accuracy: 0.1604 - val_loss: 1.7989 - val_accuracy: 0.1820\n",
            "Epoch 2/10\n",
            "313/313 [==============================] - 19s 60ms/step - loss: 1.8151 - accuracy: 0.1672 - val_loss: 1.8024 - val_accuracy: 0.1570\n",
            "Epoch 3/10\n",
            "313/313 [==============================] - 19s 62ms/step - loss: 1.8003 - accuracy: 0.1692 - val_loss: 1.7896 - val_accuracy: 0.1930\n",
            "Epoch 4/10\n",
            "313/313 [==============================] - 19s 62ms/step - loss: 1.7894 - accuracy: 0.1891 - val_loss: 1.7806 - val_accuracy: 0.2060\n",
            "Epoch 5/10\n",
            "313/313 [==============================] - 20s 65ms/step - loss: 1.7791 - accuracy: 0.2217 - val_loss: 1.7710 - val_accuracy: 0.2660\n",
            "Epoch 6/10\n",
            "313/313 [==============================] - 19s 60ms/step - loss: 1.7732 - accuracy: 0.2317 - val_loss: 1.7598 - val_accuracy: 0.2810\n",
            "Epoch 7/10\n",
            "313/313 [==============================] - 19s 62ms/step - loss: 1.7688 - accuracy: 0.2390 - val_loss: 1.7592 - val_accuracy: 0.2910\n",
            "Epoch 8/10\n",
            "313/313 [==============================] - 19s 60ms/step - loss: 1.7663 - accuracy: 0.2424 - val_loss: 1.7571 - val_accuracy: 0.2870\n",
            "Epoch 9/10\n",
            "313/313 [==============================] - 20s 65ms/step - loss: 1.7651 - accuracy: 0.2412 - val_loss: 1.7588 - val_accuracy: 0.2690\n",
            "Epoch 10/10\n",
            "313/313 [==============================] - 19s 60ms/step - loss: 1.7646 - accuracy: 0.2478 - val_loss: 1.7526 - val_accuracy: 0.2790\n"
          ]
        },
        {
          "output_type": "stream",
          "name": "stderr",
          "text": [
            "/usr/local/lib/python3.7/dist-packages/keras/engine/functional.py:1410: CustomMaskWarning: Custom mask layers require a config and must override get_config. When loading, the custom mask layer must be passed to the custom_objects argument.\n",
            "  layer_config = serialize_layer_fn(layer)\n"
          ]
        },
        {
          "output_type": "display_data",
          "data": {
            "image/png": "[encoded data removed]",
            "text/plain": [
              "<Figure size 720x576 with 1 Axes>"
            ]
          },
          "metadata": {}
        },
        {
          "output_type": "display_data",
          "data": {
            "image/png": "[encoded data removed]",
            "text/plain": [
              "<Figure size 720x576 with 1 Axes>"
            ]
          },
          "metadata": {}
        }
      ],
      "source": [
        "history = model.fit([inputs_train, queries_train], answers_train, batch_size, train_epochs,\n",
        "          validation_data=([inputs_test, queries_test], answers_test))\n",
        "\n",
        "plot_loss(history,\"Loss\")\n",
        "plot_acc(history,\"Accuracy\")\n",
        "\n",
        "model.save('model.h5')"
      ]
    },
    {
      "cell_type": "markdown",
      "metadata": {
        "id": "GXxhXOvcrKkV"
      },
      "source": [
        "## 1.6 Testing and Analysis"
      ]
    },
    {
      "cell_type": "markdown",
      "metadata": {
        "id": "ciBt077dEBLd"
      },
      "source": [
        "Now we need to actually make predictions and check the performance of our trained model with some examples:"
      ]
    },
    {
      "cell_type": "code",
      "execution_count": 25,
      "metadata": {
        "colab": {
          "base_uri": "https://localhost:8080/"
        },
        "id": "a4b3f5-arKkW",
        "outputId": "45eb3878-993b-4b54-868b-d1408727b9f3"
      },
      "outputs": [
        {
          "output_type": "stream",
          "name": "stderr",
          "text": [
            "/usr/local/lib/python3.7/dist-packages/tensorflow/python/data/ops/dataset_ops.py:4527: UserWarning: Even though the `tf.config.experimental_run_functions_eagerly` option is set, this option does not apply to tf.data functions. To force eager execution of tf.data functions, please use `tf.data.experimental.enable_debug_mode()`.\n",
            "  \"Even though the `tf.config.experimental_run_functions_eagerly` \"\n"
          ]
        },
        {
          "output_type": "stream",
          "name": "stdout",
          "text": [
            "John travelled to the hallway . Mary journeyed to the bathroom . Where is John ? | Prediction: garden | Ground Truth: hallway\n",
            "-----------------------------------------------------------------------------------------\n",
            "John travelled to the hallway . Mary journeyed to the bathroom . Where is Sandra ? | Prediction: garden | Ground Truth: kitchen\n",
            "-----------------------------------------------------------------------------------------\n",
            "John travelled to the hallway . Mary journeyed to the bathroom . Where is Sandra ? | Prediction: garden | Ground Truth: kitchen\n",
            "-----------------------------------------------------------------------------------------\n",
            "Sandra travelled to the kitchen . Sandra travelled to the hallway . Where is Sandra ? | Prediction: hallway | Ground Truth: garden\n",
            "-----------------------------------------------------------------------------------------\n",
            "Sandra travelled to the kitchen . Sandra travelled to the hallway . Where is Sandra ? | Prediction: hallway | Ground Truth: office\n",
            "-----------------------------------------------------------------------------------------\n",
            "John travelled to the office . Mary journeyed to the kitchen . Where is Mary ? | Prediction: office | Ground Truth: kitchen\n",
            "-----------------------------------------------------------------------------------------\n",
            "John travelled to the office . Mary journeyed to the kitchen . Where is Daniel ? | Prediction: office | Ground Truth: office\n",
            "-----------------------------------------------------------------------------------------\n",
            "John travelled to the office . Mary journeyed to the kitchen . Where is Mary ? | Prediction: office | Ground Truth: bedroom\n",
            "-----------------------------------------------------------------------------------------\n",
            "John moved to the hallway . John journeyed to the kitchen . Where is John ? | Prediction: office | Ground Truth: garden\n",
            "-----------------------------------------------------------------------------------------\n",
            "John moved to the hallway . John journeyed to the kitchen . Where is Daniel ? | Prediction: bathroom | Ground Truth: office\n",
            "-----------------------------------------------------------------------------------------\n"
          ]
        }
      ],
      "source": [
        "for i in range(0,10):\n",
        "    current_inp = test_stories[2*i]\n",
        "    current_story, current_query, current_answer = vectorize_stories([current_inp], word_idx, story_maxlen, query_maxlen)\n",
        "    current_prediction = model.predict([current_story, current_query])\n",
        "    current_prediction = idx_word[np.argmax(current_prediction)]\n",
        "    print(' '.join(current_inp[0]), ' '.join(current_inp[1]), '| Prediction:', current_prediction, '| Ground Truth:', current_inp[2])\n",
        "    print(\"-----------------------------------------------------------------------------------------\")\n"
      ]
    },
    {
      "cell_type": "markdown",
      "metadata": {
        "collapsed": true,
        "id": "DWGbl4PdrKka"
      },
      "source": [
        "## 1.7 Custom Inputs"
      ]
    },
    {
      "cell_type": "markdown",
      "metadata": {
        "id": "iJUI2SIXEV4x"
      },
      "source": [
        "You can even write your example and test it with your model to see how powerful it is:"
      ]
    },
    {
      "cell_type": "code",
      "execution_count": null,
      "metadata": {
        "id": "UT83MJ8yrKkb"
      },
      "outputs": [],
      "source": [
        "print('-------------------------------------------------------------------------------------------')\n",
        "print('Custom User Queries (Make sure there are spaces before each word)')\n",
        "while 1:\n",
        "    print('-------------------------------------------------------------------------------------------')\n",
        "    print('Please input a story')\n",
        "    user_story_inp = input().split(' ')\n",
        "    print('Please input a query')\n",
        "    user_query_inp = input().split(' ')\n",
        "    user_story, user_query, user_ans = vectorize_stories([[user_story_inp, user_query_inp, '.']], word_idx, story_maxlen, query_maxlen)\n",
        "    user_prediction = model.predict([user_story, user_query])\n",
        "    user_prediction = idx_word[np.argmax(user_prediction)]\n",
        "    print('Result')\n",
        "    print(' '.join(user_story_inp), ' '.join(user_query_inp), '| Prediction:', user_prediction)"
      ]
    },
    {
      "cell_type": "code",
      "execution_count": null,
      "metadata": {
        "id": "id1unEEQrKkf"
      },
      "outputs": [],
      "source": [
        "# some examples:\n",
        "# Mary went to the bathroom . John moved to the hallway . Mary travelled to the office . # Where is Mary ?\n",
        "# Sandra travelled to the office . John journeyed to the garden ."
      ]
    },
    {
      "cell_type": "markdown",
      "metadata": {
        "id": "ZtYRcM2KE4te"
      },
      "source": [
        "As you understood how the model trained, please tell us about the pros and cons of the proposed model. How can we improve it if we want to use it in realistic task ? "
      ]
    },
    {
      "cell_type": "markdown",
      "metadata": {
        "id": "p9NiIbN5F7zb"
      },
      "source": [
        "$\\color{red}{\\text{Write your answer in document}}$\n",
        "\n"
      ]
    },
    {
      "cell_type": "markdown",
      "metadata": {
        "id": "OFKXfqrgQfQm"
      },
      "source": [
        "#  2. Hands on SSL"
      ]
    },
    {
      "cell_type": "code",
      "execution_count": 1,
      "metadata": {
        "id": "0WP9j6u6hADR"
      },
      "outputs": [],
      "source": [
        "import cv2\n",
        "import numpy as np\n",
        "from matplotlib import pyplot as plt\n",
        "from tensorflow import keras\n",
        "import tensorflow as tf"
      ]
    },
    {
      "cell_type": "markdown",
      "metadata": {
        "id": "h7UbcqmKUZ1q"
      },
      "source": [
        "## 2.1 prepare data"
      ]
    },
    {
      "cell_type": "code",
      "execution_count": 2,
      "metadata": {
        "colab": {
          "base_uri": "https://localhost:8080/"
        },
        "id": "RDOwLbCAjENO",
        "outputId": "ab2ebb95-23fd-45bd-c37d-4f6d59eb1444"
      },
      "outputs": [
        {
          "output_type": "stream",
          "name": "stdout",
          "text": [
            "train dataset shape: x:(50000, 32, 32, 3), y:(50000, 1)\n",
            "test dataset shape: x:(10000, 32, 32, 3), y:(10000, 1)\n"
          ]
        }
      ],
      "source": [
        "(x_train, y_train), (x_test, y_test) = keras.datasets.cifar10.load_data()\n",
        "\n",
        "\n",
        "print(f\"train dataset shape: x:{x_train.shape}, y:{y_train.shape}\")\n",
        "print(f\"test dataset shape: x:{x_test.shape}, y:{y_test.shape}\")\n",
        "\n",
        "#scale data\n",
        "x_train = x_train/255\n",
        "x_test = x_test/255\n",
        "\n",
        "x_train_original = x_train.copy()"
      ]
    },
    {
      "cell_type": "code",
      "execution_count": 3,
      "metadata": {
        "id": "_GMQmFwajGW4"
      },
      "outputs": [],
      "source": [
        "unlabeld_index = np.ones(y_train.shape, np.bool)\n",
        "\n",
        "N = 20\n",
        "for i in range(10):\n",
        "  idx = np.where(y_train == i)[0][:N]\n",
        "  unlabeld_index[idx] = 0"
      ]
    },
    {
      "cell_type": "code",
      "execution_count": 4,
      "metadata": {
        "id": "cBwOJ5sJjJOm"
      },
      "outputs": [],
      "source": [
        "x_unlabeld = x_train[np.where(unlabeld_index)[0], ...]\n",
        "\n",
        "x_train = x_train[np.where(~unlabeld_index)[0], ...]\n",
        "y_train = y_train[np.where(~unlabeld_index)[0], ...]"
      ]
    },
    {
      "cell_type": "code",
      "execution_count": 5,
      "metadata": {
        "colab": {
          "base_uri": "https://localhost:8080/"
        },
        "id": "B4R5nnKejLF2",
        "outputId": "2331db9f-4e63-4d90-c6a0-7c9f873c428b"
      },
      "outputs": [
        {
          "output_type": "stream",
          "name": "stdout",
          "text": [
            "0.051293306\n",
            "0.0\n",
            "0.0\n"
          ]
        }
      ],
      "source": [
        "# examples of categorical crossentropy\n",
        "cce = keras.losses.CategoricalCrossentropy()\n",
        "\n",
        "# a labeled data from the second class\n",
        "y_true = [[0, 1, 0, 0]]\n",
        "y_pred = [[0.05, 0.95, 0, 0]]\n",
        "print(cce(y_true, y_pred).numpy())\n",
        "\n",
        "# an ulabeled data\n",
        "y_true = [[0, 0, 0, 0]]\n",
        "y_pred = [[0.05, 0.95, 0, 0]]\n",
        "print(cce(y_true, y_pred).numpy())\n",
        "\n",
        "# another ulabeled data\n",
        "y_true = [[0, 0, 0, 0]]\n",
        "y_pred = [[0.1, 0.4, 0.3, 0.2]]\n",
        "print(cce(y_true, y_pred).numpy())"
      ]
    },
    {
      "cell_type": "code",
      "execution_count": 5,
      "metadata": {
        "id": "A-ljyq9VUvy3"
      },
      "outputs": [],
      "source": [
        "def plot_helper(history):\n",
        "  with plt.style.context('ggplot'): #ggplot is good for visualization\n",
        "    fig, ax = plt.subplots(1, 2, figsize=(10, 8))\n",
        "\n",
        "    ax[0].plot(history.history['val_loss'], label='val_loss')\n",
        "    ax[0].plot(history.history['loss'], label='loss')\n",
        "    ax[0].legend()\n",
        "\n",
        "    ax[1].plot(history.history['val_accuracy'], label='val_acc')\n",
        "    ax[1].plot(history.history['accuracy'], label='acc')\n",
        "    ax[1].legend()\n",
        "\n",
        "def build_and_return_model(last_layer, input_shape=(32, 32, 3)):\n",
        "  model = tf.keras.Sequential(\n",
        "      [\n",
        "        tf.keras.layers.Conv2D(32, (3, 3), activation='relu', kernel_initializer='he_uniform', padding='same', input_shape=input_shape),\n",
        "        tf.keras.layers.BatchNormalization(),\n",
        "       \n",
        "        tf.keras.layers.Conv2D(32, (3, 3), activation='relu', kernel_initializer='he_uniform', padding='same'),\n",
        "        tf.keras.layers.BatchNormalization(),\n",
        "        tf.keras.layers.MaxPooling2D((2, 2)),\n",
        "        tf.keras.layers.Dropout(0.2),\n",
        "       \n",
        "        tf.keras.layers.Conv2D(64, (3, 3), activation='relu', kernel_initializer='he_uniform', padding='same'),\n",
        "        tf.keras.layers.BatchNormalization(),\n",
        "       \n",
        "        tf.keras.layers.Conv2D(64, (3, 3), activation='relu', kernel_initializer='he_uniform', padding='same'),\n",
        "        tf.keras.layers.BatchNormalization(),\n",
        "        tf.keras.layers.MaxPooling2D((2, 2)),\n",
        "        tf.keras.layers.Dropout(0.3),\n",
        "       \n",
        "        tf.keras.layers.Conv2D(128, (3, 3), activation='relu', kernel_initializer='he_uniform', padding='same'),\n",
        "        tf.keras.layers.BatchNormalization(),\n",
        "       \n",
        "        tf.keras.layers.Conv2D(128, (3, 3), activation='relu', kernel_initializer='he_uniform', padding='same'),\n",
        "        tf.keras.layers.BatchNormalization(),\n",
        "        tf.keras.layers.MaxPooling2D((2, 2)),\n",
        "        tf.keras.layers.Dropout(0.4),\n",
        "       \n",
        "        tf.keras.layers.Flatten(),\n",
        "        tf.keras.layers.Dense(128, activation='relu', kernel_initializer='he_uniform'),\n",
        "        tf.keras.layers.BatchNormalization(),\n",
        "        tf.keras.layers.Dropout(0.5),\n",
        "        tf.keras.layers.Dense(last_layer, activation='softmax')\n",
        "      ]\n",
        "  )\n",
        "\n",
        "  return model"
      ]
    },
    {
      "cell_type": "code",
      "execution_count": 6,
      "metadata": {
        "id": "FKW0MaABXxWR"
      },
      "outputs": [],
      "source": [
        "\n",
        "# take some data's for validation\n",
        "#test\n",
        "x_test = x_test[1000:]\n",
        "y_test = y_test[1000:]\n",
        "\n",
        "#val\n",
        "x_val = x_test[:1000]\n",
        "y_val = y_test[:1000]"
      ]
    },
    {
      "cell_type": "code",
      "execution_count": 8,
      "metadata": {
        "colab": {
          "base_uri": "https://localhost:8080/"
        },
        "id": "uqW7AZVIJSgA",
        "outputId": "19f17012-c2f6-4feb-a010-0c25513f15d6"
      },
      "outputs": [
        {
          "output_type": "stream",
          "name": "stdout",
          "text": [
            "Model: \"sequential\"\n",
            "_________________________________________________________________\n",
            " Layer (type)                Output Shape              Param #   \n",
            "=================================================================\n",
            " conv2d (Conv2D)             (None, 32, 32, 32)        896       \n",
            "                                                                 \n",
            " batch_normalization (BatchN  (None, 32, 32, 32)       128       \n",
            " ormalization)                                                   \n",
            "                                                                 \n",
            " conv2d_1 (Conv2D)           (None, 32, 32, 32)        9248      \n",
            "                                                                 \n",
            " batch_normalization_1 (Batc  (None, 32, 32, 32)       128       \n",
            " hNormalization)                                                 \n",
            "                                                                 \n",
            " max_pooling2d (MaxPooling2D  (None, 16, 16, 32)       0         \n",
            " )                                                               \n",
            "                                                                 \n",
            " dropout (Dropout)           (None, 16, 16, 32)        0         \n",
            "                                                                 \n",
            " conv2d_2 (Conv2D)           (None, 16, 16, 64)        18496     \n",
            "                                                                 \n",
            " batch_normalization_2 (Batc  (None, 16, 16, 64)       256       \n",
            " hNormalization)                                                 \n",
            "                                                                 \n",
            " conv2d_3 (Conv2D)           (None, 16, 16, 64)        36928     \n",
            "                                                                 \n",
            " batch_normalization_3 (Batc  (None, 16, 16, 64)       256       \n",
            " hNormalization)                                                 \n",
            "                                                                 \n",
            " max_pooling2d_1 (MaxPooling  (None, 8, 8, 64)         0         \n",
            " 2D)                                                             \n",
            "                                                                 \n",
            " dropout_1 (Dropout)         (None, 8, 8, 64)          0         \n",
            "                                                                 \n",
            " conv2d_4 (Conv2D)           (None, 8, 8, 128)         73856     \n",
            "                                                                 \n",
            " batch_normalization_4 (Batc  (None, 8, 8, 128)        512       \n",
            " hNormalization)                                                 \n",
            "                                                                 \n",
            " conv2d_5 (Conv2D)           (None, 8, 8, 128)         147584    \n",
            "                                                                 \n",
            " batch_normalization_5 (Batc  (None, 8, 8, 128)        512       \n",
            " hNormalization)                                                 \n",
            "                                                                 \n",
            " max_pooling2d_2 (MaxPooling  (None, 4, 4, 128)        0         \n",
            " 2D)                                                             \n",
            "                                                                 \n",
            " dropout_2 (Dropout)         (None, 4, 4, 128)         0         \n",
            "                                                                 \n",
            " flatten (Flatten)           (None, 2048)              0         \n",
            "                                                                 \n",
            " dense (Dense)               (None, 128)               262272    \n",
            "                                                                 \n",
            " batch_normalization_6 (Batc  (None, 128)              512       \n",
            " hNormalization)                                                 \n",
            "                                                                 \n",
            " dropout_3 (Dropout)         (None, 128)               0         \n",
            "                                                                 \n",
            " dense_1 (Dense)             (None, 10)                1290      \n",
            "                                                                 \n",
            "=================================================================\n",
            "Total params: 552,874\n",
            "Trainable params: 551,722\n",
            "Non-trainable params: 1,152\n",
            "_________________________________________________________________\n"
          ]
        },
        {
          "output_type": "stream",
          "name": "stderr",
          "text": [
            "/usr/local/lib/python3.7/dist-packages/keras/optimizer_v2/gradient_descent.py:102: UserWarning: The `lr` argument is deprecated, use `learning_rate` instead.\n",
            "  super(SGD, self).__init__(name, **kwargs)\n"
          ]
        }
      ],
      "source": [
        "model_without_pretext = build_and_return_model(10)\n",
        "opt = tf.keras.optimizers.SGD(lr=0.001, momentum=0.9)\n",
        "model_without_pretext.compile(optimizer=opt, loss='categorical_crossentropy', metrics=['accuracy'])\n",
        "model_without_pretext.summary()"
      ]
    },
    {
      "cell_type": "code",
      "source": [
        "\n",
        "y_train_cat = tf.keras.utils.to_categorical(y_train)\n",
        "y_val_cat = tf.keras.utils.to_categorical(y_val)\n",
        "\n",
        "print(f\"train dataset shape: x:{x_train.shape}, y:{y_train_cat.shape}\")\n",
        "print(f\"test dataset shape: x:{x_val.shape}, y:{y_val_cat.shape}\")"
      ],
      "metadata": {
        "colab": {
          "base_uri": "https://localhost:8080/"
        },
        "id": "asBAST9SYAm-",
        "outputId": "8bf5a821-e9a7-4af3-b6bd-c8a7ae4aea2f"
      },
      "execution_count": 84,
      "outputs": [
        {
          "output_type": "stream",
          "name": "stdout",
          "text": [
            "train dataset shape: x:(200, 32, 32, 3), y:(200, 10)\n",
            "test dataset shape: x:(1000, 32, 32, 3), y:(1000, 10)\n"
          ]
        }
      ]
    },
    {
      "cell_type": "code",
      "execution_count": 10,
      "metadata": {
        "colab": {
          "base_uri": "https://localhost:8080/"
        },
        "id": "nwXNgDqVJnN5",
        "outputId": "b6672e1d-9687-4787-d995-e009e3259bed"
      },
      "outputs": [
        {
          "output_type": "stream",
          "name": "stdout",
          "text": [
            "Epoch 1/20\n",
            "7/7 [==============================] - 15s 157ms/step - loss: 3.5687 - accuracy: 0.1300 - val_loss: 2.4323 - val_accuracy: 0.0960\n",
            "Epoch 2/20\n",
            "7/7 [==============================] - 0s 62ms/step - loss: 3.5280 - accuracy: 0.0950 - val_loss: 2.3577 - val_accuracy: 0.0880\n",
            "Epoch 3/20\n",
            "7/7 [==============================] - 0s 63ms/step - loss: 3.3081 - accuracy: 0.1150 - val_loss: 2.3595 - val_accuracy: 0.1060\n",
            "Epoch 4/20\n",
            "7/7 [==============================] - 0s 76ms/step - loss: 3.1356 - accuracy: 0.1400 - val_loss: 2.3236 - val_accuracy: 0.1170\n",
            "Epoch 5/20\n",
            "7/7 [==============================] - 0s 61ms/step - loss: 3.0186 - accuracy: 0.2050 - val_loss: 2.3420 - val_accuracy: 0.0990\n",
            "Epoch 6/20\n",
            "7/7 [==============================] - 0s 75ms/step - loss: 2.8532 - accuracy: 0.2200 - val_loss: 2.3979 - val_accuracy: 0.1030\n",
            "Epoch 7/20\n",
            "7/7 [==============================] - 0s 75ms/step - loss: 2.8153 - accuracy: 0.2400 - val_loss: 2.3828 - val_accuracy: 0.1210\n",
            "Epoch 8/20\n",
            "7/7 [==============================] - 0s 63ms/step - loss: 2.7647 - accuracy: 0.2350 - val_loss: 2.3533 - val_accuracy: 0.1360\n",
            "Epoch 9/20\n",
            "7/7 [==============================] - 0s 62ms/step - loss: 2.5493 - accuracy: 0.2050 - val_loss: 2.3658 - val_accuracy: 0.1240\n",
            "Epoch 10/20\n",
            "7/7 [==============================] - 0s 63ms/step - loss: 2.5107 - accuracy: 0.2050 - val_loss: 2.4353 - val_accuracy: 0.1420\n",
            "Epoch 11/20\n",
            "7/7 [==============================] - 0s 63ms/step - loss: 2.2158 - accuracy: 0.2800 - val_loss: 2.5229 - val_accuracy: 0.1310\n",
            "Epoch 12/20\n",
            "7/7 [==============================] - 0s 75ms/step - loss: 2.3017 - accuracy: 0.3250 - val_loss: 2.6294 - val_accuracy: 0.1190\n",
            "Epoch 13/20\n",
            "7/7 [==============================] - 0s 62ms/step - loss: 2.1123 - accuracy: 0.3400 - val_loss: 2.5690 - val_accuracy: 0.1160\n",
            "Epoch 14/20\n",
            "7/7 [==============================] - 0s 62ms/step - loss: 2.0920 - accuracy: 0.3200 - val_loss: 2.4704 - val_accuracy: 0.1170\n",
            "Epoch 15/20\n",
            "7/7 [==============================] - 0s 62ms/step - loss: 2.1045 - accuracy: 0.3600 - val_loss: 2.4402 - val_accuracy: 0.1350\n",
            "Epoch 16/20\n",
            "7/7 [==============================] - 0s 76ms/step - loss: 1.9287 - accuracy: 0.3700 - val_loss: 2.4133 - val_accuracy: 0.1550\n",
            "Epoch 17/20\n",
            "7/7 [==============================] - 0s 64ms/step - loss: 1.8800 - accuracy: 0.3900 - val_loss: 2.3921 - val_accuracy: 0.1590\n",
            "Epoch 18/20\n",
            "7/7 [==============================] - 0s 75ms/step - loss: 1.9277 - accuracy: 0.3600 - val_loss: 2.3819 - val_accuracy: 0.1570\n",
            "Epoch 19/20\n",
            "7/7 [==============================] - 0s 63ms/step - loss: 1.7284 - accuracy: 0.4250 - val_loss: 2.3934 - val_accuracy: 0.1560\n",
            "Epoch 20/20\n",
            "7/7 [==============================] - 0s 63ms/step - loss: 1.7160 - accuracy: 0.4250 - val_loss: 2.5154 - val_accuracy: 0.1460\n"
          ]
        }
      ],
      "source": [
        "# x_train = x_train.reshape(-1, 32, 32, 1)\n",
        "# x_val = x_val.reshape(-1, 32, 32, 1)\n",
        "\n",
        "history_of_model_without_pretext = model_without_pretext.fit(\n",
        "    x_train,\n",
        "    y_train_cat, \n",
        "    epochs=20, \n",
        "    validation_data=(\n",
        "        x_val, \n",
        "        y_val_cat)\n",
        ")"
      ]
    },
    {
      "cell_type": "code",
      "execution_count": 11,
      "metadata": {
        "id": "spDGZZ7CMlPo",
        "colab": {
          "base_uri": "https://localhost:8080/",
          "height": 483
        },
        "outputId": "b9a02dff-a73d-4aba-ce65-5aee71819e44"
      },
      "outputs": [
        {
          "output_type": "display_data",
          "data": {
            "image/png": "[encoded data removed]",
            "text/plain": [
              "<Figure size 720x576 with 2 Axes>"
            ]
          },
          "metadata": {}
        }
      ],
      "source": [
        "plot_helper(history_of_model_without_pretext)"
      ]
    },
    {
      "cell_type": "code",
      "execution_count": 12,
      "metadata": {
        "id": "TjZxyQgYMpts",
        "colab": {
          "base_uri": "https://localhost:8080/"
        },
        "outputId": "b8853867-1ba7-4d76-9261-576a743b2795"
      },
      "outputs": [
        {
          "output_type": "stream",
          "name": "stdout",
          "text": [
            "282/282 [==============================] - 2s 8ms/step - loss: 2.5321 - accuracy: 0.1449\n"
          ]
        },
        {
          "output_type": "execute_result",
          "data": {
            "text/plain": [
              "[2.5321178436279297, 0.14488889276981354]"
            ]
          },
          "metadata": {},
          "execution_count": 12
        }
      ],
      "source": [
        "y_test_cat = tf.keras.utils.to_categorical(y_test)\n",
        "model_without_pretext.evaluate(x_test, y_test_cat)"
      ]
    },
    {
      "cell_type": "code",
      "execution_count": 6,
      "metadata": {
        "id": "GpQyimnv3OVC"
      },
      "outputs": [],
      "source": [
        "\n",
        "x_train_normal_degree = x_unlabeld.copy()\n",
        "y_train_normal_degree = np.full((49800), 0)\n",
        "\n",
        "# x_train_90_degree = np.rot90(x_unlabeld, axes=(1,2))\n",
        "# y_train_90_degree = np.full((49800), 1)\n",
        "\n",
        "x_train_180_degree = np.rot90(x_unlabeld, 2, axes=(1,2))\n",
        "y_train_180_degree = np.full((49800), 2)\n",
        "\n",
        "x_train_270_degree = np.rot90(x_unlabeld, 3, axes=(1,2))\n",
        "y_train_270_degree = np.full((49800), 3)\n"
      ]
    },
    {
      "cell_type": "code",
      "execution_count": 7,
      "metadata": {
        "id": "mPoyzRsY5jcK",
        "colab": {
          "base_uri": "https://localhost:8080/"
        },
        "outputId": "b2861422-ebd0-4964-dff0-884c20921bd5"
      },
      "outputs": [
        {
          "output_type": "stream",
          "name": "stdout",
          "text": [
            "X_unlabeled_train: (149400, 32, 32, 3), Y_unlabeled_train:(149400,)\n"
          ]
        }
      ],
      "source": [
        "#we should merge all of this\n",
        "x_train_unlabeled = np.concatenate(\n",
        "    (x_train_normal_degree, \n",
        "    #  x_train_90_degree, \n",
        "     x_train_180_degree, \n",
        "     x_train_270_degree), \n",
        "    axis=0\n",
        ")\n",
        "\n",
        "#free memory\n",
        "x_train_normal_degree = None\n",
        "# x_train_90_degree = None\n",
        "x_train_180_degree = None\n",
        "x_train_270_degree = None\n",
        "\n",
        "y_train_unlabeled = np.concatenate(\n",
        "    (y_train_normal_degree, \n",
        "    #  y_train_90_degree, \n",
        "     y_train_180_degree, \n",
        "     y_train_270_degree), \n",
        "     axis=0\n",
        ")\n",
        "\n",
        "#free memory\n",
        "y_train_normal_degree = None\n",
        "# y_train_90_degree = None\n",
        "y_train_180_degree = None\n",
        "y_train_270_degree = None\n",
        "\n",
        "print(f\"X_unlabeled_train: {x_train_unlabeled.shape}, Y_unlabeled_train:{y_train_unlabeled.shape}\")"
      ]
    },
    {
      "cell_type": "code",
      "execution_count": 8,
      "metadata": {
        "id": "grDBEzpi6cZ-"
      },
      "outputs": [],
      "source": [
        "#shuffle dataset but in same order\n",
        "#https://numpy.org/doc/stable/reference/random/generated/numpy.random.permutation.html\n",
        "\n",
        "size_of_unlabeled_train = len(x_train_unlabeled)\n",
        "\n",
        "arr = np.random.permutation(size_of_unlabeled_train)\n",
        "\n",
        "x_train_unlabeled = x_train_unlabeled[arr]\n",
        "y_train_unlabeled = y_train_unlabeled[arr]\n",
        "\n",
        "y_train_cat = tf.keras.utils.to_categorical(y_train_unlabeled)"
      ]
    },
    {
      "cell_type": "code",
      "execution_count": 9,
      "metadata": {
        "id": "-_I9F7ev8D2o",
        "colab": {
          "base_uri": "https://localhost:8080/"
        },
        "outputId": "1810f9cc-6374-4cb4-98e2-283a91251fe8"
      },
      "outputs": [
        {
          "output_type": "stream",
          "name": "stdout",
          "text": [
            "x_train_unlabeled: (144400, 32, 32, 3), x_val_unlabeled:(5000, 32, 32, 3)\n"
          ]
        }
      ],
      "source": [
        "#make validation and train dataset for unlabeled data's\n",
        "\n",
        "x_val_unlabeled, x_train_unlabeled = x_train_unlabeled[:5000], x_train_unlabeled[5000:]\n",
        "print(f\"x_train_unlabeled: {x_train_unlabeled.shape}, x_val_unlabeled:{x_val_unlabeled.shape}\")\n",
        "\n",
        "y_val_unlabeled, y_train_unlabeled = y_train_cat[:5000], y_train_cat[5000:]"
      ]
    },
    {
      "cell_type": "code",
      "execution_count": 12,
      "metadata": {
        "id": "hdQ9hi8J7DgS",
        "colab": {
          "base_uri": "https://localhost:8080/"
        },
        "outputId": "607745ab-f33e-4d99-8bab-b92a81905826"
      },
      "outputs": [
        {
          "output_type": "stream",
          "name": "stdout",
          "text": [
            "Model: \"sequential\"\n",
            "_________________________________________________________________\n",
            " Layer (type)                Output Shape              Param #   \n",
            "=================================================================\n",
            " conv2d (Conv2D)             (None, 32, 32, 32)        896       \n",
            "                                                                 \n",
            " batch_normalization (BatchN  (None, 32, 32, 32)       128       \n",
            " ormalization)                                                   \n",
            "                                                                 \n",
            " conv2d_1 (Conv2D)           (None, 32, 32, 32)        9248      \n",
            "                                                                 \n",
            " batch_normalization_1 (Batc  (None, 32, 32, 32)       128       \n",
            " hNormalization)                                                 \n",
            "                                                                 \n",
            " max_pooling2d (MaxPooling2D  (None, 16, 16, 32)       0         \n",
            " )                                                               \n",
            "                                                                 \n",
            " dropout (Dropout)           (None, 16, 16, 32)        0         \n",
            "                                                                 \n",
            " conv2d_2 (Conv2D)           (None, 16, 16, 64)        18496     \n",
            "                                                                 \n",
            " batch_normalization_2 (Batc  (None, 16, 16, 64)       256       \n",
            " hNormalization)                                                 \n",
            "                                                                 \n",
            " conv2d_3 (Conv2D)           (None, 16, 16, 64)        36928     \n",
            "                                                                 \n",
            " batch_normalization_3 (Batc  (None, 16, 16, 64)       256       \n",
            " hNormalization)                                                 \n",
            "                                                                 \n",
            " max_pooling2d_1 (MaxPooling  (None, 8, 8, 64)         0         \n",
            " 2D)                                                             \n",
            "                                                                 \n",
            " dropout_1 (Dropout)         (None, 8, 8, 64)          0         \n",
            "                                                                 \n",
            " conv2d_4 (Conv2D)           (None, 8, 8, 128)         73856     \n",
            "                                                                 \n",
            " batch_normalization_4 (Batc  (None, 8, 8, 128)        512       \n",
            " hNormalization)                                                 \n",
            "                                                                 \n",
            " conv2d_5 (Conv2D)           (None, 8, 8, 128)         147584    \n",
            "                                                                 \n",
            " batch_normalization_5 (Batc  (None, 8, 8, 128)        512       \n",
            " hNormalization)                                                 \n",
            "                                                                 \n",
            " max_pooling2d_2 (MaxPooling  (None, 4, 4, 128)        0         \n",
            " 2D)                                                             \n",
            "                                                                 \n",
            " dropout_2 (Dropout)         (None, 4, 4, 128)         0         \n",
            "                                                                 \n",
            " flatten (Flatten)           (None, 2048)              0         \n",
            "                                                                 \n",
            " dense (Dense)               (None, 128)               262272    \n",
            "                                                                 \n",
            " batch_normalization_6 (Batc  (None, 128)              512       \n",
            " hNormalization)                                                 \n",
            "                                                                 \n",
            " dropout_3 (Dropout)         (None, 128)               0         \n",
            "                                                                 \n",
            " dense_1 (Dense)             (None, 4)                 516       \n",
            "                                                                 \n",
            "=================================================================\n",
            "Total params: 552,100\n",
            "Trainable params: 550,948\n",
            "Non-trainable params: 1,152\n",
            "_________________________________________________________________\n"
          ]
        },
        {
          "output_type": "stream",
          "name": "stderr",
          "text": [
            "/usr/local/lib/python3.7/dist-packages/keras/optimizer_v2/gradient_descent.py:102: UserWarning: The `lr` argument is deprecated, use `learning_rate` instead.\n",
            "  super(SGD, self).__init__(name, **kwargs)\n"
          ]
        }
      ],
      "source": [
        "model_with_pretext = build_and_return_model(4)\n",
        "opt = tf.keras.optimizers.SGD(lr=0.001, momentum=0.9)\n",
        "model_with_pretext.compile(optimizer=opt, loss='categorical_crossentropy', metrics=['accuracy'])\n",
        "model_with_pretext.summary()\n"
      ]
    },
    {
      "cell_type": "code",
      "execution_count": 13,
      "metadata": {
        "id": "a3RTqx3_8pCb",
        "colab": {
          "base_uri": "https://localhost:8080/"
        },
        "outputId": "4ef7975b-f7e7-4441-91dd-793ef5a50723"
      },
      "outputs": [
        {
          "output_type": "stream",
          "name": "stdout",
          "text": [
            "Epoch 1/7\n",
            "4513/4513 [==============================] - 105s 21ms/step - loss: 0.9256 - accuracy: 0.5896 - val_loss: 0.7269 - val_accuracy: 0.6832\n",
            "Epoch 2/7\n",
            "4513/4513 [==============================] - 84s 19ms/step - loss: 0.7535 - accuracy: 0.6667 - val_loss: 0.6526 - val_accuracy: 0.7164\n",
            "Epoch 3/7\n",
            "4513/4513 [==============================] - 83s 18ms/step - loss: 0.6907 - accuracy: 0.6991 - val_loss: 0.6154 - val_accuracy: 0.7388\n",
            "Epoch 4/7\n",
            "4513/4513 [==============================] - 83s 18ms/step - loss: 0.6483 - accuracy: 0.7206 - val_loss: 0.5737 - val_accuracy: 0.7616\n",
            "Epoch 5/7\n",
            "4513/4513 [==============================] - 83s 18ms/step - loss: 0.6188 - accuracy: 0.7374 - val_loss: 0.5410 - val_accuracy: 0.7742\n",
            "Epoch 6/7\n",
            "4513/4513 [==============================] - 83s 18ms/step - loss: 0.5957 - accuracy: 0.7483 - val_loss: 0.5356 - val_accuracy: 0.7752\n",
            "Epoch 7/7\n",
            "4513/4513 [==============================] - 83s 18ms/step - loss: 0.5750 - accuracy: 0.7593 - val_loss: 0.5167 - val_accuracy: 0.7860\n"
          ]
        }
      ],
      "source": [
        "history_of_model_with_pretext = model_with_pretext.fit(\n",
        "    x_train_unlabeled, \n",
        "    y_train_unlabeled, \n",
        "    epochs=7, \n",
        "    validation_data=(\n",
        "        x_val_unlabeled, \n",
        "        y_val_unlabeled)\n",
        ")"
      ]
    },
    {
      "cell_type": "code",
      "execution_count": 14,
      "metadata": {
        "id": "DruIvGBL8zQs",
        "colab": {
          "base_uri": "https://localhost:8080/",
          "height": 483
        },
        "outputId": "1e7d7467-024d-4c95-ad61-9b0c849ddb22"
      },
      "outputs": [
        {
          "output_type": "display_data",
          "data": {
            "image/png": "[encoded data removed]",
            "text/plain": [
              "<Figure size 720x576 with 2 Axes>"
            ]
          },
          "metadata": {}
        }
      ],
      "source": [
        "plot_helper(history_of_model_with_pretext)"
      ]
    },
    {
      "cell_type": "code",
      "execution_count": 15,
      "metadata": {
        "id": "ccFyiBv5Dorz"
      },
      "outputs": [],
      "source": [
        "model_with_pretext.pop()\n",
        "model_with_pretext.add(keras.layers.Dense(10, name='dense_2', activation='softmax'))"
      ]
    },
    {
      "cell_type": "code",
      "execution_count": 17,
      "metadata": {
        "id": "wNRpfoUsElW2"
      },
      "outputs": [],
      "source": [
        "#we should freez all cnn layers\n",
        "for layer in model_with_pretext.layers:\n",
        "  if layer.name in [\n",
        "                    'dense_2', \n",
        "                    'dense_1', \n",
        "                    'dense', \n",
        "                    'dropout', \n",
        "                    'dropout_1',\n",
        "                    'dropout_2',\n",
        "                    'dropout_3',\n",
        "                    'batch_normalization'\n",
        "                    'batch_normalization_1'\n",
        "                    'batch_normalization_2'\n",
        "                    'batch_normalization_3'\n",
        "                    'batch_normalization_4',\n",
        "                    'batch_normalization_5',\n",
        "                    'batch_normalization_6']:\n",
        "    layer.trainable=True\n",
        "  else:\n",
        "    layer.trainable=False"
      ]
    },
    {
      "cell_type": "code",
      "execution_count": 18,
      "metadata": {
        "id": "QPL3PphsEqw0",
        "colab": {
          "base_uri": "https://localhost:8080/"
        },
        "outputId": "87e3036a-f561-41ce-89bd-363364cd30e7"
      },
      "outputs": [
        {
          "output_type": "stream",
          "name": "stdout",
          "text": [
            "Model: \"sequential\"\n",
            "_________________________________________________________________\n",
            " Layer (type)                Output Shape              Param #   \n",
            "=================================================================\n",
            " conv2d (Conv2D)             (None, 32, 32, 32)        896       \n",
            "                                                                 \n",
            " batch_normalization (BatchN  (None, 32, 32, 32)       128       \n",
            " ormalization)                                                   \n",
            "                                                                 \n",
            " conv2d_1 (Conv2D)           (None, 32, 32, 32)        9248      \n",
            "                                                                 \n",
            " batch_normalization_1 (Batc  (None, 32, 32, 32)       128       \n",
            " hNormalization)                                                 \n",
            "                                                                 \n",
            " max_pooling2d (MaxPooling2D  (None, 16, 16, 32)       0         \n",
            " )                                                               \n",
            "                                                                 \n",
            " dropout (Dropout)           (None, 16, 16, 32)        0         \n",
            "                                                                 \n",
            " conv2d_2 (Conv2D)           (None, 16, 16, 64)        18496     \n",
            "                                                                 \n",
            " batch_normalization_2 (Batc  (None, 16, 16, 64)       256       \n",
            " hNormalization)                                                 \n",
            "                                                                 \n",
            " conv2d_3 (Conv2D)           (None, 16, 16, 64)        36928     \n",
            "                                                                 \n",
            " batch_normalization_3 (Batc  (None, 16, 16, 64)       256       \n",
            " hNormalization)                                                 \n",
            "                                                                 \n",
            " max_pooling2d_1 (MaxPooling  (None, 8, 8, 64)         0         \n",
            " 2D)                                                             \n",
            "                                                                 \n",
            " dropout_1 (Dropout)         (None, 8, 8, 64)          0         \n",
            "                                                                 \n",
            " conv2d_4 (Conv2D)           (None, 8, 8, 128)         73856     \n",
            "                                                                 \n",
            " batch_normalization_4 (Batc  (None, 8, 8, 128)        512       \n",
            " hNormalization)                                                 \n",
            "                                                                 \n",
            " conv2d_5 (Conv2D)           (None, 8, 8, 128)         147584    \n",
            "                                                                 \n",
            " batch_normalization_5 (Batc  (None, 8, 8, 128)        512       \n",
            " hNormalization)                                                 \n",
            "                                                                 \n",
            " max_pooling2d_2 (MaxPooling  (None, 4, 4, 128)        0         \n",
            " 2D)                                                             \n",
            "                                                                 \n",
            " dropout_2 (Dropout)         (None, 4, 4, 128)         0         \n",
            "                                                                 \n",
            " flatten (Flatten)           (None, 2048)              0         \n",
            "                                                                 \n",
            " dense (Dense)               (None, 128)               262272    \n",
            "                                                                 \n",
            " batch_normalization_6 (Batc  (None, 128)              512       \n",
            " hNormalization)                                                 \n",
            "                                                                 \n",
            " dropout_3 (Dropout)         (None, 128)               0         \n",
            "                                                                 \n",
            " dense_2 (Dense)             (None, 10)                1290      \n",
            "                                                                 \n",
            "=================================================================\n",
            "Total params: 552,874\n",
            "Trainable params: 264,074\n",
            "Non-trainable params: 288,800\n",
            "_________________________________________________________________\n"
          ]
        },
        {
          "output_type": "stream",
          "name": "stderr",
          "text": [
            "/usr/local/lib/python3.7/dist-packages/keras/optimizer_v2/gradient_descent.py:102: UserWarning: The `lr` argument is deprecated, use `learning_rate` instead.\n",
            "  super(SGD, self).__init__(name, **kwargs)\n"
          ]
        }
      ],
      "source": [
        "opt = tf.keras.optimizers.SGD(lr=0.001, momentum=0.9)\n",
        "model_with_pretext.compile(optimizer=opt, loss='sparse_categorical_crossentropy', metrics=['accuracy'])\n",
        "model_with_pretext.summary()"
      ]
    },
    {
      "cell_type": "code",
      "execution_count": 19,
      "metadata": {
        "id": "SFLMSjXnExbV",
        "colab": {
          "base_uri": "https://localhost:8080/"
        },
        "outputId": "364b3f1c-1f5d-4ad5-8039-e32259dc2bb7"
      },
      "outputs": [
        {
          "output_type": "stream",
          "name": "stdout",
          "text": [
            "Epoch 1/7\n",
            "7/7 [==============================] - 2s 111ms/step - loss: 3.1508 - accuracy: 0.1350 - val_loss: 2.6036 - val_accuracy: 0.1530\n",
            "Epoch 2/7\n",
            "7/7 [==============================] - 0s 64ms/step - loss: 3.2101 - accuracy: 0.1100 - val_loss: 2.4869 - val_accuracy: 0.1810\n",
            "Epoch 3/7\n",
            "7/7 [==============================] - 0s 63ms/step - loss: 3.0636 - accuracy: 0.1250 - val_loss: 2.3715 - val_accuracy: 0.2150\n",
            "Epoch 4/7\n",
            "7/7 [==============================] - 0s 64ms/step - loss: 2.8351 - accuracy: 0.1650 - val_loss: 2.2860 - val_accuracy: 0.2410\n",
            "Epoch 5/7\n",
            "7/7 [==============================] - 0s 64ms/step - loss: 2.6024 - accuracy: 0.1850 - val_loss: 2.2100 - val_accuracy: 0.2630\n",
            "Epoch 6/7\n",
            "7/7 [==============================] - 0s 49ms/step - loss: 2.5436 - accuracy: 0.2200 - val_loss: 2.1359 - val_accuracy: 0.2820\n",
            "Epoch 7/7\n",
            "7/7 [==============================] - 0s 63ms/step - loss: 2.1612 - accuracy: 0.2600 - val_loss: 2.0725 - val_accuracy: 0.2920\n"
          ]
        }
      ],
      "source": [
        "history_of_transfer_model_with_pretext = model_with_pretext.fit(\n",
        "    x_train, \n",
        "    y_train, \n",
        "    epochs=7, \n",
        "    validation_data=(\n",
        "        x_val, \n",
        "        y_val)\n",
        ")"
      ]
    },
    {
      "cell_type": "code",
      "execution_count": 20,
      "metadata": {
        "id": "DKcoEralE2e7",
        "colab": {
          "base_uri": "https://localhost:8080/",
          "height": 484
        },
        "outputId": "b8f13ad2-38df-41ec-d064-cdbd80beb065"
      },
      "outputs": [
        {
          "output_type": "display_data",
          "data": {
            "image/png": "[encoded data removed]",
            "text/plain": [
              "<Figure size 720x576 with 2 Axes>"
            ]
          },
          "metadata": {}
        }
      ],
      "source": [
        "plot_helper(history_of_transfer_model_with_pretext)"
      ]
    },
    {
      "cell_type": "code",
      "execution_count": 21,
      "metadata": {
        "id": "0CWtw2OPGnqU",
        "colab": {
          "base_uri": "https://localhost:8080/"
        },
        "outputId": "1cd6d1f7-1046-42c6-a00d-7f3c1511f87d"
      },
      "outputs": [
        {
          "output_type": "stream",
          "name": "stdout",
          "text": [
            "282/282 [==============================] - 2s 8ms/step - loss: 2.1121 - accuracy: 0.2834\n"
          ]
        },
        {
          "output_type": "execute_result",
          "data": {
            "text/plain": [
              "[2.1121413707733154, 0.28344443440437317]"
            ]
          },
          "metadata": {},
          "execution_count": 21
        }
      ],
      "source": [
        "model_with_pretext.evaluate(x_test, y_test)"
      ]
    },
    {
      "cell_type": "code",
      "source": [
        "IM_WIDTH = 32\n",
        "IM_HEIGHT = 32"
      ],
      "metadata": {
        "id": "N9zuus_2dYji"
      },
      "execution_count": 10,
      "outputs": []
    },
    {
      "cell_type": "code",
      "source": [
        "class CustomModel():\n",
        "    def make_default_hidden_layers(self, inputs):\n",
        "      x = tf.keras.layers.Conv2D(32, (3, 3), activation='relu', kernel_initializer='he_uniform', padding='same')(inputs)\n",
        "      x = tf.keras.layers.BatchNormalization()(x)\n",
        "    \n",
        "      x = tf.keras.layers.Conv2D(32, (3, 3), activation='relu', kernel_initializer='he_uniform', padding='same')(x)\n",
        "      x = tf.keras.layers.BatchNormalization()(x)\n",
        "      x = tf.keras.layers.MaxPooling2D((2, 2))(x)\n",
        "      x = tf.keras.layers.Dropout(0.2)(x)\n",
        "    \n",
        "      x = tf.keras.layers.Conv2D(64, (3, 3), activation='relu', kernel_initializer='he_uniform', padding='same')(x)\n",
        "      x = tf.keras.layers.BatchNormalization()(x)\n",
        "    \n",
        "      x = tf.keras.layers.Conv2D(64, (3, 3), activation='relu', kernel_initializer='he_uniform', padding='same')(x)\n",
        "      x = tf.keras.layers.BatchNormalization()(x)\n",
        "      x = tf.keras.layers.MaxPooling2D((2, 2))(x)\n",
        "      x = tf.keras.layers.Dropout(0.3)(x)\n",
        "    \n",
        "      x = tf.keras.layers.Conv2D(128, (3, 3), activation='relu', kernel_initializer='he_uniform', padding='same')(x)\n",
        "      x = tf.keras.layers.BatchNormalization()(x)\n",
        "    \n",
        "      x = tf.keras.layers.Conv2D(128, (3, 3), activation='relu', kernel_initializer='he_uniform', padding='same')(x)\n",
        "      x = tf.keras.layers.BatchNormalization()(x)\n",
        "      x = tf.keras.layers.MaxPooling2D((2, 2))(x)\n",
        "      x = tf.keras.layers.Dropout(0.4)(x)\n",
        "    \n",
        "      x = tf.keras.layers.Flatten()(x)\n",
        "      x = tf.keras.layers.Dense(128, activation='relu', kernel_initializer='he_uniform')(x)\n",
        "      x = tf.keras.layers.BatchNormalization()(x)\n",
        "      x = tf.keras.layers.Dropout(0.5)(x)\n",
        "\n",
        "      return x\n",
        "\n",
        "    def build_labeled(self, inputs, number_of_layers):\n",
        "        x = self.make_default_hidden_layers(inputs)\n",
        "        x = tf.keras.layers.Dense(number_of_layers, activation='softmax', name=\"labeled\")(x)\n",
        "        return x\n",
        "\n",
        "    def build_unlabeled(self, inputs, number_of_layers):\n",
        "        x = self.make_default_hidden_layers(inputs)\n",
        "        x = tf.keras.layers.Dense(number_of_layers, activation='softmax', name=\"unlabeled\")(x)\n",
        "        return x\n",
        "\n",
        "    def assemble_full_model(self, width, height, number_of_layers_labeled, number_of_layers_unlabeled):\n",
        "        \"\"\"\n",
        "        Used to assemble our multi-output model CNN.\n",
        "        \"\"\"\n",
        "        input_shape = (height, width, 3)\n",
        "        print(input_shape)\n",
        "        inputs = tf.keras.Input(shape=input_shape)\n",
        "        \n",
        "        image = self.build_labeled(inputs, number_of_layers_labeled)\n",
        "        angel_detection = self.build_unlabeled(inputs, number_of_layers_unlabeled)\n",
        "\n",
        "        model = tf.keras.Model(inputs=inputs,\n",
        "                     outputs = [image, angel_detection])\n",
        "        return model"
      ],
      "metadata": {
        "id": "qakUb25pbipj"
      },
      "execution_count": 11,
      "outputs": []
    },
    {
      "cell_type": "code",
      "source": [
        "print(x_train_original.shape)\n",
        "print(y_train.shape)\n",
        "\n",
        "combined_model = CustomModel().assemble_full_model(IM_WIDTH, IM_HEIGHT, number_of_layers_labeled=10, number_of_layers_unlabeled=4)\n",
        "\n",
        "opt = tf.keras.optimizers.SGD(lr=0.001, momentum=0.9)\n",
        "combined_model.compile(optimizer=opt, loss='sparse_categorical_crossentropy', metrics=['accuracy'])\n",
        "combined_model.summary()\n",
        "\n",
        "# class_weight={'labeled':[]}\n",
        "\n",
        "combined_model.compile(optimizer=opt, \n",
        "              loss={\n",
        "                  'labeled': 'categorical_crossentropy', \n",
        "                  'unlabeled': 'sparse_categorical_crossentropy'},\n",
        "              metrics={\n",
        "                  'labeled': 'accuracy',\n",
        "                  'unlabeled': 'accuracy'}\n",
        "              # class_weight=class_weight\n",
        ")\n"
      ],
      "metadata": {
        "colab": {
          "base_uri": "https://localhost:8080/"
        },
        "id": "zQ8MQkdBdi2_",
        "outputId": "d5da8526-fc9c-4ac6-988e-a19669c98802"
      },
      "execution_count": 12,
      "outputs": [
        {
          "output_type": "stream",
          "name": "stdout",
          "text": [
            "(50000, 32, 32, 3)\n",
            "(200, 1)\n",
            "(32, 32, 3)\n",
            "Model: \"model\"\n",
            "__________________________________________________________________________________________________\n",
            " Layer (type)                   Output Shape         Param #     Connected to                     \n",
            "==================================================================================================\n",
            " input_1 (InputLayer)           [(None, 32, 32, 3)]  0           []                               \n",
            "                                                                                                  \n",
            " conv2d (Conv2D)                (None, 32, 32, 32)   896         ['input_1[0][0]']                \n",
            "                                                                                                  \n",
            " conv2d_6 (Conv2D)              (None, 32, 32, 32)   896         ['input_1[0][0]']                \n",
            "                                                                                                  \n",
            " batch_normalization (BatchNorm  (None, 32, 32, 32)  128         ['conv2d[0][0]']                 \n",
            " alization)                                                                                       \n",
            "                                                                                                  \n",
            " batch_normalization_7 (BatchNo  (None, 32, 32, 32)  128         ['conv2d_6[0][0]']               \n",
            " rmalization)                                                                                     \n",
            "                                                                                                  \n",
            " conv2d_1 (Conv2D)              (None, 32, 32, 32)   9248        ['batch_normalization[0][0]']    \n",
            "                                                                                                  \n",
            " conv2d_7 (Conv2D)              (None, 32, 32, 32)   9248        ['batch_normalization_7[0][0]']  \n",
            "                                                                                                  \n",
            " batch_normalization_1 (BatchNo  (None, 32, 32, 32)  128         ['conv2d_1[0][0]']               \n",
            " rmalization)                                                                                     \n",
            "                                                                                                  \n",
            " batch_normalization_8 (BatchNo  (None, 32, 32, 32)  128         ['conv2d_7[0][0]']               \n",
            " rmalization)                                                                                     \n",
            "                                                                                                  \n",
            " max_pooling2d (MaxPooling2D)   (None, 16, 16, 32)   0           ['batch_normalization_1[0][0]']  \n",
            "                                                                                                  \n",
            " max_pooling2d_3 (MaxPooling2D)  (None, 16, 16, 32)  0           ['batch_normalization_8[0][0]']  \n",
            "                                                                                                  \n",
            " dropout (Dropout)              (None, 16, 16, 32)   0           ['max_pooling2d[0][0]']          \n",
            "                                                                                                  \n",
            " dropout_4 (Dropout)            (None, 16, 16, 32)   0           ['max_pooling2d_3[0][0]']        \n",
            "                                                                                                  \n",
            " conv2d_2 (Conv2D)              (None, 16, 16, 64)   18496       ['dropout[0][0]']                \n",
            "                                                                                                  \n",
            " conv2d_8 (Conv2D)              (None, 16, 16, 64)   18496       ['dropout_4[0][0]']              \n",
            "                                                                                                  \n",
            " batch_normalization_2 (BatchNo  (None, 16, 16, 64)  256         ['conv2d_2[0][0]']               \n",
            " rmalization)                                                                                     \n",
            "                                                                                                  \n",
            " batch_normalization_9 (BatchNo  (None, 16, 16, 64)  256         ['conv2d_8[0][0]']               \n",
            " rmalization)                                                                                     \n",
            "                                                                                                  \n",
            " conv2d_3 (Conv2D)              (None, 16, 16, 64)   36928       ['batch_normalization_2[0][0]']  \n",
            "                                                                                                  \n",
            " conv2d_9 (Conv2D)              (None, 16, 16, 64)   36928       ['batch_normalization_9[0][0]']  \n",
            "                                                                                                  \n",
            " batch_normalization_3 (BatchNo  (None, 16, 16, 64)  256         ['conv2d_3[0][0]']               \n",
            " rmalization)                                                                                     \n",
            "                                                                                                  \n",
            " batch_normalization_10 (BatchN  (None, 16, 16, 64)  256         ['conv2d_9[0][0]']               \n",
            " ormalization)                                                                                    \n",
            "                                                                                                  \n",
            " max_pooling2d_1 (MaxPooling2D)  (None, 8, 8, 64)    0           ['batch_normalization_3[0][0]']  \n",
            "                                                                                                  \n",
            " max_pooling2d_4 (MaxPooling2D)  (None, 8, 8, 64)    0           ['batch_normalization_10[0][0]'] \n",
            "                                                                                                  \n",
            " dropout_1 (Dropout)            (None, 8, 8, 64)     0           ['max_pooling2d_1[0][0]']        \n",
            "                                                                                                  \n",
            " dropout_5 (Dropout)            (None, 8, 8, 64)     0           ['max_pooling2d_4[0][0]']        \n",
            "                                                                                                  \n",
            " conv2d_4 (Conv2D)              (None, 8, 8, 128)    73856       ['dropout_1[0][0]']              \n",
            "                                                                                                  \n",
            " conv2d_10 (Conv2D)             (None, 8, 8, 128)    73856       ['dropout_5[0][0]']              \n",
            "                                                                                                  \n",
            " batch_normalization_4 (BatchNo  (None, 8, 8, 128)   512         ['conv2d_4[0][0]']               \n",
            " rmalization)                                                                                     \n",
            "                                                                                                  \n",
            " batch_normalization_11 (BatchN  (None, 8, 8, 128)   512         ['conv2d_10[0][0]']              \n",
            " ormalization)                                                                                    \n",
            "                                                                                                  \n",
            " conv2d_5 (Conv2D)              (None, 8, 8, 128)    147584      ['batch_normalization_4[0][0]']  \n",
            "                                                                                                  \n",
            " conv2d_11 (Conv2D)             (None, 8, 8, 128)    147584      ['batch_normalization_11[0][0]'] \n",
            "                                                                                                  \n",
            " batch_normalization_5 (BatchNo  (None, 8, 8, 128)   512         ['conv2d_5[0][0]']               \n",
            " rmalization)                                                                                     \n",
            "                                                                                                  \n",
            " batch_normalization_12 (BatchN  (None, 8, 8, 128)   512         ['conv2d_11[0][0]']              \n",
            " ormalization)                                                                                    \n",
            "                                                                                                  \n",
            " max_pooling2d_2 (MaxPooling2D)  (None, 4, 4, 128)   0           ['batch_normalization_5[0][0]']  \n",
            "                                                                                                  \n",
            " max_pooling2d_5 (MaxPooling2D)  (None, 4, 4, 128)   0           ['batch_normalization_12[0][0]'] \n",
            "                                                                                                  \n",
            " dropout_2 (Dropout)            (None, 4, 4, 128)    0           ['max_pooling2d_2[0][0]']        \n",
            "                                                                                                  \n",
            " dropout_6 (Dropout)            (None, 4, 4, 128)    0           ['max_pooling2d_5[0][0]']        \n",
            "                                                                                                  \n",
            " flatten (Flatten)              (None, 2048)         0           ['dropout_2[0][0]']              \n",
            "                                                                                                  \n",
            " flatten_1 (Flatten)            (None, 2048)         0           ['dropout_6[0][0]']              \n",
            "                                                                                                  \n",
            " dense (Dense)                  (None, 128)          262272      ['flatten[0][0]']                \n",
            "                                                                                                  \n",
            " dense_1 (Dense)                (None, 128)          262272      ['flatten_1[0][0]']              \n",
            "                                                                                                  \n",
            " batch_normalization_6 (BatchNo  (None, 128)         512         ['dense[0][0]']                  \n",
            " rmalization)                                                                                     \n",
            "                                                                                                  \n",
            " batch_normalization_13 (BatchN  (None, 128)         512         ['dense_1[0][0]']                \n",
            " ormalization)                                                                                    \n",
            "                                                                                                  \n",
            " dropout_3 (Dropout)            (None, 128)          0           ['batch_normalization_6[0][0]']  \n",
            "                                                                                                  \n",
            " dropout_7 (Dropout)            (None, 128)          0           ['batch_normalization_13[0][0]'] \n",
            "                                                                                                  \n",
            " labeled (Dense)                (None, 10)           1290        ['dropout_3[0][0]']              \n",
            "                                                                                                  \n",
            " unlabeled (Dense)              (None, 4)            516         ['dropout_7[0][0]']              \n",
            "                                                                                                  \n",
            "==================================================================================================\n",
            "Total params: 1,104,974\n",
            "Trainable params: 1,102,670\n",
            "Non-trainable params: 2,304\n",
            "__________________________________________________________________________________________________\n"
          ]
        },
        {
          "output_type": "stream",
          "name": "stderr",
          "text": [
            "/usr/local/lib/python3.7/dist-packages/keras/optimizer_v2/gradient_descent.py:102: UserWarning: The `lr` argument is deprecated, use `learning_rate` instead.\n",
            "  super(SGD, self).__init__(name, **kwargs)\n"
          ]
        }
      ]
    },
    {
      "cell_type": "code",
      "source": [
        "x_last = np.concatenate(\n",
        "    (x_train_unlabeled, x_train), \n",
        "     axis=0\n",
        ")\n",
        "print(x_last.shape)"
      ],
      "metadata": {
        "colab": {
          "base_uri": "https://localhost:8080/"
        },
        "id": "wNCfO1Le1KE9",
        "outputId": "f12b3245-e0a6-4707-db85-b7d2943140e1"
      },
      "execution_count": 13,
      "outputs": [
        {
          "output_type": "stream",
          "name": "stdout",
          "text": [
            "(144600, 32, 32, 3)\n"
          ]
        }
      ]
    },
    {
      "cell_type": "code",
      "source": [
        "history_of_model_with_multi_output = combined_model.fit(\n",
        "    x_last, \n",
        "    y={\"labeled\": y_train, \"unlabeled\": y_train_unlabeled},\n",
        "    epochs=7\n",
        ")"
      ],
      "metadata": {
        "id": "Ld5WRmoMjtjO"
      },
      "execution_count": null,
      "outputs": []
    },
    {
      "cell_type": "code",
      "source": [
        "plot_helper(history_of_model_with_multi_output)"
      ],
      "metadata": {
        "id": "djqizKk1jq12"
      },
      "execution_count": null,
      "outputs": []
    },
    {
      "cell_type": "code",
      "source": [
        "combined_model.evaluate(x_test, y_test)"
      ],
      "metadata": {
        "id": "5GLX0qvejyyP"
      },
      "execution_count": null,
      "outputs": []
    }
  ],
  "metadata": {
    "colab": {
      "collapsed_sections": [],
      "name": "DNN_HW13.ipynb",
      "provenance": []
    },
    "kernelspec": {
      "display_name": "Python 3",
      "name": "python3"
    },
    "accelerator": "GPU"
  },
  "nbformat": 4,
  "nbformat_minor": 0
}